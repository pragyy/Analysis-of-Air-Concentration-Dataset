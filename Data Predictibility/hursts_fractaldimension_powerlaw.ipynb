{
 "cells": [
  {
   "cell_type": "markdown",
   "metadata": {},
   "source": [
    "# HURST EXPONENT"
   ]
  },
  {
   "cell_type": "markdown",
   "metadata": {},
   "source": [
    "<b>A Brownian time series: </b> In a Brownian time series (also known as a random walk or a drunkard’s walk) there is no correlation between the observations and a future observation; being higher or lower than the current observation are equally likely. Series of this kind are hard to predict. Hurst exponent close to <b>0.5</b> is indicative of a Brownian time series.\n",
    "<br>\n",
    "<b>An anti-persistent time series:</b> In an anti-persistent time series (also known as a mean-reverting series) an increase will most likely be followed by a decrease or vice-versa (i.e., values will tend to revert to a mean). This means that future values have a tendency to return to a long-term mean. Hurst exponent value between 0 and 0.5 is indicative of anti-persistent behavior and the <b>closer the value is to 0</b>, the stronger is the tendency for the time series to revert to its long-term means value.\n",
    "<br>\n",
    "<b>A persistent time series:</b>In a persistent time series an increase in values will most likely be followed by an increase in the short term and a decrease in values will most likely be followed by another decrease in the short term. Hurst exponent value <b>between 0.5 and 1.0</b> indicates persistent behavior; the larger the H value the stronger the trend."
   ]
  },
  {
   "cell_type": "code",
   "execution_count": 1,
   "metadata": {},
   "outputs": [
    {
     "name": "stdout",
     "output_type": "stream",
     "text": [
      "Requirement already satisfied: hurst in c:\\anaconda\\lib\\site-packages (0.0.5)\n",
      "Requirement already satisfied: numpy>=1.10 in c:\\anaconda\\lib\\site-packages (from hurst) (1.16.5)\n",
      "Requirement already satisfied: pandas>=0.18 in c:\\anaconda\\lib\\site-packages (from hurst) (0.25.1)\n",
      "Requirement already satisfied: python-dateutil>=2.6.1 in c:\\anaconda\\lib\\site-packages (from pandas>=0.18->hurst) (2.8.0)\n",
      "Requirement already satisfied: pytz>=2017.2 in c:\\anaconda\\lib\\site-packages (from pandas>=0.18->hurst) (2019.3)\n",
      "Requirement already satisfied: six>=1.5 in c:\\anaconda\\lib\\site-packages (from python-dateutil>=2.6.1->pandas>=0.18->hurst) (1.12.0)\n"
     ]
    }
   ],
   "source": [
    "!pip install hurst"
   ]
  },
  {
   "cell_type": "code",
   "execution_count": 2,
   "metadata": {},
   "outputs": [],
   "source": [
    "#Importing packages\n",
    "import numpy as np\n",
    "import matplotlib.pyplot as plt\n",
    "from hurst import compute_Hc, random_walk\n",
    "import pandas as pd"
   ]
  },
  {
   "cell_type": "code",
   "execution_count": 3,
   "metadata": {},
   "outputs": [
    {
     "data": {
      "text/html": [
       "<div>\n",
       "<style scoped>\n",
       "    .dataframe tbody tr th:only-of-type {\n",
       "        vertical-align: middle;\n",
       "    }\n",
       "\n",
       "    .dataframe tbody tr th {\n",
       "        vertical-align: top;\n",
       "    }\n",
       "\n",
       "    .dataframe thead th {\n",
       "        text-align: right;\n",
       "    }\n",
       "</style>\n",
       "<table border=\"1\" class=\"dataframe\">\n",
       "  <thead>\n",
       "    <tr style=\"text-align: right;\">\n",
       "      <th></th>\n",
       "      <th>date</th>\n",
       "      <th>so2</th>\n",
       "      <th>no2</th>\n",
       "      <th>rspm</th>\n",
       "      <th>spm</th>\n",
       "    </tr>\n",
       "  </thead>\n",
       "  <tbody>\n",
       "    <tr>\n",
       "      <td>0</td>\n",
       "      <td>2004-01-01</td>\n",
       "      <td>6.433505</td>\n",
       "      <td>58.231014</td>\n",
       "      <td>238.330000</td>\n",
       "      <td>398.000000</td>\n",
       "    </tr>\n",
       "    <tr>\n",
       "      <td>1</td>\n",
       "      <td>2004-01-02</td>\n",
       "      <td>6.433505</td>\n",
       "      <td>58.231014</td>\n",
       "      <td>182.915000</td>\n",
       "      <td>346.500000</td>\n",
       "    </tr>\n",
       "    <tr>\n",
       "      <td>2</td>\n",
       "      <td>2004-01-03</td>\n",
       "      <td>6.433505</td>\n",
       "      <td>58.231014</td>\n",
       "      <td>136.960411</td>\n",
       "      <td>343.926778</td>\n",
       "    </tr>\n",
       "    <tr>\n",
       "      <td>3</td>\n",
       "      <td>2004-01-04</td>\n",
       "      <td>6.433505</td>\n",
       "      <td>58.231014</td>\n",
       "      <td>136.960411</td>\n",
       "      <td>343.926778</td>\n",
       "    </tr>\n",
       "    <tr>\n",
       "      <td>4</td>\n",
       "      <td>2004-01-05</td>\n",
       "      <td>6.433505</td>\n",
       "      <td>58.231014</td>\n",
       "      <td>160.000000</td>\n",
       "      <td>340.000000</td>\n",
       "    </tr>\n",
       "  </tbody>\n",
       "</table>\n",
       "</div>"
      ],
      "text/plain": [
       "         date       so2        no2        rspm         spm\n",
       "0  2004-01-01  6.433505  58.231014  238.330000  398.000000\n",
       "1  2004-01-02  6.433505  58.231014  182.915000  346.500000\n",
       "2  2004-01-03  6.433505  58.231014  136.960411  343.926778\n",
       "3  2004-01-04  6.433505  58.231014  136.960411  343.926778\n",
       "4  2004-01-05  6.433505  58.231014  160.000000  340.000000"
      ]
     },
     "execution_count": 3,
     "metadata": {},
     "output_type": "execute_result"
    }
   ],
   "source": [
    "df = pd.read_csv('abc.csv')\n",
    "df.head()"
   ]
  },
  {
   "cell_type": "code",
   "execution_count": 4,
   "metadata": {},
   "outputs": [],
   "source": [
    "#storing each column in dataframe\n",
    "no2 = df['no2']\n",
    "so2 = df['so2']\n",
    "rspm = df['rspm']\n",
    "spm = df['spm']"
   ]
  },
  {
   "cell_type": "markdown",
   "metadata": {},
   "source": [
    "### NO2"
   ]
  },
  {
   "cell_type": "code",
   "execution_count": 5,
   "metadata": {},
   "outputs": [
    {
     "data": {
      "image/png": "[encoded data removed]",
      "text/plain": [
       "<Figure size 432x288 with 1 Axes>"
      ]
     },
     "metadata": {
      "needs_background": "light"
     },
     "output_type": "display_data"
    }
   ],
   "source": [
    "#ploting graph \n",
    "plt.plot(no2)\n",
    "plt.show()"
   ]
  },
  {
   "cell_type": "code",
   "execution_count": 6,
   "metadata": {},
   "outputs": [
    {
     "data": {
      "image/png": "[encoded data removed]",
      "text/plain": [
       "<Figure size 432x288 with 1 Axes>"
      ]
     },
     "metadata": {
      "needs_background": "light"
     },
     "output_type": "display_data"
    },
    {
     "name": "stdout",
     "output_type": "stream",
     "text": [
      "H=0.4431, c=1.2143\n"
     ]
    }
   ],
   "source": [
    "#calculating hurst exponent for no2\n",
    "H_no2, c, data = compute_Hc(no2, kind='price')\n",
    "f, ax = plt.subplots()\n",
    "ax.plot(data[0], c*data[0]**H_no2, color=\"deepskyblue\")\n",
    "ax.scatter(data[0], data[1], color=\"purple\")\n",
    "ax.set_xscale('log')\n",
    "ax.set_yscale('log')\n",
    "ax.set_xlabel('Time interval')\n",
    "ax.set_ylabel('R/S ratio')\n",
    "ax.grid(True)\n",
    "plt.show()\n",
    "\n",
    "print(\"H={:.4f}, c={:.4f}\".format(H_no2,c))"
   ]
  },
  {
   "cell_type": "markdown",
   "metadata": {},
   "source": [
    "### SO2"
   ]
  },
  {
   "cell_type": "code",
   "execution_count": 7,
   "metadata": {},
   "outputs": [
    {
     "data": {
      "image/png": "[encoded data removed]",
      "text/plain": [
       "<Figure size 432x288 with 1 Axes>"
      ]
     },
     "metadata": {
      "needs_background": "light"
     },
     "output_type": "display_data"
    }
   ],
   "source": [
    "#ploting graph\n",
    "plt.plot(so2)\n",
    "plt.show()"
   ]
  },
  {
   "cell_type": "code",
   "execution_count": 8,
   "metadata": {},
   "outputs": [
    {
     "data": {
      "image/png": "[encoded data removed]",
      "text/plain": [
       "<Figure size 432x288 with 1 Axes>"
      ]
     },
     "metadata": {
      "needs_background": "light"
     },
     "output_type": "display_data"
    },
    {
     "name": "stdout",
     "output_type": "stream",
     "text": [
      "H=0.4349, c=1.4844\n"
     ]
    }
   ],
   "source": [
    "#calculating hurst exponent for so2\n",
    "H_so2, c, data = compute_Hc(so2, kind='price')\n",
    "f, ax = plt.subplots()\n",
    "ax.plot(data[0], c*data[0]**H_so2, color=\"deepskyblue\")\n",
    "ax.scatter(data[0], data[1], color=\"purple\")\n",
    "ax.set_xscale('log')\n",
    "ax.set_yscale('log')\n",
    "ax.set_xlabel('Time interval')\n",
    "ax.set_ylabel('R/S ratio')\n",
    "ax.grid(True)\n",
    "plt.show()\n",
    "print(\"H={:.4f}, c={:.4f}\".format(H_so2,c))"
   ]
  },
  {
   "cell_type": "markdown",
   "metadata": {},
   "source": [
    "### SPM"
   ]
  },
  {
   "cell_type": "code",
   "execution_count": 9,
   "metadata": {},
   "outputs": [
    {
     "data": {
      "image/png": "[encoded data removed]",
      "text/plain": [
       "<Figure size 432x288 with 1 Axes>"
      ]
     },
     "metadata": {
      "needs_background": "light"
     },
     "output_type": "display_data"
    }
   ],
   "source": [
    "#ploting graph\n",
    "plt.plot(spm)\n",
    "plt.show()"
   ]
  },
  {
   "cell_type": "code",
   "execution_count": 10,
   "metadata": {},
   "outputs": [
    {
     "data": {
      "image/png": "[encoded data removed]",
      "text/plain": [
       "<Figure size 432x288 with 1 Axes>"
      ]
     },
     "metadata": {
      "needs_background": "light"
     },
     "output_type": "display_data"
    },
    {
     "name": "stdout",
     "output_type": "stream",
     "text": [
      "H=0.4833, c=1.4060\n"
     ]
    }
   ],
   "source": [
    "#calculating hurst exponent for spm\n",
    "H_spm, c, data = compute_Hc(spm, kind='price')\n",
    "f, ax = plt.subplots()\n",
    "ax.plot(data[0], c*data[0]**H_spm, color=\"deepskyblue\")\n",
    "ax.scatter(data[0], data[1], color=\"purple\")\n",
    "ax.set_xscale('log')\n",
    "ax.set_yscale('log')\n",
    "ax.set_xlabel('Time interval')\n",
    "ax.set_ylabel('R/S ratio')\n",
    "ax.grid(True)\n",
    "plt.show()\n",
    "\n",
    "print(\"H={:.4f}, c={:.4f}\".format(H_spm,c))"
   ]
  },
  {
   "cell_type": "markdown",
   "metadata": {},
   "source": [
    "### RPSM"
   ]
  },
  {
   "cell_type": "code",
   "execution_count": 11,
   "metadata": {},
   "outputs": [
    {
     "data": {
      "image/png": "[encoded data removed]",
      "text/plain": [
       "<Figure size 432x288 with 1 Axes>"
      ]
     },
     "metadata": {
      "needs_background": "light"
     },
     "output_type": "display_data"
    }
   ],
   "source": [
    "#ploting graph\n",
    "plt.plot(rspm)\n",
    "plt.show()"
   ]
  },
  {
   "cell_type": "code",
   "execution_count": 12,
   "metadata": {
    "scrolled": true
   },
   "outputs": [
    {
     "data": {
      "image/png": "[encoded data removed]",
      "text/plain": [
       "<Figure size 432x288 with 1 Axes>"
      ]
     },
     "metadata": {
      "needs_background": "light"
     },
     "output_type": "display_data"
    },
    {
     "name": "stdout",
     "output_type": "stream",
     "text": [
      "H=0.4531, c=1.5706\n"
     ]
    }
   ],
   "source": [
    "#calculating hurst exponent for rspm\n",
    "H_rspm, c, data = compute_Hc(rspm, kind='price')\n",
    "f, ax = plt.subplots()\n",
    "ax.plot(data[0], c*data[0]**H_rspm, color=\"deepskyblue\")\n",
    "ax.scatter(data[0], data[1], color=\"purple\")\n",
    "ax.set_xscale('log')\n",
    "ax.set_yscale('log')\n",
    "ax.set_xlabel('Time interval')\n",
    "ax.set_ylabel('R/S ratio')\n",
    "ax.grid(True)\n",
    "plt.show()\n",
    "print(\"H={:.4f}, c={:.4f}\".format(H_rspm,c))"
   ]
  },
  {
   "cell_type": "markdown",
   "metadata": {},
   "source": [
    "Here the Hurst exponent values for our parameters are:\n",
    "<br>Hurst exponent for So2 = 0.4290, it indicates that it is anti-persistant in nature \n",
    "<br>Hurst exponent for no2 = H=0.4344, it indicates that it is anti persistant in nature\n",
    "<br>Hurst exponent for Spm = 0.4860, it indicates that it is brownian time series\n",
    "<br>Hurst exponent for rspm = 0.4506, it indicates that rspm is brownian time series"
   ]
  },
  {
   "cell_type": "markdown",
   "metadata": {},
   "source": [
    "# FRACTAL DIMENSION"
   ]
  },
  {
   "cell_type": "markdown",
   "metadata": {},
   "source": [
    "D = 2 - H "
   ]
  },
  {
   "cell_type": "code",
   "execution_count": 13,
   "metadata": {},
   "outputs": [
    {
     "name": "stdout",
     "output_type": "stream",
     "text": [
      "D = 1.5569\n"
     ]
    }
   ],
   "source": [
    "# fractal dimension for no2\n",
    "D_no2 = 2 - H_no2\n",
    "print(\"D = {:.4f}\".format(D_no2))"
   ]
  },
  {
   "cell_type": "code",
   "execution_count": 14,
   "metadata": {},
   "outputs": [
    {
     "name": "stdout",
     "output_type": "stream",
     "text": [
      "D = 1.5651\n"
     ]
    }
   ],
   "source": [
    "# fractal dimension for so2\n",
    "D_so2 = 2 - H_so2\n",
    "print(\"D = {:.4f}\".format(D_so2))"
   ]
  },
  {
   "cell_type": "code",
   "execution_count": 15,
   "metadata": {},
   "outputs": [
    {
     "name": "stdout",
     "output_type": "stream",
     "text": [
      "D = 1.5167\n"
     ]
    }
   ],
   "source": [
    "# fractal dimension for spm\n",
    "D_spm = 2 - H_spm\n",
    "print(\"D = {:.4f}\".format(D_spm))"
   ]
  },
  {
   "cell_type": "code",
   "execution_count": 16,
   "metadata": {},
   "outputs": [
    {
     "name": "stdout",
     "output_type": "stream",
     "text": [
      "D = 1.5469\n"
     ]
    }
   ],
   "source": [
    "# fractal dimension for rspm\n",
    "D_rspm = 2 - H_rspm\n",
    "print(\"D = {:.4f}\".format(D_rspm))"
   ]
  },
  {
   "cell_type": "markdown",
   "metadata": {},
   "source": [
    "# POWER LAW INDEX"
   ]
  },
  {
   "cell_type": "markdown",
   "metadata": {},
   "source": [
    "b = 2*H + 1 = 5 - 2*D....................(1)\n",
    "<br>where, <br>D = Fractal Dimension\n",
    "       <br>H = Hausdorff Measure<br>\n",
    "       \n",
    "<br>if 1 <= b <= 3, then D = (5-b)/2\n",
    "<br>if b->0, then D->2....................(2)\n",
    "<br>if b->3, then D->1....................(3)\n",
    "\n",
    "<br>use equation 1,2 and 3 for analysing fractal dimension, D belongs to [1,2]"
   ]
  },
  {
   "cell_type": "markdown",
   "metadata": {},
   "source": [
    "here <b>b</b> represents <b>beta</b>\n",
    "\n",
    "if b = 0\n",
    "<br>white noise, uncorrelated and power spectrum independant of frequency.<br>\n",
    "<br>if b = 1\n",
    "<br>flicker of 1/f noise systems, moderately correlated.<br>\n",
    "<br>if b = 2\n",
    "<br>brownian noise like systems, strongly correlated."
   ]
  },
  {
   "cell_type": "code",
   "execution_count": 17,
   "metadata": {},
   "outputs": [
    {
     "name": "stdout",
     "output_type": "stream",
     "text": [
      "1.8862183860251993\n"
     ]
    }
   ],
   "source": [
    "#calculating beta for no2\n",
    "b_no2 = 5 - (2 * D_no2)\n",
    "print(b_no2)"
   ]
  },
  {
   "cell_type": "code",
   "execution_count": 18,
   "metadata": {},
   "outputs": [
    {
     "name": "stdout",
     "output_type": "stream",
     "text": [
      "1.8697414987080596\n"
     ]
    }
   ],
   "source": [
    "#calculating beta for so2\n",
    "b_so2 = 5 - (2 * D_so2)\n",
    "print(b_so2)"
   ]
  },
  {
   "cell_type": "code",
   "execution_count": 19,
   "metadata": {},
   "outputs": [
    {
     "name": "stdout",
     "output_type": "stream",
     "text": [
      "1.9062648883918447\n"
     ]
    }
   ],
   "source": [
    "#calculating beta for rspm\n",
    "b_rspm = 5 - (2 * D_rspm)\n",
    "print(b_rspm)"
   ]
  },
  {
   "cell_type": "code",
   "execution_count": 20,
   "metadata": {},
   "outputs": [
    {
     "name": "stdout",
     "output_type": "stream",
     "text": [
      "1.9666765264457275\n"
     ]
    }
   ],
   "source": [
    "#calculating beta for spm\n",
    "b_spm = 5 - (2 * D_spm)\n",
    "print(b_spm)"
   ]
  },
  {
   "cell_type": "markdown",
   "metadata": {},
   "source": [
    "Here for all the variables, D ~ 2. Thus, we can conclude that our data have brownian noise in it and all the variables are strongly correlated.  "
   ]
  },
  {
   "cell_type": "markdown",
   "metadata": {},
   "source": [
    "## References\n",
    "\n",
    "<a> http://analytics-magazine.org/the-hurst-exponent-predictability-of-time-series/ </a><br>\n",
    "<a> http://msme.us/2011-1-2.pdf </a><br>\n",
    "<a> http://cinc.mit.edu/archives/2010/pdf/0935.pdf </a><br>\n",
    "<a> https://iopscience.iop.org/article/10.1088/1742-6596/475/1/012002/pdf </a> <br>\n",
    "<a> https://pdfs.semanticscholar.org/fbc7/134eb399ec73d8ccf9aaf36422dc9c4e405e.pdf </a>\n"
   ]
  }
 ],
 "metadata": {
  "kernelspec": {
   "display_name": "Python 3",
   "language": "python",
   "name": "python3"
  },
  "language_info": {
   "codemirror_mode": {
    "name": "ipython",
    "version": 3
   },
   "file_extension": ".py",
   "mimetype": "text/x-python",
   "name": "python",
   "nbconvert_exporter": "python",
   "pygments_lexer": "ipython3",
   "version": "3.7.4"
  }
 },
 "nbformat": 4,
 "nbformat_minor": 2
}
