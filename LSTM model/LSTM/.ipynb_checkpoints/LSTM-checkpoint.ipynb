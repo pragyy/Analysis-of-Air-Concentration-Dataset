{
 "cells": [
  {
   "cell_type": "markdown",
   "metadata": {},
   "source": [
    "## 1. Creating our dataframe"
   ]
  },
  {
   "cell_type": "markdown",
   "metadata": {},
   "source": [
    "### Importing relevant library"
   ]
  },
  {
   "cell_type": "code",
   "execution_count": 1,
   "metadata": {},
   "outputs": [],
   "source": [
    "import pandas as pd\n",
    "import os"
   ]
  },
  {
   "cell_type": "markdown",
   "metadata": {},
   "source": [
    "### Loading the dataset"
   ]
  },
  {
   "cell_type": "code",
   "execution_count": 2,
   "metadata": {},
   "outputs": [
    {
     "data": {
      "text/html": [
       "<div>\n",
       "<style scoped>\n",
       "    .dataframe tbody tr th:only-of-type {\n",
       "        vertical-align: middle;\n",
       "    }\n",
       "\n",
       "    .dataframe tbody tr th {\n",
       "        vertical-align: top;\n",
       "    }\n",
       "\n",
       "    .dataframe thead th {\n",
       "        text-align: right;\n",
       "    }\n",
       "</style>\n",
       "<table border=\"1\" class=\"dataframe\">\n",
       "  <thead>\n",
       "    <tr style=\"text-align: right;\">\n",
       "      <th></th>\n",
       "      <th>so2</th>\n",
       "      <th>no2</th>\n",
       "      <th>rspm</th>\n",
       "      <th>spm</th>\n",
       "      <th>aqi</th>\n",
       "    </tr>\n",
       "    <tr>\n",
       "      <th>date</th>\n",
       "      <th></th>\n",
       "      <th></th>\n",
       "      <th></th>\n",
       "      <th></th>\n",
       "      <th></th>\n",
       "    </tr>\n",
       "  </thead>\n",
       "  <tbody>\n",
       "    <tr>\n",
       "      <th>2004-01-01</th>\n",
       "      <td>6.433505</td>\n",
       "      <td>58.231014</td>\n",
       "      <td>238.330000</td>\n",
       "      <td>398.000000</td>\n",
       "      <td>135.968035</td>\n",
       "    </tr>\n",
       "    <tr>\n",
       "      <th>2004-01-02</th>\n",
       "      <td>6.433505</td>\n",
       "      <td>58.231014</td>\n",
       "      <td>182.915000</td>\n",
       "      <td>346.500000</td>\n",
       "      <td>113.546396</td>\n",
       "    </tr>\n",
       "    <tr>\n",
       "      <th>2004-01-03</th>\n",
       "      <td>6.433505</td>\n",
       "      <td>58.231014</td>\n",
       "      <td>136.960411</td>\n",
       "      <td>343.926778</td>\n",
       "      <td>103.336731</td>\n",
       "    </tr>\n",
       "    <tr>\n",
       "      <th>2004-01-04</th>\n",
       "      <td>6.433505</td>\n",
       "      <td>58.231014</td>\n",
       "      <td>136.960411</td>\n",
       "      <td>343.926778</td>\n",
       "      <td>103.336731</td>\n",
       "    </tr>\n",
       "    <tr>\n",
       "      <th>2004-01-05</th>\n",
       "      <td>6.433505</td>\n",
       "      <td>58.231014</td>\n",
       "      <td>160.000000</td>\n",
       "      <td>340.000000</td>\n",
       "      <td>107.365595</td>\n",
       "    </tr>\n",
       "  </tbody>\n",
       "</table>\n",
       "</div>"
      ],
      "text/plain": [
       "                 so2        no2        rspm         spm         aqi\n",
       "date                                                               \n",
       "2004-01-01  6.433505  58.231014  238.330000  398.000000  135.968035\n",
       "2004-01-02  6.433505  58.231014  182.915000  346.500000  113.546396\n",
       "2004-01-03  6.433505  58.231014  136.960411  343.926778  103.336731\n",
       "2004-01-04  6.433505  58.231014  136.960411  343.926778  103.336731\n",
       "2004-01-05  6.433505  58.231014  160.000000  340.000000  107.365595"
      ]
     },
     "execution_count": 2,
     "metadata": {},
     "output_type": "execute_result"
    }
   ],
   "source": [
    "main_df = pd.read_csv('aqi.csv', parse_dates = ['date'], index_col = 'date')\n",
    "main_df.head()"
   ]
  },
  {
   "cell_type": "markdown",
   "metadata": {},
   "source": [
    "### Preparing the dataset"
   ]
  },
  {
   "cell_type": "code",
   "execution_count": 3,
   "metadata": {},
   "outputs": [],
   "source": [
    "SEQ_LEN=60 #no of days using to predict\n",
    "FUTURE_PERIOD_PREDICT=7 #no of days predicting\n",
    "RATIO_TO_PREDICT=\"aqi\" # variable to be predicted"
   ]
  },
  {
   "cell_type": "code",
   "execution_count": 4,
   "metadata": {},
   "outputs": [],
   "source": [
    "# if future aqi value is more than current then the target value is 0 otherwise it is 1\n",
    "def classify(current, future):\n",
    "    if float(future) > float(current):\n",
    "        return 0\n",
    "    else:\n",
    "        return 1"
   ]
  },
  {
   "cell_type": "code",
   "execution_count": 5,
   "metadata": {},
   "outputs": [],
   "source": [
    "# creating a future column with shift of 7 days\n",
    "main_df['future'] = main_df[f\"{RATIO_TO_PREDICT}\"].shift(-FUTURE_PERIOD_PREDICT)"
   ]
  },
  {
   "cell_type": "code",
   "execution_count": 6,
   "metadata": {},
   "outputs": [
    {
     "data": {
      "text/html": [
       "<div>\n",
       "<style scoped>\n",
       "    .dataframe tbody tr th:only-of-type {\n",
       "        vertical-align: middle;\n",
       "    }\n",
       "\n",
       "    .dataframe tbody tr th {\n",
       "        vertical-align: top;\n",
       "    }\n",
       "\n",
       "    .dataframe thead th {\n",
       "        text-align: right;\n",
       "    }\n",
       "</style>\n",
       "<table border=\"1\" class=\"dataframe\">\n",
       "  <thead>\n",
       "    <tr style=\"text-align: right;\">\n",
       "      <th></th>\n",
       "      <th>so2</th>\n",
       "      <th>no2</th>\n",
       "      <th>rspm</th>\n",
       "      <th>spm</th>\n",
       "      <th>aqi</th>\n",
       "      <th>future</th>\n",
       "    </tr>\n",
       "    <tr>\n",
       "      <th>date</th>\n",
       "      <th></th>\n",
       "      <th></th>\n",
       "      <th></th>\n",
       "      <th></th>\n",
       "      <th></th>\n",
       "      <th></th>\n",
       "    </tr>\n",
       "  </thead>\n",
       "  <tbody>\n",
       "    <tr>\n",
       "      <th>2004-01-01</th>\n",
       "      <td>6.433505</td>\n",
       "      <td>58.231014</td>\n",
       "      <td>238.330000</td>\n",
       "      <td>398.000000</td>\n",
       "      <td>135.968035</td>\n",
       "      <td>91.988019</td>\n",
       "    </tr>\n",
       "    <tr>\n",
       "      <th>2004-01-02</th>\n",
       "      <td>6.433505</td>\n",
       "      <td>58.231014</td>\n",
       "      <td>182.915000</td>\n",
       "      <td>346.500000</td>\n",
       "      <td>113.546396</td>\n",
       "      <td>85.237846</td>\n",
       "    </tr>\n",
       "    <tr>\n",
       "      <th>2004-01-03</th>\n",
       "      <td>6.433505</td>\n",
       "      <td>58.231014</td>\n",
       "      <td>136.960411</td>\n",
       "      <td>343.926778</td>\n",
       "      <td>103.336731</td>\n",
       "      <td>103.336731</td>\n",
       "    </tr>\n",
       "    <tr>\n",
       "      <th>2004-01-04</th>\n",
       "      <td>6.433505</td>\n",
       "      <td>58.231014</td>\n",
       "      <td>136.960411</td>\n",
       "      <td>343.926778</td>\n",
       "      <td>103.336731</td>\n",
       "      <td>103.336731</td>\n",
       "    </tr>\n",
       "    <tr>\n",
       "      <th>2004-01-05</th>\n",
       "      <td>6.433505</td>\n",
       "      <td>58.231014</td>\n",
       "      <td>160.000000</td>\n",
       "      <td>340.000000</td>\n",
       "      <td>107.365595</td>\n",
       "      <td>90.715422</td>\n",
       "    </tr>\n",
       "    <tr>\n",
       "      <th>2004-01-06</th>\n",
       "      <td>6.433505</td>\n",
       "      <td>58.231014</td>\n",
       "      <td>141.335000</td>\n",
       "      <td>283.500000</td>\n",
       "      <td>91.634270</td>\n",
       "      <td>98.774930</td>\n",
       "    </tr>\n",
       "    <tr>\n",
       "      <th>2004-01-07</th>\n",
       "      <td>6.433505</td>\n",
       "      <td>58.231014</td>\n",
       "      <td>120.170000</td>\n",
       "      <td>259.000000</td>\n",
       "      <td>82.061584</td>\n",
       "      <td>103.182872</td>\n",
       "    </tr>\n",
       "    <tr>\n",
       "      <th>2004-01-08</th>\n",
       "      <td>6.433505</td>\n",
       "      <td>58.231014</td>\n",
       "      <td>123.165000</td>\n",
       "      <td>303.500000</td>\n",
       "      <td>91.988019</td>\n",
       "      <td>97.611495</td>\n",
       "    </tr>\n",
       "    <tr>\n",
       "      <th>2004-01-09</th>\n",
       "      <td>6.433505</td>\n",
       "      <td>58.231014</td>\n",
       "      <td>103.500000</td>\n",
       "      <td>291.000000</td>\n",
       "      <td>85.237846</td>\n",
       "      <td>88.903987</td>\n",
       "    </tr>\n",
       "    <tr>\n",
       "      <th>2004-01-10</th>\n",
       "      <td>6.433505</td>\n",
       "      <td>58.231014</td>\n",
       "      <td>136.960411</td>\n",
       "      <td>343.926778</td>\n",
       "      <td>103.336731</td>\n",
       "      <td>103.336731</td>\n",
       "    </tr>\n",
       "  </tbody>\n",
       "</table>\n",
       "</div>"
      ],
      "text/plain": [
       "                 so2        no2        rspm         spm         aqi  \\\n",
       "date                                                                  \n",
       "2004-01-01  6.433505  58.231014  238.330000  398.000000  135.968035   \n",
       "2004-01-02  6.433505  58.231014  182.915000  346.500000  113.546396   \n",
       "2004-01-03  6.433505  58.231014  136.960411  343.926778  103.336731   \n",
       "2004-01-04  6.433505  58.231014  136.960411  343.926778  103.336731   \n",
       "2004-01-05  6.433505  58.231014  160.000000  340.000000  107.365595   \n",
       "2004-01-06  6.433505  58.231014  141.335000  283.500000   91.634270   \n",
       "2004-01-07  6.433505  58.231014  120.170000  259.000000   82.061584   \n",
       "2004-01-08  6.433505  58.231014  123.165000  303.500000   91.988019   \n",
       "2004-01-09  6.433505  58.231014  103.500000  291.000000   85.237846   \n",
       "2004-01-10  6.433505  58.231014  136.960411  343.926778  103.336731   \n",
       "\n",
       "                future  \n",
       "date                    \n",
       "2004-01-01   91.988019  \n",
       "2004-01-02   85.237846  \n",
       "2004-01-03  103.336731  \n",
       "2004-01-04  103.336731  \n",
       "2004-01-05   90.715422  \n",
       "2004-01-06   98.774930  \n",
       "2004-01-07  103.182872  \n",
       "2004-01-08   97.611495  \n",
       "2004-01-09   88.903987  \n",
       "2004-01-10  103.336731  "
      ]
     },
     "execution_count": 6,
     "metadata": {},
     "output_type": "execute_result"
    }
   ],
   "source": [
    "main_df.head(10)"
   ]
  },
  {
   "cell_type": "code",
   "execution_count": 7,
   "metadata": {},
   "outputs": [
    {
     "data": {
      "text/html": [
       "<div>\n",
       "<style scoped>\n",
       "    .dataframe tbody tr th:only-of-type {\n",
       "        vertical-align: middle;\n",
       "    }\n",
       "\n",
       "    .dataframe tbody tr th {\n",
       "        vertical-align: top;\n",
       "    }\n",
       "\n",
       "    .dataframe thead th {\n",
       "        text-align: right;\n",
       "    }\n",
       "</style>\n",
       "<table border=\"1\" class=\"dataframe\">\n",
       "  <thead>\n",
       "    <tr style=\"text-align: right;\">\n",
       "      <th></th>\n",
       "      <th>aqi</th>\n",
       "      <th>future</th>\n",
       "      <th>target</th>\n",
       "    </tr>\n",
       "    <tr>\n",
       "      <th>date</th>\n",
       "      <th></th>\n",
       "      <th></th>\n",
       "      <th></th>\n",
       "    </tr>\n",
       "  </thead>\n",
       "  <tbody>\n",
       "    <tr>\n",
       "      <th>2004-01-01</th>\n",
       "      <td>135.968035</td>\n",
       "      <td>91.988019</td>\n",
       "      <td>1</td>\n",
       "    </tr>\n",
       "    <tr>\n",
       "      <th>2004-01-02</th>\n",
       "      <td>113.546396</td>\n",
       "      <td>85.237846</td>\n",
       "      <td>1</td>\n",
       "    </tr>\n",
       "    <tr>\n",
       "      <th>2004-01-03</th>\n",
       "      <td>103.336731</td>\n",
       "      <td>103.336731</td>\n",
       "      <td>1</td>\n",
       "    </tr>\n",
       "    <tr>\n",
       "      <th>2004-01-04</th>\n",
       "      <td>103.336731</td>\n",
       "      <td>103.336731</td>\n",
       "      <td>1</td>\n",
       "    </tr>\n",
       "    <tr>\n",
       "      <th>2004-01-05</th>\n",
       "      <td>107.365595</td>\n",
       "      <td>90.715422</td>\n",
       "      <td>1</td>\n",
       "    </tr>\n",
       "    <tr>\n",
       "      <th>2004-01-06</th>\n",
       "      <td>91.634270</td>\n",
       "      <td>98.774930</td>\n",
       "      <td>0</td>\n",
       "    </tr>\n",
       "    <tr>\n",
       "      <th>2004-01-07</th>\n",
       "      <td>82.061584</td>\n",
       "      <td>103.182872</td>\n",
       "      <td>0</td>\n",
       "    </tr>\n",
       "    <tr>\n",
       "      <th>2004-01-08</th>\n",
       "      <td>91.988019</td>\n",
       "      <td>97.611495</td>\n",
       "      <td>0</td>\n",
       "    </tr>\n",
       "    <tr>\n",
       "      <th>2004-01-09</th>\n",
       "      <td>85.237846</td>\n",
       "      <td>88.903987</td>\n",
       "      <td>0</td>\n",
       "    </tr>\n",
       "    <tr>\n",
       "      <th>2004-01-10</th>\n",
       "      <td>103.336731</td>\n",
       "      <td>103.336731</td>\n",
       "      <td>1</td>\n",
       "    </tr>\n",
       "  </tbody>\n",
       "</table>\n",
       "</div>"
      ],
      "text/plain": [
       "                   aqi      future  target\n",
       "date                                      \n",
       "2004-01-01  135.968035   91.988019       1\n",
       "2004-01-02  113.546396   85.237846       1\n",
       "2004-01-03  103.336731  103.336731       1\n",
       "2004-01-04  103.336731  103.336731       1\n",
       "2004-01-05  107.365595   90.715422       1\n",
       "2004-01-06   91.634270   98.774930       0\n",
       "2004-01-07   82.061584  103.182872       0\n",
       "2004-01-08   91.988019   97.611495       0\n",
       "2004-01-09   85.237846   88.903987       0\n",
       "2004-01-10  103.336731  103.336731       1"
      ]
     },
     "execution_count": 7,
     "metadata": {},
     "output_type": "execute_result"
    }
   ],
   "source": [
    "# mapping fuction classify to new column target\n",
    "main_df['target'] = list(map(classify, main_df[f'{RATIO_TO_PREDICT}'], main_df[\"future\"]))\n",
    "main_df[[f\"{RATIO_TO_PREDICT}\",\"future\",\"target\"]].head(10)"
   ]
  },
  {
   "cell_type": "markdown",
   "metadata": {},
   "source": [
    "## 2. Normalizing, Creating Sequences and Balancing Data"
   ]
  },
  {
   "cell_type": "code",
   "execution_count": 8,
   "metadata": {},
   "outputs": [],
   "source": [
    "times = sorted(main_df.index.values)"
   ]
  },
  {
   "cell_type": "code",
   "execution_count": 9,
   "metadata": {},
   "outputs": [
    {
     "data": {
      "text/plain": [
       "numpy.datetime64('2015-05-27T00:00:00.000000000')"
      ]
     },
     "execution_count": 9,
     "metadata": {},
     "output_type": "execute_result"
    }
   ],
   "source": [
    "# index value at last 5% of the dataset\n",
    "last_5pct = times[-int(0.05 * len(times))]\n",
    "last_5pct"
   ]
  },
  {
   "cell_type": "markdown",
   "metadata": {},
   "source": [
    "### Spliting dataset into training and validation dataset"
   ]
  },
  {
   "cell_type": "code",
   "execution_count": 10,
   "metadata": {},
   "outputs": [],
   "source": [
    "# validation dataframe\n",
    "validation_main_df = main_df[(main_df.index >= last_5pct)]\n",
    "# training dataframe\n",
    "main_df = main_df[(main_df.index < last_5pct)]"
   ]
  },
  {
   "cell_type": "markdown",
   "metadata": {},
   "source": [
    "### Importing relevant librarie"
   ]
  },
  {
   "cell_type": "code",
   "execution_count": 11,
   "metadata": {},
   "outputs": [],
   "source": [
    "from sklearn import preprocessing\n",
    "from collections import deque\n",
    "import numpy as np\n",
    "import random"
   ]
  },
  {
   "cell_type": "markdown",
   "metadata": {},
   "source": [
    "### Defining a function to preprocess our training and validation dataset"
   ]
  },
  {
   "cell_type": "code",
   "execution_count": 12,
   "metadata": {},
   "outputs": [],
   "source": [
    "def preprocess_df(df):\n",
    "    df = df.drop('future',1)\n",
    "    \n",
    "    # scaling expect target column\n",
    "    for col in df.columns:\n",
    "        if col != 'target':\n",
    "            df[col] = df[col].pct_change()\n",
    "            df.dropna(inplace=True)\n",
    "            df[col] = preprocessing.scale(df[col].values)\n",
    "    \n",
    "    df.dropna(inplace=True)\n",
    "    \n",
    "    sequential_data = []\n",
    "    prev_days = deque(maxlen=SEQ_LEN)\n",
    "    \n",
    "    # creating our sequential data\n",
    "    for i in df.values:\n",
    "        prev_days.append([n for n in i[:-1]])\n",
    "        if len(prev_days) == SEQ_LEN:\n",
    "            sequential_data.append([np.array(prev_days), i[-1]])\n",
    "            \n",
    "    #random.shuffle(sequential_data)\n",
    "    \n",
    "    #balancing data\n",
    "    buys = []\n",
    "    sells = []\n",
    "    \n",
    "    for seq,target in sequential_data:\n",
    "        if target == 0:\n",
    "            sells.append([seq,target])\n",
    "        elif target == 1:\n",
    "            buys.append([seq,target])\n",
    "            \n",
    "    random.shuffle(buys)\n",
    "    random.shuffle(sells)\n",
    "    \n",
    "    lower = min(len(buys), len(sells))\n",
    "    \n",
    "    buys = buys[:lower]\n",
    "    sells = sells[:lower]\n",
    "    \n",
    "    sequential_data = buys + sells\n",
    "    random.shuffle(sequential_data)\n",
    "    \n",
    "    X = []\n",
    "    y = []\n",
    "    \n",
    "    for seq,target in sequential_data:\n",
    "        X.append(seq)\n",
    "        y.append(target)\n",
    "    \n",
    "    return np.array(X),y"
   ]
  },
  {
   "cell_type": "markdown",
   "metadata": {},
   "source": [
    "### Preparing our data to feed into neural network"
   ]
  },
  {
   "cell_type": "code",
   "execution_count": 13,
   "metadata": {},
   "outputs": [],
   "source": [
    "train_x, train_y = preprocess_df(main_df)\n",
    "validation_x, validation_y = preprocess_df(validation_main_df)"
   ]
  },
  {
   "cell_type": "code",
   "execution_count": 14,
   "metadata": {},
   "outputs": [
    {
     "name": "stdout",
     "output_type": "stream",
     "text": [
      "train data: 2824 validation: 124\n",
      "dont buys: 1412, buys: 1412\n",
      "validation dont buys: 62, buys: 62\n"
     ]
    }
   ],
   "source": [
    "print(f\"train data: {len(train_x)} validation: {len(validation_x)}\")\n",
    "print(f\"dont buys: {train_y.count(0)}, buys: {train_y.count(1)}\")\n",
    "print(f\"validation dont buys: {validation_y.count(0)}, buys: {validation_y.count(1)}\")"
   ]
  },
  {
   "cell_type": "code",
   "execution_count": 15,
   "metadata": {},
   "outputs": [],
   "source": [
    "train_y = np.asarray(train_y)\n",
    "validation_y = np.asarray(validation_y)"
   ]
  },
  {
   "cell_type": "markdown",
   "metadata": {},
   "source": [
    "## 3. Build and train the model"
   ]
  },
  {
   "cell_type": "code",
   "execution_count": 16,
   "metadata": {},
   "outputs": [],
   "source": [
    "import time\n",
    "import tensorflow as tf\n",
    "from tensorflow.keras.models import Sequential\n",
    "from tensorflow.keras.layers import Dense, Dropout, LSTM, BatchNormalization\n",
    "from tensorflow.keras.callbacks import TensorBoard, ModelCheckpoint"
   ]
  },
  {
   "cell_type": "code",
   "execution_count": 17,
   "metadata": {},
   "outputs": [],
   "source": [
    "EPOCHS = 50\n",
    "BATCH_SIZE = 100\n",
    "NAME = f\"{SEQ_LEN}-SEQ-{FUTURE_PERIOD_PREDICT}-PRED-{int(time.time())}\""
   ]
  },
  {
   "cell_type": "code",
   "execution_count": 18,
   "metadata": {
    "scrolled": true
   },
   "outputs": [
    {
     "name": "stdout",
     "output_type": "stream",
     "text": [
      "Train on 2824 samples, validate on 124 samples\n",
      "Epoch 1/50\n",
      "2824/2824 [==============================] - 254s 90ms/sample - loss: 0.9218 - accuracy: 0.5212 - val_loss: 0.6947 - val_accuracy: 0.5000\n",
      "Epoch 2/50\n",
      "2824/2824 [==============================] - 234s 83ms/sample - loss: 0.8329 - accuracy: 0.5198 - val_loss: 0.6952 - val_accuracy: 0.5000\n",
      "Epoch 3/50\n",
      "2824/2824 [==============================] - 237s 84ms/sample - loss: 0.8055 - accuracy: 0.5092 - val_loss: 0.6936 - val_accuracy: 0.5000\n",
      "Epoch 4/50\n",
      "2824/2824 [==============================] - 235s 83ms/sample - loss: 0.7485 - accuracy: 0.5475 - val_loss: 0.6935 - val_accuracy: 0.5000\n",
      "Epoch 5/50\n",
      "2824/2824 [==============================] - 231s 82ms/sample - loss: 0.7209 - accuracy: 0.5411 - val_loss: 0.6935 - val_accuracy: 0.5000\n",
      "Epoch 6/50\n",
      "2824/2824 [==============================] - 230s 81ms/sample - loss: 0.7362 - accuracy: 0.5174 - val_loss: 0.6936 - val_accuracy: 0.5000\n",
      "Epoch 7/50\n",
      "2824/2824 [==============================] - 234s 83ms/sample - loss: 0.7266 - accuracy: 0.4858 - val_loss: 0.6936 - val_accuracy: 0.5000\n",
      "Epoch 8/50\n",
      "2824/2824 [==============================] - 232s 82ms/sample - loss: 0.7065 - accuracy: 0.5028 - val_loss: 0.6935 - val_accuracy: 0.5000\n",
      "Epoch 9/50\n",
      "2824/2824 [==============================] - 230s 81ms/sample - loss: 0.7043 - accuracy: 0.5046 - val_loss: 0.6938 - val_accuracy: 0.5000\n",
      "Epoch 10/50\n",
      "2824/2824 [==============================] - 1438s 509ms/sample - loss: 0.6936 - accuracy: 0.5347 - val_loss: 0.6935 - val_accuracy: 0.5000\n",
      "Epoch 11/50\n",
      "2824/2824 [==============================] - 244s 86ms/sample - loss: 0.6931 - accuracy: 0.5276 - val_loss: 0.6933 - val_accuracy: 0.5000\n",
      "Epoch 12/50\n",
      "2824/2824 [==============================] - 245s 87ms/sample - loss: 0.6904 - accuracy: 0.5404 - val_loss: 0.6929 - val_accuracy: 0.5000\n",
      "Epoch 13/50\n",
      "2824/2824 [==============================] - 245s 87ms/sample - loss: 0.6880 - accuracy: 0.5336 - val_loss: 0.6923 - val_accuracy: 0.5161\n",
      "Epoch 14/50\n",
      "2824/2824 [==============================] - 238s 84ms/sample - loss: 0.6904 - accuracy: 0.5294 - val_loss: 0.6922 - val_accuracy: 0.4677\n",
      "Epoch 15/50\n",
      "2824/2824 [==============================] - 235s 83ms/sample - loss: 0.6857 - accuracy: 0.5347 - val_loss: 0.6946 - val_accuracy: 0.5000\n",
      "Epoch 16/50\n",
      "2824/2824 [==============================] - 237s 84ms/sample - loss: 0.6910 - accuracy: 0.5343 - val_loss: 0.7116 - val_accuracy: 0.5161\n",
      "Epoch 17/50\n",
      "2824/2824 [==============================] - 245s 87ms/sample - loss: 0.6854 - accuracy: 0.5471 - val_loss: 0.7497 - val_accuracy: 0.5323\n",
      "Epoch 18/50\n",
      "2824/2824 [==============================] - 237s 84ms/sample - loss: 0.6876 - accuracy: 0.5343 - val_loss: 0.7750 - val_accuracy: 0.4919\n",
      "Epoch 19/50\n",
      "2824/2824 [==============================] - 233s 83ms/sample - loss: 0.6817 - accuracy: 0.5354 - val_loss: 0.7842 - val_accuracy: 0.5645\n",
      "Epoch 20/50\n",
      "2824/2824 [==============================] - 233s 83ms/sample - loss: 0.6869 - accuracy: 0.5319 - val_loss: 0.8579 - val_accuracy: 0.4839\n",
      "Epoch 21/50\n",
      "2824/2824 [==============================] - 236s 84ms/sample - loss: 0.6828 - accuracy: 0.5545 - val_loss: 0.6907 - val_accuracy: 0.5645\n",
      "Epoch 22/50\n",
      "2824/2824 [==============================] - 245s 87ms/sample - loss: 0.6777 - accuracy: 0.5673 - val_loss: 0.6999 - val_accuracy: 0.5484\n",
      "Epoch 23/50\n",
      "2824/2824 [==============================] - 237s 84ms/sample - loss: 0.6826 - accuracy: 0.5478 - val_loss: 0.6998 - val_accuracy: 0.5242\n",
      "Epoch 24/50\n",
      "2824/2824 [==============================] - 233s 83ms/sample - loss: 0.6844 - accuracy: 0.5503 - val_loss: 0.7314 - val_accuracy: 0.4597\n",
      "Epoch 25/50\n",
      "2824/2824 [==============================] - 236s 84ms/sample - loss: 0.6846 - accuracy: 0.5421 - val_loss: 0.7233 - val_accuracy: 0.4677\n",
      "Epoch 26/50\n",
      "2824/2824 [==============================] - 233s 82ms/sample - loss: 0.6856 - accuracy: 0.5496 - val_loss: 0.7399 - val_accuracy: 0.4597\n",
      "Epoch 27/50\n",
      "2824/2824 [==============================] - 233s 83ms/sample - loss: 0.6844 - accuracy: 0.5485 - val_loss: 0.7751 - val_accuracy: 0.4355\n",
      "Epoch 28/50\n",
      "2824/2824 [==============================] - 236s 84ms/sample - loss: 0.6793 - accuracy: 0.5503 - val_loss: 0.9095 - val_accuracy: 0.4194\n",
      "Epoch 29/50\n",
      "2824/2824 [==============================] - 235s 83ms/sample - loss: 0.6841 - accuracy: 0.5418 - val_loss: 0.9033 - val_accuracy: 0.4839\n",
      "Epoch 30/50\n",
      "2824/2824 [==============================] - 304s 108ms/sample - loss: 0.6848 - accuracy: 0.5354 - val_loss: 0.7273 - val_accuracy: 0.5081\n",
      "Epoch 31/50\n",
      "2824/2824 [==============================] - 230s 81ms/sample - loss: 0.6828 - accuracy: 0.5436 - val_loss: 0.7067 - val_accuracy: 0.5161\n",
      "Epoch 32/50\n",
      "2824/2824 [==============================] - 237s 84ms/sample - loss: 0.6796 - accuracy: 0.5450 - val_loss: 0.7037 - val_accuracy: 0.5242\n",
      "Epoch 33/50\n",
      "2824/2824 [==============================] - 231s 82ms/sample - loss: 0.6884 - accuracy: 0.5421 - val_loss: 0.8978 - val_accuracy: 0.5161\n",
      "Epoch 34/50\n",
      "2824/2824 [==============================] - 229s 81ms/sample - loss: 0.7229 - accuracy: 0.5092 - val_loss: 0.6957 - val_accuracy: 0.5323\n",
      "Epoch 35/50\n",
      "2824/2824 [==============================] - 228s 81ms/sample - loss: 0.7082 - accuracy: 0.5181 - val_loss: 0.6915 - val_accuracy: 0.4758\n",
      "Epoch 36/50\n",
      "2824/2824 [==============================] - 231s 82ms/sample - loss: 0.6902 - accuracy: 0.5453 - val_loss: 0.6804 - val_accuracy: 0.5161\n",
      "Epoch 37/50\n",
      "2824/2824 [==============================] - 227s 80ms/sample - loss: 0.6908 - accuracy: 0.5312 - val_loss: 0.6838 - val_accuracy: 0.5000\n",
      "Epoch 38/50\n",
      "2824/2824 [==============================] - 222s 79ms/sample - loss: 0.6862 - accuracy: 0.5436 - val_loss: 0.6854 - val_accuracy: 0.5081\n",
      "Epoch 39/50\n",
      "2824/2824 [==============================] - 225s 80ms/sample - loss: 0.6799 - accuracy: 0.5443 - val_loss: 0.6862 - val_accuracy: 0.5242\n",
      "Epoch 40/50\n",
      "2824/2824 [==============================] - 229s 81ms/sample - loss: 0.6819 - accuracy: 0.5574 - val_loss: 0.6886 - val_accuracy: 0.4839\n",
      "Epoch 41/50\n",
      "2824/2824 [==============================] - 228s 81ms/sample - loss: 0.6746 - accuracy: 0.5513 - val_loss: 0.6929 - val_accuracy: 0.4839\n",
      "Epoch 42/50\n",
      "2824/2824 [==============================] - 227s 80ms/sample - loss: 0.6813 - accuracy: 0.5386 - val_loss: 0.6928 - val_accuracy: 0.4839\n",
      "Epoch 43/50\n",
      "2824/2824 [==============================] - 2620s 928ms/sample - loss: 0.6801 - accuracy: 0.5457 - val_loss: 0.6929 - val_accuracy: 0.5000\n",
      "Epoch 44/50\n",
      "2824/2824 [==============================] - 254s 90ms/sample - loss: 0.6747 - accuracy: 0.5613 - val_loss: 0.6938 - val_accuracy: 0.5081\n",
      "Epoch 45/50\n",
      "2824/2824 [==============================] - 228s 81ms/sample - loss: 0.6743 - accuracy: 0.5457 - val_loss: 0.6950 - val_accuracy: 0.4919\n",
      "Epoch 46/50\n",
      "2824/2824 [==============================] - 248s 88ms/sample - loss: 0.6760 - accuracy: 0.5510 - val_loss: 0.6939 - val_accuracy: 0.5000\n",
      "Epoch 47/50\n",
      "2824/2824 [==============================] - 242s 86ms/sample - loss: 0.6796 - accuracy: 0.5425 - val_loss: 0.6934 - val_accuracy: 0.5081\n",
      "Epoch 48/50\n",
      "2824/2824 [==============================] - 237s 84ms/sample - loss: 0.6771 - accuracy: 0.5552 - val_loss: 0.6946 - val_accuracy: 0.5000\n",
      "Epoch 49/50\n",
      "2824/2824 [==============================] - 229s 81ms/sample - loss: 0.6710 - accuracy: 0.5694 - val_loss: 0.6951 - val_accuracy: 0.4919\n",
      "Epoch 50/50\n",
      "2824/2824 [==============================] - 251s 89ms/sample - loss: 0.6751 - accuracy: 0.5602 - val_loss: 0.6952 - val_accuracy: 0.5081\n"
     ]
    }
   ],
   "source": [
    "model = Sequential()\n",
    "model.add(LSTM(128, input_shape=(train_x.shape[1:]), return_sequences=True, activation='relu'))\n",
    "model.add(Dropout(0.2))\n",
    "model.add(BatchNormalization())\n",
    "\n",
    "model.add(LSTM(128, input_shape=(train_x.shape[1:]), return_sequences=True,activation='relu'))\n",
    "model.add(Dropout(0.1))\n",
    "model.add(BatchNormalization())\n",
    "\n",
    "model.add(LSTM(128, input_shape=(train_x.shape[1:]), activation='relu'))\n",
    "model.add(Dropout(0.2))\n",
    "model.add(BatchNormalization())\n",
    "\n",
    "model.add(Dense(32, activation='relu'))\n",
    "model.add(Dropout(0.2))\n",
    "\n",
    "model.add(Dense(2,activation='softmax'))\n",
    "\n",
    "opt = tf.keras.optimizers.Adam(lr=0.001, decay=1e-6)\n",
    "\n",
    "model.compile(loss='sparse_categorical_crossentropy',\n",
    "             optimizer=opt,\n",
    "             metrics=['accuracy'])\n",
    "\n",
    "#tensorboard = TensorBoard(log_dir=f\"logs/{NAME}\", profile_batch = 100000000)\n",
    "\n",
    "#filepath = \"RNN_Final-{epoch:02d}\"\n",
    "#checkpoint= ModelCheckpoint(\"models/{}.model\".format(filepath, monitor='val_accuracy', verbose=1, save_best_only=True, mode='max'))\n",
    "#earlystopping = tf.keras.callbacks.EarlyStopping(patience=5, min_delta=1e-3)\n",
    "history = model.fit(\n",
    "                    train_x, train_y,\n",
    "                    batch_size = BATCH_SIZE,\n",
    "                    epochs=EPOCHS,\n",
    "                    validation_data=(validation_x, validation_y))\n",
    "                    #callbacks=[tensorboard,checkpoint])\n"
   ]
  },
  {
   "cell_type": "code",
   "execution_count": 22,
   "metadata": {},
   "outputs": [
    {
     "data": {
      "image/png": "[encoded data removed]",
      "text/plain": [
       "<Figure size 432x288 with 1 Axes>"
      ]
     },
     "metadata": {
      "needs_background": "light"
     },
     "output_type": "display_data"
    }
   ],
   "source": [
    "import matplotlib.pyplot as plt\n",
    "predicted = model.predict(validation_x)\n",
    "plt.plot(validation_y, color = 'black', label = 'Actual')\n",
    "plt.plot(predicted, color = 'green', label = 'Predicted')\n",
    "plt.title('AQI Prediction')\n",
    "plt.xlabel('Time')\n",
    "plt.ylabel('AQI')\n",
    "plt.legend()\n",
    "plt.show()"
   ]
  },
  {
   "cell_type": "code",
   "execution_count": null,
   "metadata": {},
   "outputs": [],
   "source": []
  }
 ],
 "metadata": {
  "kernelspec": {
   "display_name": "Python 3",
   "language": "python",
   "name": "python3"
  }
 },
 "nbformat": 4,
 "nbformat_minor": 4
}
