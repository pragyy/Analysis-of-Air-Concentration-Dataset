{
 "cells": [
  {
   "cell_type": "markdown",
   "metadata": {},
   "source": [
    "# Data Cleaning and verifying"
   ]
  },
  {
   "cell_type": "markdown",
   "metadata": {},
   "source": [
    "### Import relevant packages"
   ]
  },
  {
   "cell_type": "code",
   "execution_count": 1,
   "metadata": {},
   "outputs": [],
   "source": [
    "import pandas as pd\n",
    "import datetime as dt\n",
    "import matplotlib.pyplot as plt"
   ]
  },
  {
   "cell_type": "markdown",
   "metadata": {},
   "source": [
    "### Load the dataset"
   ]
  },
  {
   "cell_type": "code",
   "execution_count": 2,
   "metadata": {},
   "outputs": [
    {
     "data": {
      "text/html": [
       "<div>\n",
       "<style scoped>\n",
       "    .dataframe tbody tr th:only-of-type {\n",
       "        vertical-align: middle;\n",
       "    }\n",
       "\n",
       "    .dataframe tbody tr th {\n",
       "        vertical-align: top;\n",
       "    }\n",
       "\n",
       "    .dataframe thead th {\n",
       "        text-align: right;\n",
       "    }\n",
       "</style>\n",
       "<table border=\"1\" class=\"dataframe\">\n",
       "  <thead>\n",
       "    <tr style=\"text-align: right;\">\n",
       "      <th></th>\n",
       "      <th>date</th>\n",
       "      <th>so2</th>\n",
       "      <th>no2</th>\n",
       "      <th>rspm</th>\n",
       "      <th>spm</th>\n",
       "      <th>location_monitoring_station</th>\n",
       "    </tr>\n",
       "  </thead>\n",
       "  <tbody>\n",
       "    <tr>\n",
       "      <td>0</td>\n",
       "      <td>2005-01-04</td>\n",
       "      <td>10.9</td>\n",
       "      <td>62.9</td>\n",
       "      <td>203.0</td>\n",
       "      <td>384.0</td>\n",
       "      <td>Mayapuri</td>\n",
       "    </tr>\n",
       "    <tr>\n",
       "      <td>1</td>\n",
       "      <td>2005-01-05</td>\n",
       "      <td>25.1</td>\n",
       "      <td>64.1</td>\n",
       "      <td>381.0</td>\n",
       "      <td>601.0</td>\n",
       "      <td>Mayapuri</td>\n",
       "    </tr>\n",
       "    <tr>\n",
       "      <td>2</td>\n",
       "      <td>2005-01-14</td>\n",
       "      <td>15.9</td>\n",
       "      <td>58.1</td>\n",
       "      <td>217.0</td>\n",
       "      <td>479.0</td>\n",
       "      <td>Mayapuri</td>\n",
       "    </tr>\n",
       "    <tr>\n",
       "      <td>3</td>\n",
       "      <td>2005-01-15</td>\n",
       "      <td>17.5</td>\n",
       "      <td>77.8</td>\n",
       "      <td>246.0</td>\n",
       "      <td>558.0</td>\n",
       "      <td>Mayapuri</td>\n",
       "    </tr>\n",
       "    <tr>\n",
       "      <td>4</td>\n",
       "      <td>2005-01-18</td>\n",
       "      <td>8.5</td>\n",
       "      <td>70.0</td>\n",
       "      <td>306.0</td>\n",
       "      <td>574.0</td>\n",
       "      <td>Mayapuri</td>\n",
       "    </tr>\n",
       "  </tbody>\n",
       "</table>\n",
       "</div>"
      ],
      "text/plain": [
       "        date   so2   no2   rspm    spm location_monitoring_station\n",
       "0 2005-01-04  10.9  62.9  203.0  384.0                    Mayapuri\n",
       "1 2005-01-05  25.1  64.1  381.0  601.0                    Mayapuri\n",
       "2 2005-01-14  15.9  58.1  217.0  479.0                    Mayapuri\n",
       "3 2005-01-15  17.5  77.8  246.0  558.0                    Mayapuri\n",
       "4 2005-01-18   8.5  70.0  306.0  574.0                    Mayapuri"
      ]
     },
     "execution_count": 2,
     "metadata": {},
     "output_type": "execute_result"
    }
   ],
   "source": [
    "df = pd.read_csv('final.csv',parse_dates=['date'])\n",
    "df.head()"
   ]
  },
  {
   "cell_type": "markdown",
   "metadata": {},
   "source": [
    "### Groupby date"
   ]
  },
  {
   "cell_type": "markdown",
   "metadata": {},
   "source": [
    "Here in the dataset, there is recordings of concentration of various parts in Delhi on the same day. Thus this will make it difficult for us in many computations. So to overcome this, in this step, the *data is grouped by date* and the concentration value is filled with *mean of all the values of that particular date*. "
   ]
  },
  {
   "cell_type": "code",
   "execution_count": 3,
   "metadata": {},
   "outputs": [
    {
     "data": {
      "text/html": [
       "<div>\n",
       "<style scoped>\n",
       "    .dataframe tbody tr th:only-of-type {\n",
       "        vertical-align: middle;\n",
       "    }\n",
       "\n",
       "    .dataframe tbody tr th {\n",
       "        vertical-align: top;\n",
       "    }\n",
       "\n",
       "    .dataframe thead th {\n",
       "        text-align: right;\n",
       "    }\n",
       "</style>\n",
       "<table border=\"1\" class=\"dataframe\">\n",
       "  <thead>\n",
       "    <tr style=\"text-align: right;\">\n",
       "      <th></th>\n",
       "      <th>date</th>\n",
       "      <th>no2</th>\n",
       "      <th>so2</th>\n",
       "      <th>spm</th>\n",
       "      <th>rspm</th>\n",
       "      <th>location_monitoring_station</th>\n",
       "    </tr>\n",
       "  </thead>\n",
       "  <tbody>\n",
       "    <tr>\n",
       "      <td>0</td>\n",
       "      <td>2004-01-01</td>\n",
       "      <td>NaN</td>\n",
       "      <td>NaN</td>\n",
       "      <td>398.0</td>\n",
       "      <td>238.330000</td>\n",
       "      <td>JanakpuriShahdara</td>\n",
       "    </tr>\n",
       "    <tr>\n",
       "      <td>1</td>\n",
       "      <td>2004-01-02</td>\n",
       "      <td>NaN</td>\n",
       "      <td>NaN</td>\n",
       "      <td>346.5</td>\n",
       "      <td>182.915000</td>\n",
       "      <td>Siri FortAshok Vihar</td>\n",
       "    </tr>\n",
       "    <tr>\n",
       "      <td>2</td>\n",
       "      <td>2004-01-05</td>\n",
       "      <td>NaN</td>\n",
       "      <td>NaN</td>\n",
       "      <td>340.0</td>\n",
       "      <td>160.000000</td>\n",
       "      <td>NizamuddinShahzada Bagh</td>\n",
       "    </tr>\n",
       "    <tr>\n",
       "      <td>3</td>\n",
       "      <td>2004-01-06</td>\n",
       "      <td>NaN</td>\n",
       "      <td>NaN</td>\n",
       "      <td>283.5</td>\n",
       "      <td>141.335000</td>\n",
       "      <td>JanakpuriShahdara</td>\n",
       "    </tr>\n",
       "    <tr>\n",
       "      <td>4</td>\n",
       "      <td>2004-01-07</td>\n",
       "      <td>NaN</td>\n",
       "      <td>NaN</td>\n",
       "      <td>259.0</td>\n",
       "      <td>120.170000</td>\n",
       "      <td>Siri FortAshok Vihar</td>\n",
       "    </tr>\n",
       "    <tr>\n",
       "      <td>...</td>\n",
       "      <td>...</td>\n",
       "      <td>...</td>\n",
       "      <td>...</td>\n",
       "      <td>...</td>\n",
       "      <td>...</td>\n",
       "      <td>...</td>\n",
       "    </tr>\n",
       "    <tr>\n",
       "      <td>2559</td>\n",
       "      <td>2015-12-23</td>\n",
       "      <td>56.000000</td>\n",
       "      <td>4.000000</td>\n",
       "      <td>NaN</td>\n",
       "      <td>140.000000</td>\n",
       "      <td>JanakpuriShahdara</td>\n",
       "    </tr>\n",
       "    <tr>\n",
       "      <td>2560</td>\n",
       "      <td>2015-12-28</td>\n",
       "      <td>53.000000</td>\n",
       "      <td>4.000000</td>\n",
       "      <td>NaN</td>\n",
       "      <td>205.000000</td>\n",
       "      <td>Pritampura</td>\n",
       "    </tr>\n",
       "    <tr>\n",
       "      <td>2561</td>\n",
       "      <td>2015-12-29</td>\n",
       "      <td>74.500000</td>\n",
       "      <td>11.000000</td>\n",
       "      <td>NaN</td>\n",
       "      <td>239.250000</td>\n",
       "      <td>N.Y. SchoolNizamuddinShahzada BaghPritampura</td>\n",
       "    </tr>\n",
       "    <tr>\n",
       "      <td>2562</td>\n",
       "      <td>2015-12-30</td>\n",
       "      <td>94.333333</td>\n",
       "      <td>15.333333</td>\n",
       "      <td>NaN</td>\n",
       "      <td>306.500000</td>\n",
       "      <td>N.Y. SchoolSiri FortJanakpuriShahzada Bagh</td>\n",
       "    </tr>\n",
       "    <tr>\n",
       "      <td>2563</td>\n",
       "      <td>2015-12-31</td>\n",
       "      <td>54.666667</td>\n",
       "      <td>11.500000</td>\n",
       "      <td>NaN</td>\n",
       "      <td>341.666667</td>\n",
       "      <td>NizamuddinPritampuraShahdara</td>\n",
       "    </tr>\n",
       "  </tbody>\n",
       "</table>\n",
       "<p>2564 rows × 6 columns</p>\n",
       "</div>"
      ],
      "text/plain": [
       "           date        no2        so2    spm        rspm  \\\n",
       "0    2004-01-01        NaN        NaN  398.0  238.330000   \n",
       "1    2004-01-02        NaN        NaN  346.5  182.915000   \n",
       "2    2004-01-05        NaN        NaN  340.0  160.000000   \n",
       "3    2004-01-06        NaN        NaN  283.5  141.335000   \n",
       "4    2004-01-07        NaN        NaN  259.0  120.170000   \n",
       "...         ...        ...        ...    ...         ...   \n",
       "2559 2015-12-23  56.000000   4.000000    NaN  140.000000   \n",
       "2560 2015-12-28  53.000000   4.000000    NaN  205.000000   \n",
       "2561 2015-12-29  74.500000  11.000000    NaN  239.250000   \n",
       "2562 2015-12-30  94.333333  15.333333    NaN  306.500000   \n",
       "2563 2015-12-31  54.666667  11.500000    NaN  341.666667   \n",
       "\n",
       "                       location_monitoring_station  \n",
       "0                                JanakpuriShahdara  \n",
       "1                             Siri FortAshok Vihar  \n",
       "2                          NizamuddinShahzada Bagh  \n",
       "3                                JanakpuriShahdara  \n",
       "4                             Siri FortAshok Vihar  \n",
       "...                                            ...  \n",
       "2559                             JanakpuriShahdara  \n",
       "2560                                    Pritampura  \n",
       "2561  N.Y. SchoolNizamuddinShahzada BaghPritampura  \n",
       "2562    N.Y. SchoolSiri FortJanakpuriShahzada Bagh  \n",
       "2563                  NizamuddinPritampuraShahdara  \n",
       "\n",
       "[2564 rows x 6 columns]"
      ]
     },
     "execution_count": 3,
     "metadata": {},
     "output_type": "execute_result"
    }
   ],
   "source": [
    "df.groupby(by='date').agg({'no2':'mean','so2':'mean','spm':'mean','rspm':'mean','location_monitoring_station':'sum'}).reset_index()"
   ]
  },
  {
   "cell_type": "markdown",
   "metadata": {},
   "source": [
    "### Filling missing dates"
   ]
  },
  {
   "cell_type": "markdown",
   "metadata": {},
   "source": [
    "As we can see there are many dates missing in the dataset. So to overcome this problem, the dataset is resampled and the cell is filled with the mean"
   ]
  },
  {
   "cell_type": "code",
   "execution_count": 4,
   "metadata": {},
   "outputs": [],
   "source": [
    "df = df.set_index('date')\n",
    "df = df.resample('D').mean()"
   ]
  },
  {
   "cell_type": "markdown",
   "metadata": {},
   "source": [
    "### Filling missing values"
   ]
  },
  {
   "cell_type": "code",
   "execution_count": 5,
   "metadata": {},
   "outputs": [
    {
     "name": "stderr",
     "output_type": "stream",
     "text": [
      "C:\\ANACONDA\\lib\\site-packages\\ipykernel_launcher.py:1: FutureWarning: how in .resample() is deprecated\n",
      "the new syntax is .resample(...).mean()\n",
      "  \"\"\"Entry point for launching an IPython kernel.\n",
      "C:\\ANACONDA\\lib\\site-packages\\ipykernel_launcher.py:2: FutureWarning: how in .resample() is deprecated\n",
      "the new syntax is .resample(...).mean()\n",
      "  \n",
      "C:\\ANACONDA\\lib\\site-packages\\ipykernel_launcher.py:3: FutureWarning: how in .resample() is deprecated\n",
      "the new syntax is .resample(...).mean()\n",
      "  This is separate from the ipykernel package so we can avoid doing imports until\n",
      "C:\\ANACONDA\\lib\\site-packages\\ipykernel_launcher.py:4: FutureWarning: how in .resample() is deprecated\n",
      "the new syntax is .resample(...).mean()\n",
      "  after removing the cwd from sys.path.\n"
     ]
    }
   ],
   "source": [
    "no2 = df['no2'].resample('Y', how='mean')\n",
    "so2 = df['so2'].resample('Y', how='mean')\n",
    "rspm = df['rspm'].resample('Y', how='mean')\n",
    "spm = df['spm'].resample('Y', how='mean')"
   ]
  },
  {
   "cell_type": "code",
   "execution_count": 6,
   "metadata": {},
   "outputs": [
    {
     "data": {
      "text/plain": [
       "date\n",
       "2004-12-31          NaN\n",
       "2005-12-31    49.323154\n",
       "2006-12-31    44.883594\n",
       "2007-12-31    44.160667\n",
       "2008-12-31    55.145964\n",
       "2009-12-31    49.031803\n",
       "2010-12-31          NaN\n",
       "2011-12-31    56.825729\n",
       "2012-12-31    79.615646\n",
       "2013-12-31    82.963504\n",
       "2014-12-31    58.953519\n",
       "2015-12-31    61.356426\n",
       "Freq: A-DEC, Name: no2, dtype: float64"
      ]
     },
     "execution_count": 6,
     "metadata": {},
     "output_type": "execute_result"
    }
   ],
   "source": [
    "no2"
   ]
  },
  {
   "cell_type": "code",
   "execution_count": 7,
   "metadata": {},
   "outputs": [
    {
     "data": {
      "text/plain": [
       "date\n",
       "2004-01-01    398.0\n",
       "2004-01-02    346.5\n",
       "2004-01-03      NaN\n",
       "2004-01-04      NaN\n",
       "2004-01-05    340.0\n",
       "              ...  \n",
       "2015-12-27      NaN\n",
       "2015-12-28      NaN\n",
       "2015-12-29      NaN\n",
       "2015-12-30      NaN\n",
       "2015-12-31      NaN\n",
       "Freq: D, Name: spm, Length: 4383, dtype: float64"
      ]
     },
     "execution_count": 7,
     "metadata": {},
     "output_type": "execute_result"
    }
   ],
   "source": [
    "df['no2'].fillna(no2)\n",
    "df['so2'].fillna(so2)\n",
    "df['rspm'].fillna(rspm)\n",
    "df['spm'].fillna(spm)"
   ]
  },
  {
   "cell_type": "code",
   "execution_count": 8,
   "metadata": {},
   "outputs": [],
   "source": [
    "df = df.interpolate(methods = 'date', limit_direction = 'both')"
   ]
  },
  {
   "cell_type": "code",
   "execution_count": 9,
   "metadata": {},
   "outputs": [
    {
     "data": {
      "text/html": [
       "<div>\n",
       "<style scoped>\n",
       "    .dataframe tbody tr th:only-of-type {\n",
       "        vertical-align: middle;\n",
       "    }\n",
       "\n",
       "    .dataframe tbody tr th {\n",
       "        vertical-align: top;\n",
       "    }\n",
       "\n",
       "    .dataframe thead th {\n",
       "        text-align: right;\n",
       "    }\n",
       "</style>\n",
       "<table border=\"1\" class=\"dataframe\">\n",
       "  <thead>\n",
       "    <tr style=\"text-align: right;\">\n",
       "      <th></th>\n",
       "      <th>so2</th>\n",
       "      <th>no2</th>\n",
       "      <th>rspm</th>\n",
       "      <th>spm</th>\n",
       "    </tr>\n",
       "    <tr>\n",
       "      <th>date</th>\n",
       "      <th></th>\n",
       "      <th></th>\n",
       "      <th></th>\n",
       "      <th></th>\n",
       "    </tr>\n",
       "  </thead>\n",
       "  <tbody>\n",
       "    <tr>\n",
       "      <td>2004-01-01</td>\n",
       "      <td>8.0</td>\n",
       "      <td>42.0</td>\n",
       "      <td>238.330000</td>\n",
       "      <td>398.000000</td>\n",
       "    </tr>\n",
       "    <tr>\n",
       "      <td>2004-01-02</td>\n",
       "      <td>8.0</td>\n",
       "      <td>42.0</td>\n",
       "      <td>182.915000</td>\n",
       "      <td>346.500000</td>\n",
       "    </tr>\n",
       "    <tr>\n",
       "      <td>2004-01-03</td>\n",
       "      <td>8.0</td>\n",
       "      <td>42.0</td>\n",
       "      <td>175.276667</td>\n",
       "      <td>344.333333</td>\n",
       "    </tr>\n",
       "    <tr>\n",
       "      <td>2004-01-04</td>\n",
       "      <td>8.0</td>\n",
       "      <td>42.0</td>\n",
       "      <td>167.638333</td>\n",
       "      <td>342.166667</td>\n",
       "    </tr>\n",
       "    <tr>\n",
       "      <td>2004-01-05</td>\n",
       "      <td>8.0</td>\n",
       "      <td>42.0</td>\n",
       "      <td>160.000000</td>\n",
       "      <td>340.000000</td>\n",
       "    </tr>\n",
       "  </tbody>\n",
       "</table>\n",
       "</div>"
      ],
      "text/plain": [
       "            so2   no2        rspm         spm\n",
       "date                                         \n",
       "2004-01-01  8.0  42.0  238.330000  398.000000\n",
       "2004-01-02  8.0  42.0  182.915000  346.500000\n",
       "2004-01-03  8.0  42.0  175.276667  344.333333\n",
       "2004-01-04  8.0  42.0  167.638333  342.166667\n",
       "2004-01-05  8.0  42.0  160.000000  340.000000"
      ]
     },
     "execution_count": 9,
     "metadata": {},
     "output_type": "execute_result"
    }
   ],
   "source": [
    "df.head()"
   ]
  },
  {
   "cell_type": "markdown",
   "metadata": {},
   "source": [
    "### Checking for null cells"
   ]
  },
  {
   "cell_type": "code",
   "execution_count": 10,
   "metadata": {},
   "outputs": [
    {
     "data": {
      "text/plain": [
       "0"
      ]
     },
     "execution_count": 10,
     "metadata": {},
     "output_type": "execute_result"
    }
   ],
   "source": [
    "#for date column\n",
    "date_null_check2 = pd.isnull(df.index)\n",
    "date_null_check2.sum()"
   ]
  },
  {
   "cell_type": "code",
   "execution_count": 11,
   "metadata": {},
   "outputs": [
    {
     "data": {
      "text/plain": [
       "0"
      ]
     },
     "execution_count": 11,
     "metadata": {},
     "output_type": "execute_result"
    }
   ],
   "source": [
    "#for so2 column\n",
    "date_null_check2 = pd.isnull(df['so2'])\n",
    "date_null_check2.sum()"
   ]
  },
  {
   "cell_type": "code",
   "execution_count": 12,
   "metadata": {},
   "outputs": [
    {
     "data": {
      "text/plain": [
       "0"
      ]
     },
     "execution_count": 12,
     "metadata": {},
     "output_type": "execute_result"
    }
   ],
   "source": [
    "#for no2 column\n",
    "date_null_check3 = pd.isnull(df['no2'])\n",
    "date_null_check3.sum()"
   ]
  },
  {
   "cell_type": "code",
   "execution_count": 13,
   "metadata": {},
   "outputs": [
    {
     "data": {
      "text/plain": [
       "0"
      ]
     },
     "execution_count": 13,
     "metadata": {},
     "output_type": "execute_result"
    }
   ],
   "source": [
    "#for rspm column\n",
    "date_null_check4 = pd.isnull(df['rspm'])\n",
    "date_null_check4.sum()"
   ]
  },
  {
   "cell_type": "code",
   "execution_count": 14,
   "metadata": {},
   "outputs": [
    {
     "data": {
      "text/plain": [
       "0"
      ]
     },
     "execution_count": 14,
     "metadata": {},
     "output_type": "execute_result"
    }
   ],
   "source": [
    "#for spm column\n",
    "date_null_check5 = pd.isnull(df['spm'])\n",
    "date_null_check5.sum()"
   ]
  },
  {
   "cell_type": "markdown",
   "metadata": {},
   "source": [
    "### Check for Daily updates"
   ]
  },
  {
   "cell_type": "code",
   "execution_count": 15,
   "metadata": {},
   "outputs": [
    {
     "name": "stdout",
     "output_type": "stream",
     "text": [
      "Values are recorded on a daily basis\n"
     ]
    }
   ],
   "source": [
    "dates_in_datetime = pd.DataFrame(columns=['Date'])\n",
    "dates_in_datetime['Date']= pd.to_datetime(df.index) \n",
    "type(dates_in_datetime['Date'][0])\n",
    "\n",
    "one_day = dt.timedelta(days=1)\n",
    "flag = 0\n",
    "for i in range(1, len(dates_in_datetime['Date'])):\n",
    "    if((dates_in_datetime['Date'][i] - dates_in_datetime['Date'][i-1]) == one_day):\n",
    "        continue\n",
    "    else:\n",
    "        flag=1\n",
    "\n",
    "if(flag==0):\n",
    "    print(\"Values are recorded on a daily basis\")\n",
    "else:\n",
    "    print(\"Values are not recorded on a daily basis\")\n"
   ]
  },
  {
   "cell_type": "markdown",
   "metadata": {},
   "source": [
    "### Check for outliers"
   ]
  },
  {
   "cell_type": "code",
   "execution_count": 16,
   "metadata": {},
   "outputs": [
    {
     "name": "stderr",
     "output_type": "stream",
     "text": [
      "C:\\ANACONDA\\lib\\site-packages\\pandas\\plotting\\_matplotlib\\converter.py:103: FutureWarning: Using an implicitly registered datetime converter for a matplotlib plotting method. The converter was registered by pandas on import. Future versions of pandas will require you to explicitly register matplotlib converters.\n",
      "\n",
      "To register the converters:\n",
      "\t>>> from pandas.plotting import register_matplotlib_converters\n",
      "\t>>> register_matplotlib_converters()\n",
      "  warnings.warn(msg, FutureWarning)\n"
     ]
    },
    {
     "data": {
      "text/plain": [
       "Text(0, 0.5, 'Dates')"
      ]
     },
     "execution_count": 16,
     "metadata": {},
     "output_type": "execute_result"
    },
    {
     "data": {
      "image/png": "[encoded data removed]",
      "text/plain": [
       "<Figure size 432x288 with 1 Axes>"
      ]
     },
     "metadata": {
      "needs_background": "light"
     },
     "output_type": "display_data"
    }
   ],
   "source": [
    "#dates_in_datetime.index\n",
    "x = [i for i in range(0, len(df))]\n",
    "y = dates_in_datetime['Date']\n",
    "\n",
    "plt.plot(x,y)\n",
    "\n",
    "plt.xlabel(\"Indices\")\n",
    "plt.ylabel(\"Dates\")"
   ]
  },
  {
   "cell_type": "markdown",
   "metadata": {},
   "source": [
    "### Valid Format Test\n",
    "\n",
    "In this case, the values recorded under the no2, so2, spm, rspm field must always be non-negative."
   ]
  },
  {
   "cell_type": "code",
   "execution_count": 17,
   "metadata": {},
   "outputs": [
    {
     "name": "stdout",
     "output_type": "stream",
     "text": [
      "All prices recorded are non negative\n"
     ]
    }
   ],
   "source": [
    "#no2\n",
    "flag = 0\n",
    "for i in range(0, len(df['no2'])):\n",
    "    if(df['no2'][i]<0):\n",
    "        flag = 1\n",
    "        print(i)\n",
    "    else:\n",
    "        continue\n",
    "\n",
    "if(flag == 0):\n",
    "    print(\"All prices recorded are non negative\")"
   ]
  },
  {
   "cell_type": "code",
   "execution_count": 18,
   "metadata": {},
   "outputs": [
    {
     "name": "stdout",
     "output_type": "stream",
     "text": [
      "All prices recorded are non negative\n"
     ]
    }
   ],
   "source": [
    "#so2\n",
    "flag = 0\n",
    "for i in range(0, len(df['so2'])):\n",
    "    if(df['so2'][i]<0):\n",
    "        flag = 1\n",
    "        print(i)\n",
    "    else:\n",
    "        continue\n",
    "\n",
    "if(flag == 0):\n",
    "    print(\"All prices recorded are non negative\")\n"
   ]
  },
  {
   "cell_type": "code",
   "execution_count": 19,
   "metadata": {},
   "outputs": [
    {
     "name": "stdout",
     "output_type": "stream",
     "text": [
      "All prices recorded are non negative\n"
     ]
    }
   ],
   "source": [
    "#rspm\n",
    "flag = 0\n",
    "for i in range(0, len(df['rspm'])):\n",
    "    if(df['rspm'][i]<0):\n",
    "        flag = 1\n",
    "        print(i)\n",
    "    else:\n",
    "        continue\n",
    "\n",
    "if(flag == 0):\n",
    "    print(\"All prices recorded are non negative\")"
   ]
  },
  {
   "cell_type": "code",
   "execution_count": 20,
   "metadata": {},
   "outputs": [
    {
     "name": "stdout",
     "output_type": "stream",
     "text": [
      "All prices recorded are non negative\n"
     ]
    }
   ],
   "source": [
    "#spm\n",
    "flag = 0\n",
    "for i in range(0, len(df['spm'])):\n",
    "    if(df['spm'][i]<0):\n",
    "        flag = 1\n",
    "        print(i)\n",
    "    else:\n",
    "        continue\n",
    "\n",
    "if(flag == 0):\n",
    "    print(\"All prices recorded are non negative\")\n"
   ]
  },
  {
   "cell_type": "markdown",
   "metadata": {},
   "source": [
    "### Exporting to a csv file"
   ]
  },
  {
   "cell_type": "code",
   "execution_count": 21,
   "metadata": {},
   "outputs": [],
   "source": [
    "df.to_csv('conc.csv')"
   ]
  }
 ],
 "metadata": {
  "kernelspec": {
   "display_name": "Python 3",
   "language": "python",
   "name": "python3"
  },
  "language_info": {
   "codemirror_mode": {
    "name": "ipython",
    "version": 3
   },
   "file_extension": ".py",
   "mimetype": "text/x-python",
   "name": "python",
   "nbconvert_exporter": "python",
   "pygments_lexer": "ipython3",
   "version": "3.7.4"
  }
 },
 "nbformat": 4,
 "nbformat_minor": 2
}
