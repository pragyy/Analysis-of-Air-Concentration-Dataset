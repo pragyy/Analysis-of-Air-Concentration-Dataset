{
 "cells": [
  {
   "cell_type": "markdown",
   "metadata": {},
   "source": [
    "#  Preprocessing - 2"
   ]
  },
  {
   "cell_type": "code",
   "execution_count": 1,
   "metadata": {},
   "outputs": [],
   "source": [
    "# importing required packages\n",
    "import pandas as pd\n",
    "import datetime as dt\n",
    "import matplotlib.pyplot as plt \n",
    "import numpy as np"
   ]
  },
  {
   "cell_type": "code",
   "execution_count": 2,
   "metadata": {},
   "outputs": [
    {
     "data": {
      "text/html": [
       "<div>\n",
       "<style scoped>\n",
       "    .dataframe tbody tr th:only-of-type {\n",
       "        vertical-align: middle;\n",
       "    }\n",
       "\n",
       "    .dataframe tbody tr th {\n",
       "        vertical-align: top;\n",
       "    }\n",
       "\n",
       "    .dataframe thead th {\n",
       "        text-align: right;\n",
       "    }\n",
       "</style>\n",
       "<table border=\"1\" class=\"dataframe\">\n",
       "  <thead>\n",
       "    <tr style=\"text-align: right;\">\n",
       "      <th></th>\n",
       "      <th>stn_code</th>\n",
       "      <th>sampling_date</th>\n",
       "      <th>state</th>\n",
       "      <th>location</th>\n",
       "      <th>agency</th>\n",
       "      <th>type</th>\n",
       "      <th>so2</th>\n",
       "      <th>no2</th>\n",
       "      <th>rspm</th>\n",
       "      <th>spm</th>\n",
       "      <th>location_monitoring_station</th>\n",
       "      <th>pm2_5</th>\n",
       "      <th>date</th>\n",
       "    </tr>\n",
       "  </thead>\n",
       "  <tbody>\n",
       "    <tr>\n",
       "      <td>0</td>\n",
       "      <td>60.0</td>\n",
       "      <td>09-01-1987</td>\n",
       "      <td>Delhi</td>\n",
       "      <td>Delhi</td>\n",
       "      <td>Central Pollution Control Board</td>\n",
       "      <td>Residential</td>\n",
       "      <td>8.6</td>\n",
       "      <td>16.2</td>\n",
       "      <td>NaN</td>\n",
       "      <td>323.0</td>\n",
       "      <td>NaN</td>\n",
       "      <td>NaN</td>\n",
       "      <td>1987-09-01</td>\n",
       "    </tr>\n",
       "    <tr>\n",
       "      <td>1</td>\n",
       "      <td>59.0</td>\n",
       "      <td>09-02-1987</td>\n",
       "      <td>Delhi</td>\n",
       "      <td>Delhi</td>\n",
       "      <td>Central Pollution Control Board</td>\n",
       "      <td>Residential</td>\n",
       "      <td>6.5</td>\n",
       "      <td>9.3</td>\n",
       "      <td>NaN</td>\n",
       "      <td>488.0</td>\n",
       "      <td>NaN</td>\n",
       "      <td>NaN</td>\n",
       "      <td>1987-09-02</td>\n",
       "    </tr>\n",
       "    <tr>\n",
       "      <td>2</td>\n",
       "      <td>58.0</td>\n",
       "      <td>09-03-1987</td>\n",
       "      <td>Delhi</td>\n",
       "      <td>Delhi</td>\n",
       "      <td>Central Pollution Control Board</td>\n",
       "      <td>Industrial</td>\n",
       "      <td>25.8</td>\n",
       "      <td>10.4</td>\n",
       "      <td>NaN</td>\n",
       "      <td>487.0</td>\n",
       "      <td>NaN</td>\n",
       "      <td>NaN</td>\n",
       "      <td>1987-09-03</td>\n",
       "    </tr>\n",
       "    <tr>\n",
       "      <td>3</td>\n",
       "      <td>57.0</td>\n",
       "      <td>09-03-1987</td>\n",
       "      <td>Delhi</td>\n",
       "      <td>Delhi</td>\n",
       "      <td>Central Pollution Control Board</td>\n",
       "      <td>Industrial</td>\n",
       "      <td>0.5</td>\n",
       "      <td>2.8</td>\n",
       "      <td>NaN</td>\n",
       "      <td>528.0</td>\n",
       "      <td>NaN</td>\n",
       "      <td>NaN</td>\n",
       "      <td>1987-09-03</td>\n",
       "    </tr>\n",
       "    <tr>\n",
       "      <td>4</td>\n",
       "      <td>56.0</td>\n",
       "      <td>09-02-1987</td>\n",
       "      <td>Delhi</td>\n",
       "      <td>Delhi</td>\n",
       "      <td>Central Pollution Control Board</td>\n",
       "      <td>Industrial</td>\n",
       "      <td>2.5</td>\n",
       "      <td>12.8</td>\n",
       "      <td>NaN</td>\n",
       "      <td>506.0</td>\n",
       "      <td>NaN</td>\n",
       "      <td>NaN</td>\n",
       "      <td>1987-09-02</td>\n",
       "    </tr>\n",
       "  </tbody>\n",
       "</table>\n",
       "</div>"
      ],
      "text/plain": [
       "   stn_code sampling_date  state location                           agency  \\\n",
       "0      60.0    09-01-1987  Delhi    Delhi  Central Pollution Control Board   \n",
       "1      59.0    09-02-1987  Delhi    Delhi  Central Pollution Control Board   \n",
       "2      58.0    09-03-1987  Delhi    Delhi  Central Pollution Control Board   \n",
       "3      57.0    09-03-1987  Delhi    Delhi  Central Pollution Control Board   \n",
       "4      56.0    09-02-1987  Delhi    Delhi  Central Pollution Control Board   \n",
       "\n",
       "          type   so2   no2  rspm    spm location_monitoring_station  pm2_5  \\\n",
       "0  Residential   8.6  16.2   NaN  323.0                         NaN    NaN   \n",
       "1  Residential   6.5   9.3   NaN  488.0                         NaN    NaN   \n",
       "2   Industrial  25.8  10.4   NaN  487.0                         NaN    NaN   \n",
       "3   Industrial   0.5   2.8   NaN  528.0                         NaN    NaN   \n",
       "4   Industrial   2.5  12.8   NaN  506.0                         NaN    NaN   \n",
       "\n",
       "        date  \n",
       "0 1987-09-01  \n",
       "1 1987-09-02  \n",
       "2 1987-09-03  \n",
       "3 1987-09-03  \n",
       "4 1987-09-02  "
      ]
     },
     "execution_count": 2,
     "metadata": {},
     "output_type": "execute_result"
    }
   ],
   "source": [
    "# uploading the dataset\n",
    "df = pd.read_csv('delhi.csv', parse_dates = ['date'])\n",
    "df.head()"
   ]
  },
  {
   "cell_type": "markdown",
   "metadata": {},
   "source": [
    "# Understanding the dataset "
   ]
  },
  {
   "cell_type": "markdown",
   "metadata": {},
   "source": [
    "### FINDING THE UNIQUE CELLS IN EACH COLUMN"
   ]
  },
  {
   "cell_type": "code",
   "execution_count": 3,
   "metadata": {},
   "outputs": [
    {
     "data": {
      "text/plain": [
       "12"
      ]
     },
     "execution_count": 3,
     "metadata": {},
     "output_type": "execute_result"
    }
   ],
   "source": [
    "code = df.stn_code.unique()\n",
    "len(code)"
   ]
  },
  {
   "cell_type": "code",
   "execution_count": 4,
   "metadata": {},
   "outputs": [
    {
     "data": {
      "text/plain": [
       "array(['Central Pollution Control Board', nan,\n",
       "       'National Environmental Engineering Research Institute'],\n",
       "      dtype=object)"
      ]
     },
     "execution_count": 4,
     "metadata": {},
     "output_type": "execute_result"
    }
   ],
   "source": [
    "df.agency.unique()"
   ]
  },
  {
   "cell_type": "code",
   "execution_count": 5,
   "metadata": {},
   "outputs": [
    {
     "data": {
      "text/plain": [
       "array(['Residential', 'Industrial', 'Residential, Rural and other Areas',\n",
       "       'Industrial Area', 'Industrial Areas', 'Residential and others'],\n",
       "      dtype=object)"
      ]
     },
     "execution_count": 5,
     "metadata": {},
     "output_type": "execute_result"
    }
   ],
   "source": [
    "df.type.unique()"
   ]
  },
  {
   "cell_type": "code",
   "execution_count": 6,
   "metadata": {},
   "outputs": [
    {
     "data": {
      "text/plain": [
       "array([nan, 'Nizamuddin, Delhi', 'Ashok Vihar, Delhi',\n",
       "       'Shahzada Bagh, Delhi', 'Shahadra, Delhi', 'Janakpuri, Delhi',\n",
       "       'Siri Fort, Delhi', 'Mayapuri Indl. Area', 'Shahdara',\n",
       "       'Shahzada Bagh', 'Ashok Vihar', 'BSZ Marg', 'DCE', 'Janakpuri',\n",
       "       'N.Y. School', 'Nizamuddin', 'Siri Fort', 'Town Hall',\n",
       "       'Pritampura', 'Pritampura, Delhi',\n",
       "       'N.Y. SCHOOL, Sarojini Nagar, Delhi',\n",
       "       'Town Hall, Ayurvedic Dispensary, Chandni Chowk, Delhi',\n",
       "       'Mayapuri Industrial Area, Delhi'], dtype=object)"
      ]
     },
     "execution_count": 6,
     "metadata": {},
     "output_type": "execute_result"
    }
   ],
   "source": [
    "df.location_monitoring_station.unique()"
   ]
  },
  {
   "cell_type": "code",
   "execution_count": 7,
   "metadata": {},
   "outputs": [
    {
     "data": {
      "text/plain": [
       "array(['Delhi'], dtype=object)"
      ]
     },
     "execution_count": 7,
     "metadata": {},
     "output_type": "execute_result"
    }
   ],
   "source": [
    "df.location.unique()"
   ]
  },
  {
   "cell_type": "markdown",
   "metadata": {},
   "source": [
    "### CHECKING FOR EMPTY CELLS"
   ]
  },
  {
   "cell_type": "code",
   "execution_count": 8,
   "metadata": {},
   "outputs": [
    {
     "data": {
      "text/plain": [
       "0"
      ]
     },
     "execution_count": 8,
     "metadata": {},
     "output_type": "execute_result"
    }
   ],
   "source": [
    "date_null_check1 = pd.isnull(df['sampling_date'])\n",
    "date_null_check1.sum()"
   ]
  },
  {
   "cell_type": "code",
   "execution_count": 9,
   "metadata": {},
   "outputs": [
    {
     "data": {
      "text/plain": [
       "3956"
      ]
     },
     "execution_count": 9,
     "metadata": {},
     "output_type": "execute_result"
    }
   ],
   "source": [
    "date_null_check2 = pd.isnull(df['agency'])\n",
    "date_null_check2.sum()"
   ]
  },
  {
   "cell_type": "code",
   "execution_count": 10,
   "metadata": {},
   "outputs": [
    {
     "data": {
      "text/plain": [
       "741"
      ]
     },
     "execution_count": 10,
     "metadata": {},
     "output_type": "execute_result"
    }
   ],
   "source": [
    "date_null_check3 = pd.isnull(df['so2'])\n",
    "date_null_check3.sum()"
   ]
  },
  {
   "cell_type": "code",
   "execution_count": 11,
   "metadata": {},
   "outputs": [
    {
     "data": {
      "text/plain": [
       "544"
      ]
     },
     "execution_count": 11,
     "metadata": {},
     "output_type": "execute_result"
    }
   ],
   "source": [
    "date_null_check4 = pd.isnull(df['no2'])\n",
    "date_null_check4.sum()"
   ]
  },
  {
   "cell_type": "code",
   "execution_count": 12,
   "metadata": {},
   "outputs": [
    {
     "data": {
      "text/plain": [
       "3092"
      ]
     },
     "execution_count": 12,
     "metadata": {},
     "output_type": "execute_result"
    }
   ],
   "source": [
    "date_null_check5 = pd.isnull(df['spm'])\n",
    "date_null_check5.sum()"
   ]
  },
  {
   "cell_type": "code",
   "execution_count": 13,
   "metadata": {},
   "outputs": [
    {
     "data": {
      "text/plain": [
       "1884"
      ]
     },
     "execution_count": 13,
     "metadata": {},
     "output_type": "execute_result"
    }
   ],
   "source": [
    "date_null_check6 = pd.isnull(df['rspm'])\n",
    "date_null_check6.sum()"
   ]
  },
  {
   "cell_type": "code",
   "execution_count": 14,
   "metadata": {},
   "outputs": [
    {
     "data": {
      "text/plain": [
       "8180"
      ]
     },
     "execution_count": 14,
     "metadata": {},
     "output_type": "execute_result"
    }
   ],
   "source": [
    "date_null_check1 = pd.isnull(df['pm2_5'])\n",
    "date_null_check1.sum()"
   ]
  },
  {
   "cell_type": "markdown",
   "metadata": {},
   "source": [
    "### CHECKING THE DATES"
   ]
  },
  {
   "cell_type": "code",
   "execution_count": 15,
   "metadata": {},
   "outputs": [
    {
     "name": "stdout",
     "output_type": "stream",
     "text": [
      "Values are not recorded on a daily basis\n"
     ]
    }
   ],
   "source": [
    "# checking whether the time series is recorded daily or not\n",
    "dates_in_datetime = pd.DataFrame(columns=['date'])\n",
    "dates_in_datetime['Date']= pd.to_datetime(df['date']) \n",
    "type(dates_in_datetime['Date'][0])\n",
    "\n",
    "one_day = dt.timedelta(days=1)\n",
    "flag = 0\n",
    "for i in range(1, len(dates_in_datetime['Date'])):\n",
    "    if((dates_in_datetime['Date'][i] - dates_in_datetime['Date'][i-1]) == one_day):\n",
    "        continue\n",
    "    else:\n",
    "        flag=1\n",
    "\n",
    "if(flag==0):\n",
    "    print(\"Values are recorded on a daily basis\")\n",
    "else:\n",
    "    print(\"Values are not recorded on a daily basis\")"
   ]
  },
  {
   "cell_type": "code",
   "execution_count": 16,
   "metadata": {},
   "outputs": [
    {
     "name": "stderr",
     "output_type": "stream",
     "text": [
      "C:\\ANACONDA\\lib\\site-packages\\pandas\\plotting\\_matplotlib\\converter.py:103: FutureWarning: Using an implicitly registered datetime converter for a matplotlib plotting method. The converter was registered by pandas on import. Future versions of pandas will require you to explicitly register matplotlib converters.\n",
      "\n",
      "To register the converters:\n",
      "\t>>> from pandas.plotting import register_matplotlib_converters\n",
      "\t>>> register_matplotlib_converters()\n",
      "  warnings.warn(msg, FutureWarning)\n"
     ]
    },
    {
     "data": {
      "text/plain": [
       "Text(0, 0.5, 'Dates')"
      ]
     },
     "execution_count": 16,
     "metadata": {},
     "output_type": "execute_result"
    },
    {
     "data": {
      "image/png": "[encoded data removed]",
      "text/plain": [
       "<Figure size 432x288 with 1 Axes>"
      ]
     },
     "metadata": {
      "needs_background": "light"
     },
     "output_type": "display_data"
    }
   ],
   "source": [
    "# plotting the dates\n",
    "dates_in_datetime.index\n",
    "x = [i for i in range(0, len(dates_in_datetime['Date']))]\n",
    "y = dates_in_datetime['Date']\n",
    "\n",
    "plt.plot(x,y)\n",
    "\n",
    "plt.xlabel(\"Indices\")\n",
    "plt.ylabel(\"Dates\")"
   ]
  },
  {
   "cell_type": "code",
   "execution_count": 17,
   "metadata": {},
   "outputs": [],
   "source": [
    "# identifying whether there are duplicate cells for a particular day\n",
    "idx = pd.date_range(df['date'].min(), df['date'].max())\n",
    "s = df.groupby(['date']).size()"
   ]
  },
  {
   "cell_type": "code",
   "execution_count": 18,
   "metadata": {},
   "outputs": [
    {
     "name": "stdout",
     "output_type": "stream",
     "text": [
      "date\n",
      "1987-09-01    1\n",
      "1987-09-02    3\n",
      "1987-09-03    2\n",
      "1987-10-01    2\n",
      "1987-10-03    3\n",
      "             ..\n",
      "2015-12-23    2\n",
      "2015-12-28    1\n",
      "2015-12-29    5\n",
      "2015-12-30    5\n",
      "2015-12-31    3\n",
      "Length: 3073, dtype: int64\n"
     ]
    }
   ],
   "source": [
    "print(s)"
   ]
  },
  {
   "cell_type": "markdown",
   "metadata": {},
   "source": [
    "### UNDERSTANDING DATA BASED ON MONITORING STATION"
   ]
  },
  {
   "cell_type": "code",
   "execution_count": 19,
   "metadata": {},
   "outputs": [
    {
     "data": {
      "text/html": [
       "<div>\n",
       "<style scoped>\n",
       "    .dataframe tbody tr th:only-of-type {\n",
       "        vertical-align: middle;\n",
       "    }\n",
       "\n",
       "    .dataframe tbody tr th {\n",
       "        vertical-align: top;\n",
       "    }\n",
       "\n",
       "    .dataframe thead th {\n",
       "        text-align: right;\n",
       "    }\n",
       "</style>\n",
       "<table border=\"1\" class=\"dataframe\">\n",
       "  <thead>\n",
       "    <tr style=\"text-align: right;\">\n",
       "      <th></th>\n",
       "      <th>stn_code</th>\n",
       "      <th>sampling_date</th>\n",
       "      <th>state</th>\n",
       "      <th>location</th>\n",
       "      <th>agency</th>\n",
       "      <th>type</th>\n",
       "      <th>so2</th>\n",
       "      <th>no2</th>\n",
       "      <th>rspm</th>\n",
       "      <th>spm</th>\n",
       "      <th>location_monitoring_station</th>\n",
       "      <th>pm2_5</th>\n",
       "      <th>date</th>\n",
       "    </tr>\n",
       "  </thead>\n",
       "  <tbody>\n",
       "    <tr>\n",
       "      <td>2699</td>\n",
       "      <td>NaN</td>\n",
       "      <td>01-03-2005</td>\n",
       "      <td>Delhi</td>\n",
       "      <td>Delhi</td>\n",
       "      <td>NaN</td>\n",
       "      <td>Residential and others</td>\n",
       "      <td>8.0</td>\n",
       "      <td>42.0</td>\n",
       "      <td>90.0</td>\n",
       "      <td>218.0</td>\n",
       "      <td>Ashok Vihar</td>\n",
       "      <td>NaN</td>\n",
       "      <td>2005-01-03</td>\n",
       "    </tr>\n",
       "    <tr>\n",
       "      <td>2700</td>\n",
       "      <td>NaN</td>\n",
       "      <td>01-06-2005</td>\n",
       "      <td>Delhi</td>\n",
       "      <td>Delhi</td>\n",
       "      <td>NaN</td>\n",
       "      <td>Residential and others</td>\n",
       "      <td>9.0</td>\n",
       "      <td>54.0</td>\n",
       "      <td>99.0</td>\n",
       "      <td>213.0</td>\n",
       "      <td>Ashok Vihar</td>\n",
       "      <td>NaN</td>\n",
       "      <td>2005-01-06</td>\n",
       "    </tr>\n",
       "    <tr>\n",
       "      <td>2701</td>\n",
       "      <td>NaN</td>\n",
       "      <td>01-11-2005</td>\n",
       "      <td>Delhi</td>\n",
       "      <td>Delhi</td>\n",
       "      <td>NaN</td>\n",
       "      <td>Residential and others</td>\n",
       "      <td>8.0</td>\n",
       "      <td>47.0</td>\n",
       "      <td>90.0</td>\n",
       "      <td>287.0</td>\n",
       "      <td>Ashok Vihar</td>\n",
       "      <td>NaN</td>\n",
       "      <td>2005-01-11</td>\n",
       "    </tr>\n",
       "    <tr>\n",
       "      <td>2702</td>\n",
       "      <td>NaN</td>\n",
       "      <td>14-01-2005</td>\n",
       "      <td>Delhi</td>\n",
       "      <td>Delhi</td>\n",
       "      <td>NaN</td>\n",
       "      <td>Residential and others</td>\n",
       "      <td>8.0</td>\n",
       "      <td>47.0</td>\n",
       "      <td>62.0</td>\n",
       "      <td>223.0</td>\n",
       "      <td>Ashok Vihar</td>\n",
       "      <td>NaN</td>\n",
       "      <td>2005-01-14</td>\n",
       "    </tr>\n",
       "    <tr>\n",
       "      <td>2703</td>\n",
       "      <td>NaN</td>\n",
       "      <td>25-01-2005</td>\n",
       "      <td>Delhi</td>\n",
       "      <td>Delhi</td>\n",
       "      <td>NaN</td>\n",
       "      <td>Residential and others</td>\n",
       "      <td>6.0</td>\n",
       "      <td>32.0</td>\n",
       "      <td>96.0</td>\n",
       "      <td>233.0</td>\n",
       "      <td>Ashok Vihar</td>\n",
       "      <td>NaN</td>\n",
       "      <td>2005-01-25</td>\n",
       "    </tr>\n",
       "    <tr>\n",
       "      <td>...</td>\n",
       "      <td>...</td>\n",
       "      <td>...</td>\n",
       "      <td>...</td>\n",
       "      <td>...</td>\n",
       "      <td>...</td>\n",
       "      <td>...</td>\n",
       "      <td>...</td>\n",
       "      <td>...</td>\n",
       "      <td>...</td>\n",
       "      <td>...</td>\n",
       "      <td>...</td>\n",
       "      <td>...</td>\n",
       "      <td>...</td>\n",
       "    </tr>\n",
       "    <tr>\n",
       "      <td>1925</td>\n",
       "      <td>145.0</td>\n",
       "      <td>28-12-2003</td>\n",
       "      <td>Delhi</td>\n",
       "      <td>Delhi</td>\n",
       "      <td>NaN</td>\n",
       "      <td>Industrial Area</td>\n",
       "      <td>12.0</td>\n",
       "      <td>52.0</td>\n",
       "      <td>NaN</td>\n",
       "      <td>489.0</td>\n",
       "      <td>NaN</td>\n",
       "      <td>NaN</td>\n",
       "      <td>2003-12-28</td>\n",
       "    </tr>\n",
       "    <tr>\n",
       "      <td>1461</td>\n",
       "      <td>56.0</td>\n",
       "      <td>29-12-2003</td>\n",
       "      <td>Delhi</td>\n",
       "      <td>Delhi</td>\n",
       "      <td>Central Pollution Control Board</td>\n",
       "      <td>Industrial Area</td>\n",
       "      <td>8.0</td>\n",
       "      <td>43.0</td>\n",
       "      <td>192.0</td>\n",
       "      <td>333.0</td>\n",
       "      <td>NaN</td>\n",
       "      <td>NaN</td>\n",
       "      <td>2003-12-29</td>\n",
       "    </tr>\n",
       "    <tr>\n",
       "      <td>1749</td>\n",
       "      <td>60.0</td>\n",
       "      <td>29-12-2003</td>\n",
       "      <td>Delhi</td>\n",
       "      <td>Delhi</td>\n",
       "      <td>Central Pollution Control Board</td>\n",
       "      <td>Residential, Rural and other Areas</td>\n",
       "      <td>11.0</td>\n",
       "      <td>45.0</td>\n",
       "      <td>289.0</td>\n",
       "      <td>497.0</td>\n",
       "      <td>NaN</td>\n",
       "      <td>NaN</td>\n",
       "      <td>2003-12-29</td>\n",
       "    </tr>\n",
       "    <tr>\n",
       "      <td>1393</td>\n",
       "      <td>55.0</td>\n",
       "      <td>30-12-2003</td>\n",
       "      <td>Delhi</td>\n",
       "      <td>Delhi</td>\n",
       "      <td>Central Pollution Control Board</td>\n",
       "      <td>Industrial Area</td>\n",
       "      <td>14.0</td>\n",
       "      <td>52.0</td>\n",
       "      <td>147.0</td>\n",
       "      <td>335.0</td>\n",
       "      <td>NaN</td>\n",
       "      <td>NaN</td>\n",
       "      <td>2003-12-30</td>\n",
       "    </tr>\n",
       "    <tr>\n",
       "      <td>1535</td>\n",
       "      <td>57.0</td>\n",
       "      <td>30-12-2003</td>\n",
       "      <td>Delhi</td>\n",
       "      <td>Delhi</td>\n",
       "      <td>Central Pollution Control Board</td>\n",
       "      <td>Industrial Area</td>\n",
       "      <td>11.0</td>\n",
       "      <td>60.0</td>\n",
       "      <td>223.0</td>\n",
       "      <td>433.0</td>\n",
       "      <td>NaN</td>\n",
       "      <td>NaN</td>\n",
       "      <td>2003-12-30</td>\n",
       "    </tr>\n",
       "  </tbody>\n",
       "</table>\n",
       "<p>8551 rows × 13 columns</p>\n",
       "</div>"
      ],
      "text/plain": [
       "      stn_code sampling_date  state location                           agency  \\\n",
       "2699       NaN    01-03-2005  Delhi    Delhi                              NaN   \n",
       "2700       NaN    01-06-2005  Delhi    Delhi                              NaN   \n",
       "2701       NaN    01-11-2005  Delhi    Delhi                              NaN   \n",
       "2702       NaN    14-01-2005  Delhi    Delhi                              NaN   \n",
       "2703       NaN    25-01-2005  Delhi    Delhi                              NaN   \n",
       "...        ...           ...    ...      ...                              ...   \n",
       "1925     145.0    28-12-2003  Delhi    Delhi                              NaN   \n",
       "1461      56.0    29-12-2003  Delhi    Delhi  Central Pollution Control Board   \n",
       "1749      60.0    29-12-2003  Delhi    Delhi  Central Pollution Control Board   \n",
       "1393      55.0    30-12-2003  Delhi    Delhi  Central Pollution Control Board   \n",
       "1535      57.0    30-12-2003  Delhi    Delhi  Central Pollution Control Board   \n",
       "\n",
       "                                    type   so2   no2   rspm    spm  \\\n",
       "2699              Residential and others   8.0  42.0   90.0  218.0   \n",
       "2700              Residential and others   9.0  54.0   99.0  213.0   \n",
       "2701              Residential and others   8.0  47.0   90.0  287.0   \n",
       "2702              Residential and others   8.0  47.0   62.0  223.0   \n",
       "2703              Residential and others   6.0  32.0   96.0  233.0   \n",
       "...                                  ...   ...   ...    ...    ...   \n",
       "1925                     Industrial Area  12.0  52.0    NaN  489.0   \n",
       "1461                     Industrial Area   8.0  43.0  192.0  333.0   \n",
       "1749  Residential, Rural and other Areas  11.0  45.0  289.0  497.0   \n",
       "1393                     Industrial Area  14.0  52.0  147.0  335.0   \n",
       "1535                     Industrial Area  11.0  60.0  223.0  433.0   \n",
       "\n",
       "     location_monitoring_station  pm2_5       date  \n",
       "2699                 Ashok Vihar    NaN 2005-01-03  \n",
       "2700                 Ashok Vihar    NaN 2005-01-06  \n",
       "2701                 Ashok Vihar    NaN 2005-01-11  \n",
       "2702                 Ashok Vihar    NaN 2005-01-14  \n",
       "2703                 Ashok Vihar    NaN 2005-01-25  \n",
       "...                          ...    ...        ...  \n",
       "1925                         NaN    NaN 2003-12-28  \n",
       "1461                         NaN    NaN 2003-12-29  \n",
       "1749                         NaN    NaN 2003-12-29  \n",
       "1393                         NaN    NaN 2003-12-30  \n",
       "1535                         NaN    NaN 2003-12-30  \n",
       "\n",
       "[8551 rows x 13 columns]"
      ]
     },
     "execution_count": 19,
     "metadata": {},
     "output_type": "execute_result"
    }
   ],
   "source": [
    "# sorting the dataset based on the monitoring station\n",
    "df.sort_values(by=['location_monitoring_station','date'])"
   ]
  },
  {
   "cell_type": "code",
   "execution_count": 20,
   "metadata": {},
   "outputs": [
    {
     "data": {
      "text/plain": [
       "N.Y. SCHOOL, Sarojini Nagar, Delhi                       472\n",
       "Town Hall, Ayurvedic Dispensary, Chandni Chowk, Delhi    469\n",
       "Mayapuri Industrial Area, Delhi                          463\n",
       "Mayapuri Indl. Area                                      383\n",
       "Town Hall                                                378\n",
       "Shahdara                                                 368\n",
       "Janakpuri                                                360\n",
       "Siri Fort                                                358\n",
       "Shahzada Bagh                                            350\n",
       "Nizamuddin                                               348\n",
       "N.Y. School                                              334\n",
       "Shahadra, Delhi                                          306\n",
       "Nizamuddin, Delhi                                        305\n",
       "Shahzada Bagh, Delhi                                     302\n",
       "Siri Fort, Delhi                                         301\n",
       "Janakpuri, Delhi                                         297\n",
       "Pritampura                                               262\n",
       "Pritampura, Delhi                                        230\n",
       "Ashok Vihar, Delhi                                        79\n",
       "BSZ Marg                                                  69\n",
       "Ashok Vihar                                               69\n",
       "DCE                                                       26\n",
       "Name: location_monitoring_station, dtype: int64"
      ]
     },
     "execution_count": 20,
     "metadata": {},
     "output_type": "execute_result"
    }
   ],
   "source": [
    "# tuples for each monitoring station\n",
    "df['location_monitoring_station'].value_counts()"
   ]
  },
  {
   "cell_type": "markdown",
   "metadata": {},
   "source": [
    "# Preprocessng the dataset as per requirements"
   ]
  },
  {
   "cell_type": "code",
   "execution_count": 21,
   "metadata": {},
   "outputs": [],
   "source": [
    "# removing redundancy and complex tuple values \n",
    "a = list(df['type'])\n",
    "for i in range(0, len(df)):\n",
    "    if str(a[i][0]) == 'R' and a[i][1] == 'e':\n",
    "        a[i] = 'Residential'\n",
    "    elif str(a[i][0]) == 'I':\n",
    "        a[i] = 'Industrial'\n",
    "    else:\n",
    "        a[i] = 'Other'\n",
    "    \n",
    "df['type'] = a"
   ]
  },
  {
   "cell_type": "code",
   "execution_count": 22,
   "metadata": {},
   "outputs": [],
   "source": [
    "# removing redundancies in location_monitoring_station column\n",
    "a = list(df['location_monitoring_station'])\n",
    "for i in range(0,len(df)):\n",
    "    if str(a[i]) == 'Ashok Vihar, Delhi':\n",
    "        a[i] = 'Ashok Vihar'\n",
    "    elif str(a[i]) == 'Pritampura, Delhi':\n",
    "        a[i] = 'Pritampura'\n",
    "    elif str(a[i]) == 'Janakpuri, Delhi':\n",
    "        a[i] = 'Janakpuri'\n",
    "    elif str(a[i]) == 'Siri Fort, Delhi':\n",
    "        a[i] = 'Siri Fort'\n",
    "    elif str(a[i]) == 'Shahzada Bagh, Delhi':\n",
    "        a[i] = 'Shahzada Bagh'\n",
    "    elif str(a[i]) == 'Nizamuddin, Delhi':\n",
    "        a[i] = 'Nizamuddin'\n",
    "    elif str(a[i]) == 'Shahadra, Delhi':\n",
    "        a[i] = 'Shahdara'\n",
    "    elif str(a[i]) == 'Town Hall, Ayurvedic Dispensary, Chandni Chowk, Delhi':\n",
    "        a[i] = 'Town Hall'\n",
    "    elif str(a[i]) == 'N.Y. SCHOOL, Sarojini Nagar, Delhi':\n",
    "        a[i] = 'N.Y. School'\n",
    "    elif str(a[i]) == 'Mayapuri Industrial Area, Delhi' or str(a[i]) == 'Mayapuri Indl. Area':\n",
    "        a[i] = 'Mayapuri'"
   ]
  },
  {
   "cell_type": "code",
   "execution_count": 23,
   "metadata": {},
   "outputs": [],
   "source": [
    "df['location_monitoring_station'] = a"
   ]
  },
  {
   "cell_type": "code",
   "execution_count": 24,
   "metadata": {},
   "outputs": [
    {
     "data": {
      "text/html": [
       "<div>\n",
       "<style scoped>\n",
       "    .dataframe tbody tr th:only-of-type {\n",
       "        vertical-align: middle;\n",
       "    }\n",
       "\n",
       "    .dataframe tbody tr th {\n",
       "        vertical-align: top;\n",
       "    }\n",
       "\n",
       "    .dataframe thead th {\n",
       "        text-align: right;\n",
       "    }\n",
       "</style>\n",
       "<table border=\"1\" class=\"dataframe\">\n",
       "  <thead>\n",
       "    <tr style=\"text-align: right;\">\n",
       "      <th></th>\n",
       "      <th>stn_code</th>\n",
       "      <th>sampling_date</th>\n",
       "      <th>state</th>\n",
       "      <th>location</th>\n",
       "      <th>agency</th>\n",
       "      <th>type</th>\n",
       "      <th>so2</th>\n",
       "      <th>no2</th>\n",
       "      <th>rspm</th>\n",
       "      <th>spm</th>\n",
       "      <th>location_monitoring_station</th>\n",
       "      <th>pm2_5</th>\n",
       "      <th>date</th>\n",
       "    </tr>\n",
       "  </thead>\n",
       "  <tbody>\n",
       "    <tr>\n",
       "      <td>2099</td>\n",
       "      <td>56.0</td>\n",
       "      <td>01-02-2004</td>\n",
       "      <td>Delhi</td>\n",
       "      <td>Delhi</td>\n",
       "      <td>Central Pollution Control Board</td>\n",
       "      <td>Residential</td>\n",
       "      <td>NaN</td>\n",
       "      <td>NaN</td>\n",
       "      <td>198.50</td>\n",
       "      <td>324.0</td>\n",
       "      <td>Ashok Vihar</td>\n",
       "      <td>NaN</td>\n",
       "      <td>2004-01-02</td>\n",
       "    </tr>\n",
       "    <tr>\n",
       "      <td>2100</td>\n",
       "      <td>56.0</td>\n",
       "      <td>01-07-2004</td>\n",
       "      <td>Delhi</td>\n",
       "      <td>Delhi</td>\n",
       "      <td>Central Pollution Control Board</td>\n",
       "      <td>Residential</td>\n",
       "      <td>NaN</td>\n",
       "      <td>NaN</td>\n",
       "      <td>149.67</td>\n",
       "      <td>312.0</td>\n",
       "      <td>Ashok Vihar</td>\n",
       "      <td>NaN</td>\n",
       "      <td>2004-01-07</td>\n",
       "    </tr>\n",
       "    <tr>\n",
       "      <td>2101</td>\n",
       "      <td>56.0</td>\n",
       "      <td>01-12-2004</td>\n",
       "      <td>Delhi</td>\n",
       "      <td>Delhi</td>\n",
       "      <td>Central Pollution Control Board</td>\n",
       "      <td>Residential</td>\n",
       "      <td>NaN</td>\n",
       "      <td>NaN</td>\n",
       "      <td>136.50</td>\n",
       "      <td>360.0</td>\n",
       "      <td>Ashok Vihar</td>\n",
       "      <td>NaN</td>\n",
       "      <td>2004-01-12</td>\n",
       "    </tr>\n",
       "    <tr>\n",
       "      <td>2102</td>\n",
       "      <td>56.0</td>\n",
       "      <td>15-01-2004</td>\n",
       "      <td>Delhi</td>\n",
       "      <td>Delhi</td>\n",
       "      <td>Central Pollution Control Board</td>\n",
       "      <td>Residential</td>\n",
       "      <td>NaN</td>\n",
       "      <td>NaN</td>\n",
       "      <td>208.67</td>\n",
       "      <td>348.0</td>\n",
       "      <td>Ashok Vihar</td>\n",
       "      <td>NaN</td>\n",
       "      <td>2004-01-15</td>\n",
       "    </tr>\n",
       "    <tr>\n",
       "      <td>2103</td>\n",
       "      <td>56.0</td>\n",
       "      <td>20-01-2004</td>\n",
       "      <td>Delhi</td>\n",
       "      <td>Delhi</td>\n",
       "      <td>Central Pollution Control Board</td>\n",
       "      <td>Residential</td>\n",
       "      <td>NaN</td>\n",
       "      <td>NaN</td>\n",
       "      <td>245.50</td>\n",
       "      <td>429.0</td>\n",
       "      <td>Ashok Vihar</td>\n",
       "      <td>NaN</td>\n",
       "      <td>2004-01-20</td>\n",
       "    </tr>\n",
       "    <tr>\n",
       "      <td>...</td>\n",
       "      <td>...</td>\n",
       "      <td>...</td>\n",
       "      <td>...</td>\n",
       "      <td>...</td>\n",
       "      <td>...</td>\n",
       "      <td>...</td>\n",
       "      <td>...</td>\n",
       "      <td>...</td>\n",
       "      <td>...</td>\n",
       "      <td>...</td>\n",
       "      <td>...</td>\n",
       "      <td>...</td>\n",
       "      <td>...</td>\n",
       "    </tr>\n",
       "    <tr>\n",
       "      <td>1925</td>\n",
       "      <td>145.0</td>\n",
       "      <td>28-12-2003</td>\n",
       "      <td>Delhi</td>\n",
       "      <td>Delhi</td>\n",
       "      <td>NaN</td>\n",
       "      <td>Industrial</td>\n",
       "      <td>12.0</td>\n",
       "      <td>52.0</td>\n",
       "      <td>NaN</td>\n",
       "      <td>489.0</td>\n",
       "      <td>NaN</td>\n",
       "      <td>NaN</td>\n",
       "      <td>2003-12-28</td>\n",
       "    </tr>\n",
       "    <tr>\n",
       "      <td>1461</td>\n",
       "      <td>56.0</td>\n",
       "      <td>29-12-2003</td>\n",
       "      <td>Delhi</td>\n",
       "      <td>Delhi</td>\n",
       "      <td>Central Pollution Control Board</td>\n",
       "      <td>Industrial</td>\n",
       "      <td>8.0</td>\n",
       "      <td>43.0</td>\n",
       "      <td>192.00</td>\n",
       "      <td>333.0</td>\n",
       "      <td>NaN</td>\n",
       "      <td>NaN</td>\n",
       "      <td>2003-12-29</td>\n",
       "    </tr>\n",
       "    <tr>\n",
       "      <td>1749</td>\n",
       "      <td>60.0</td>\n",
       "      <td>29-12-2003</td>\n",
       "      <td>Delhi</td>\n",
       "      <td>Delhi</td>\n",
       "      <td>Central Pollution Control Board</td>\n",
       "      <td>Residential</td>\n",
       "      <td>11.0</td>\n",
       "      <td>45.0</td>\n",
       "      <td>289.00</td>\n",
       "      <td>497.0</td>\n",
       "      <td>NaN</td>\n",
       "      <td>NaN</td>\n",
       "      <td>2003-12-29</td>\n",
       "    </tr>\n",
       "    <tr>\n",
       "      <td>1393</td>\n",
       "      <td>55.0</td>\n",
       "      <td>30-12-2003</td>\n",
       "      <td>Delhi</td>\n",
       "      <td>Delhi</td>\n",
       "      <td>Central Pollution Control Board</td>\n",
       "      <td>Industrial</td>\n",
       "      <td>14.0</td>\n",
       "      <td>52.0</td>\n",
       "      <td>147.00</td>\n",
       "      <td>335.0</td>\n",
       "      <td>NaN</td>\n",
       "      <td>NaN</td>\n",
       "      <td>2003-12-30</td>\n",
       "    </tr>\n",
       "    <tr>\n",
       "      <td>1535</td>\n",
       "      <td>57.0</td>\n",
       "      <td>30-12-2003</td>\n",
       "      <td>Delhi</td>\n",
       "      <td>Delhi</td>\n",
       "      <td>Central Pollution Control Board</td>\n",
       "      <td>Industrial</td>\n",
       "      <td>11.0</td>\n",
       "      <td>60.0</td>\n",
       "      <td>223.00</td>\n",
       "      <td>433.0</td>\n",
       "      <td>NaN</td>\n",
       "      <td>NaN</td>\n",
       "      <td>2003-12-30</td>\n",
       "    </tr>\n",
       "  </tbody>\n",
       "</table>\n",
       "<p>8551 rows × 13 columns</p>\n",
       "</div>"
      ],
      "text/plain": [
       "      stn_code sampling_date  state location                           agency  \\\n",
       "2099      56.0    01-02-2004  Delhi    Delhi  Central Pollution Control Board   \n",
       "2100      56.0    01-07-2004  Delhi    Delhi  Central Pollution Control Board   \n",
       "2101      56.0    01-12-2004  Delhi    Delhi  Central Pollution Control Board   \n",
       "2102      56.0    15-01-2004  Delhi    Delhi  Central Pollution Control Board   \n",
       "2103      56.0    20-01-2004  Delhi    Delhi  Central Pollution Control Board   \n",
       "...        ...           ...    ...      ...                              ...   \n",
       "1925     145.0    28-12-2003  Delhi    Delhi                              NaN   \n",
       "1461      56.0    29-12-2003  Delhi    Delhi  Central Pollution Control Board   \n",
       "1749      60.0    29-12-2003  Delhi    Delhi  Central Pollution Control Board   \n",
       "1393      55.0    30-12-2003  Delhi    Delhi  Central Pollution Control Board   \n",
       "1535      57.0    30-12-2003  Delhi    Delhi  Central Pollution Control Board   \n",
       "\n",
       "             type   so2   no2    rspm    spm location_monitoring_station  \\\n",
       "2099  Residential   NaN   NaN  198.50  324.0                 Ashok Vihar   \n",
       "2100  Residential   NaN   NaN  149.67  312.0                 Ashok Vihar   \n",
       "2101  Residential   NaN   NaN  136.50  360.0                 Ashok Vihar   \n",
       "2102  Residential   NaN   NaN  208.67  348.0                 Ashok Vihar   \n",
       "2103  Residential   NaN   NaN  245.50  429.0                 Ashok Vihar   \n",
       "...           ...   ...   ...     ...    ...                         ...   \n",
       "1925   Industrial  12.0  52.0     NaN  489.0                         NaN   \n",
       "1461   Industrial   8.0  43.0  192.00  333.0                         NaN   \n",
       "1749  Residential  11.0  45.0  289.00  497.0                         NaN   \n",
       "1393   Industrial  14.0  52.0  147.00  335.0                         NaN   \n",
       "1535   Industrial  11.0  60.0  223.00  433.0                         NaN   \n",
       "\n",
       "      pm2_5       date  \n",
       "2099    NaN 2004-01-02  \n",
       "2100    NaN 2004-01-07  \n",
       "2101    NaN 2004-01-12  \n",
       "2102    NaN 2004-01-15  \n",
       "2103    NaN 2004-01-20  \n",
       "...     ...        ...  \n",
       "1925    NaN 2003-12-28  \n",
       "1461    NaN 2003-12-29  \n",
       "1749    NaN 2003-12-29  \n",
       "1393    NaN 2003-12-30  \n",
       "1535    NaN 2003-12-30  \n",
       "\n",
       "[8551 rows x 13 columns]"
      ]
     },
     "execution_count": 24,
     "metadata": {},
     "output_type": "execute_result"
    }
   ],
   "source": [
    "# sorting the dataframe by location_monitoring_station and date\n",
    "df.sort_values(by=['location_monitoring_station','date'])"
   ]
  },
  {
   "cell_type": "code",
   "execution_count": 25,
   "metadata": {},
   "outputs": [
    {
     "data": {
      "text/plain": [
       "Town Hall        847\n",
       "Mayapuri         846\n",
       "N.Y. School      806\n",
       "Shahdara         674\n",
       "Siri Fort        659\n",
       "Janakpuri        657\n",
       "Nizamuddin       653\n",
       "Shahzada Bagh    652\n",
       "Pritampura       492\n",
       "Ashok Vihar      148\n",
       "BSZ Marg          69\n",
       "DCE               26\n",
       "Name: location_monitoring_station, dtype: int64"
      ]
     },
     "execution_count": 25,
     "metadata": {},
     "output_type": "execute_result"
    }
   ],
   "source": [
    "df['location_monitoring_station'].value_counts()"
   ]
  },
  {
   "cell_type": "code",
   "execution_count": 26,
   "metadata": {},
   "outputs": [
    {
     "data": {
      "text/plain": [
       "<seaborn.axisgrid.FacetGrid at 0x177dc2946c8>"
      ]
     },
     "execution_count": 26,
     "metadata": {},
     "output_type": "execute_result"
    },
    {
     "data": {
      "image/png": "[encoded data removed]",
      "text/plain": [
       "<Figure size 360x360 with 1 Axes>"
      ]
     },
     "metadata": {
      "needs_background": "light"
     },
     "output_type": "display_data"
    }
   ],
   "source": [
    "import seaborn as sns\n",
    "sns.catplot(x = \"type\", kind = \"count\", palette = \"ch: 0.25\", data = df)"
   ]
  },
  {
   "cell_type": "code",
   "execution_count": 27,
   "metadata": {},
   "outputs": [
    {
     "data": {
      "text/plain": [
       "<seaborn.axisgrid.FacetGrid at 0x177de0c9248>"
      ]
     },
     "execution_count": 27,
     "metadata": {},
     "output_type": "execute_result"
    },
    {
     "data": {
      "image/png": "[encoded data removed]",
      "text/plain": [
       "<Figure size 360x360 with 1 Axes>"
      ]
     },
     "metadata": {
      "needs_background": "light"
     },
     "output_type": "display_data"
    }
   ],
   "source": [
    "sns.catplot(x = \"location_monitoring_station\", kind = \"count\", palette = \"ch: 0.25\", data = df)"
   ]
  },
  {
   "cell_type": "code",
   "execution_count": 28,
   "metadata": {},
   "outputs": [],
   "source": [
    "# droping columns which are not required\n",
    "df = df.drop(columns=['stn_code','sampling_date','state','location','agency','type','pm2_5'])"
   ]
  },
  {
   "cell_type": "code",
   "execution_count": 29,
   "metadata": {},
   "outputs": [],
   "source": [
    "df = df.set_index('date')"
   ]
  },
  {
   "cell_type": "code",
   "execution_count": 30,
   "metadata": {},
   "outputs": [],
   "source": [
    "grouped = df.groupby(df.location_monitoring_station)\n",
    "\n",
    "town_hall = grouped.get_group(\"Town Hall\")\n",
    "mayapuri = grouped.get_group(\"Mayapuri\")\n",
    "ny_school = grouped.get_group(\"N.Y. School\")\n",
    "siri_fort = grouped.get_group(\"Siri Fort\")\n",
    "janakpuri = grouped.get_group(\"Janakpuri\")\n",
    "nizamuddin = grouped.get_group(\"Nizamuddin\")\n",
    "shahzada_bagh = grouped.get_group(\"Shahzada Bagh\")\n",
    "pritampura = grouped.get_group(\"Pritampura\")\n",
    "shahdara = grouped.get_group(\"Shahdara\")\n",
    "ashok_vihar = grouped.get_group(\"Ashok Vihar\")\n",
    "BSZ_marg = grouped.get_group(\"BSZ Marg\")\n",
    "DCE = grouped.get_group(\"DCE\")"
   ]
  },
  {
   "cell_type": "code",
   "execution_count": 31,
   "metadata": {},
   "outputs": [],
   "source": [
    "# function to fill missing dates and missing cells\n",
    "def fill(DF):\n",
    "    DF = DF.resample('D').mean()\n",
    "    DF = DF.interpolate(methods = 'date', limit_direction = 'both')\n",
    "    return DF"
   ]
  },
  {
   "cell_type": "code",
   "execution_count": 32,
   "metadata": {},
   "outputs": [],
   "source": [
    "# converting to csv file \n",
    "fill(mayapuri).to_csv(\"mayapuri.csv\")\n",
    "fill(ny_school).to_csv(\"ny_school.csv\")\n",
    "fill(siri_fort).to_csv(\"siri_fort.csv\")\n",
    "fill(janakpuri).to_csv(\"janakpuri.csv\")\n",
    "fill(nizamuddin).to_csv(\"nizamuddin.csv\")\n",
    "fill(shahzada_bagh).to_csv(\"shahzada_bagh.csv\")\n",
    "fill(pritampura).to_csv(\"pritampura.csv\")\n",
    "fill(shahdara).to_csv(\"shahdara.csv\")\n",
    "fill(ashok_vihar).to_csv(\"ashok_vihar.csv\")\n",
    "fill(BSZ_marg).to_csv('bsz_marg.csv')\n",
    "fill(DCE).to_csv(\"dce.csv\")"
   ]
  },
  {
   "cell_type": "code",
   "execution_count": 35,
   "metadata": {},
   "outputs": [],
   "source": [
    "final = pd.DataFrame()\n",
    "\n",
    "final = final.append(mayapuri)\n",
    "final = final.append(ny_school)\n",
    "final = final.append(siri_fort)\n",
    "final = final.append(janakpuri)\n",
    "final = final.append(nizamuddin)\n",
    "final = final.append(shahzada_bagh)\n",
    "final = final.append(pritampura)\n",
    "final = final.append(shahdara)\n",
    "final = final.append(ashok_vihar)\n",
    "final = final.append(BSZ_marg)\n",
    "final = final.append(DCE)\n",
    "\n",
    "final.to_csv('final.csv')"
   ]
  }
 ],
 "metadata": {
  "kernelspec": {
   "display_name": "Python 3",
   "language": "python",
   "name": "python3"
  },
  "language_info": {
   "codemirror_mode": {
    "name": "ipython",
    "version": 3
   },
   "file_extension": ".py",
   "mimetype": "text/x-python",
   "name": "python",
   "nbconvert_exporter": "python",
   "pygments_lexer": "ipython3",
   "version": "3.7.4"
  }
 },
 "nbformat": 4,
 "nbformat_minor": 2
}
