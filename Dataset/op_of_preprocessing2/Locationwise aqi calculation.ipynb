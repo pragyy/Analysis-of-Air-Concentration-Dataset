{
 "cells": [
  {
   "cell_type": "code",
   "execution_count": 5,
   "metadata": {},
   "outputs": [],
   "source": [
    "import pandas as pd\n",
    "import numpy as np"
   ]
  },
  {
   "cell_type": "code",
   "execution_count": 2,
   "metadata": {},
   "outputs": [
    {
     "data": {
      "text/html": [
       "<div>\n",
       "<style scoped>\n",
       "    .dataframe tbody tr th:only-of-type {\n",
       "        vertical-align: middle;\n",
       "    }\n",
       "\n",
       "    .dataframe tbody tr th {\n",
       "        vertical-align: top;\n",
       "    }\n",
       "\n",
       "    .dataframe thead th {\n",
       "        text-align: right;\n",
       "    }\n",
       "</style>\n",
       "<table border=\"1\" class=\"dataframe\">\n",
       "  <thead>\n",
       "    <tr style=\"text-align: right;\">\n",
       "      <th></th>\n",
       "      <th>so2</th>\n",
       "      <th>no2</th>\n",
       "      <th>rspm</th>\n",
       "      <th>spm</th>\n",
       "      <th>location_monitoring_station</th>\n",
       "    </tr>\n",
       "    <tr>\n",
       "      <th>date</th>\n",
       "      <th></th>\n",
       "      <th></th>\n",
       "      <th></th>\n",
       "      <th></th>\n",
       "      <th></th>\n",
       "    </tr>\n",
       "  </thead>\n",
       "  <tbody>\n",
       "    <tr>\n",
       "      <td>2005-01-04</td>\n",
       "      <td>10.9</td>\n",
       "      <td>62.9</td>\n",
       "      <td>203.0</td>\n",
       "      <td>384.0</td>\n",
       "      <td>Mayapuri</td>\n",
       "    </tr>\n",
       "    <tr>\n",
       "      <td>2005-01-05</td>\n",
       "      <td>25.1</td>\n",
       "      <td>64.1</td>\n",
       "      <td>381.0</td>\n",
       "      <td>601.0</td>\n",
       "      <td>Mayapuri</td>\n",
       "    </tr>\n",
       "    <tr>\n",
       "      <td>2005-01-14</td>\n",
       "      <td>15.9</td>\n",
       "      <td>58.1</td>\n",
       "      <td>217.0</td>\n",
       "      <td>479.0</td>\n",
       "      <td>Mayapuri</td>\n",
       "    </tr>\n",
       "    <tr>\n",
       "      <td>2005-01-15</td>\n",
       "      <td>17.5</td>\n",
       "      <td>77.8</td>\n",
       "      <td>246.0</td>\n",
       "      <td>558.0</td>\n",
       "      <td>Mayapuri</td>\n",
       "    </tr>\n",
       "    <tr>\n",
       "      <td>2005-01-18</td>\n",
       "      <td>8.5</td>\n",
       "      <td>70.0</td>\n",
       "      <td>306.0</td>\n",
       "      <td>574.0</td>\n",
       "      <td>Mayapuri</td>\n",
       "    </tr>\n",
       "  </tbody>\n",
       "</table>\n",
       "</div>"
      ],
      "text/plain": [
       "             so2   no2   rspm    spm location_monitoring_station\n",
       "date                                                            \n",
       "2005-01-04  10.9  62.9  203.0  384.0                    Mayapuri\n",
       "2005-01-05  25.1  64.1  381.0  601.0                    Mayapuri\n",
       "2005-01-14  15.9  58.1  217.0  479.0                    Mayapuri\n",
       "2005-01-15  17.5  77.8  246.0  558.0                    Mayapuri\n",
       "2005-01-18   8.5  70.0  306.0  574.0                    Mayapuri"
      ]
     },
     "execution_count": 2,
     "metadata": {},
     "output_type": "execute_result"
    }
   ],
   "source": [
    "df = pd.read_csv('final.csv', parse_dates = ['date'], index_col = 'date')\n",
    "df.head()"
   ]
  },
  {
   "cell_type": "code",
   "execution_count": 3,
   "metadata": {},
   "outputs": [
    {
     "name": "stdout",
     "output_type": "stream",
     "text": [
      "[0.013089005235602094, 0.112565445026178, 0.3481675392670157, 0.5261780104712042]\n"
     ]
    }
   ],
   "source": [
    "w = [5,43,133,201] #these values are taken as per the Indian standards\n",
    "w_sum = 0\n",
    "for i in range(0,len(w)):\n",
    "    w_sum += w[i]\n",
    "\n",
    "w_ratio = []\n",
    "for i in range(len(w)):\n",
    "    x = float(w[i])/float(w_sum)\n",
    "    w_ratio.append(x)\n",
    "print(w_ratio)"
   ]
  },
  {
   "cell_type": "code",
   "execution_count": 6,
   "metadata": {},
   "outputs": [],
   "source": [
    "s = [50,40,60,40] \n",
    "list_aqi = []\n",
    "conc = []\n",
    "\n",
    "for index,row in df.iterrows():\n",
    "    # concentration (mean/median) for each pollutant\n",
    "    conc = [ row['so2'], row['no2'], row['spm'], row['rspm'] ]\n",
    "    \n",
    "    # calculating pollution index\n",
    "    q = []\n",
    "    for i in range(0,4):\n",
    "        z = s[i]*conc[i]/100\n",
    "        q.append(z)\n",
    "    \n",
    "    #AQI calculation\n",
    "    aqi = 0\n",
    "    for i in range(0,4):\n",
    "        aqi += q[i]*w_ratio[i]\n",
    "    \n",
    "    list_aqi.append(aqi)\n",
    "    \n",
    "# loading the calculated AQI in the dataframe\n",
    "df['aqi'] = np.array(list_aqi)"
   ]
  },
  {
   "cell_type": "code",
   "execution_count": 7,
   "metadata": {},
   "outputs": [
    {
     "data": {
      "text/html": [
       "<div>\n",
       "<style scoped>\n",
       "    .dataframe tbody tr th:only-of-type {\n",
       "        vertical-align: middle;\n",
       "    }\n",
       "\n",
       "    .dataframe tbody tr th {\n",
       "        vertical-align: top;\n",
       "    }\n",
       "\n",
       "    .dataframe thead th {\n",
       "        text-align: right;\n",
       "    }\n",
       "</style>\n",
       "<table border=\"1\" class=\"dataframe\">\n",
       "  <thead>\n",
       "    <tr style=\"text-align: right;\">\n",
       "      <th></th>\n",
       "      <th>so2</th>\n",
       "      <th>no2</th>\n",
       "      <th>rspm</th>\n",
       "      <th>spm</th>\n",
       "      <th>location_monitoring_station</th>\n",
       "      <th>aqi</th>\n",
       "    </tr>\n",
       "    <tr>\n",
       "      <th>date</th>\n",
       "      <th></th>\n",
       "      <th></th>\n",
       "      <th></th>\n",
       "      <th></th>\n",
       "      <th></th>\n",
       "      <th></th>\n",
       "    </tr>\n",
       "  </thead>\n",
       "  <tbody>\n",
       "    <tr>\n",
       "      <td>2005-01-04</td>\n",
       "      <td>10.9</td>\n",
       "      <td>62.9</td>\n",
       "      <td>203.0</td>\n",
       "      <td>384.0</td>\n",
       "      <td>Mayapuri</td>\n",
       "      <td>125.846937</td>\n",
       "    </tr>\n",
       "    <tr>\n",
       "      <td>2005-01-05</td>\n",
       "      <td>25.1</td>\n",
       "      <td>64.1</td>\n",
       "      <td>381.0</td>\n",
       "      <td>601.0</td>\n",
       "      <td>Mayapuri</td>\n",
       "      <td>208.789188</td>\n",
       "    </tr>\n",
       "    <tr>\n",
       "      <td>2005-01-14</td>\n",
       "      <td>15.9</td>\n",
       "      <td>58.1</td>\n",
       "      <td>217.0</td>\n",
       "      <td>479.0</td>\n",
       "      <td>Mayapuri</td>\n",
       "      <td>148.455681</td>\n",
       "    </tr>\n",
       "    <tr>\n",
       "      <td>2005-01-15</td>\n",
       "      <td>17.5</td>\n",
       "      <td>77.8</td>\n",
       "      <td>246.0</td>\n",
       "      <td>558.0</td>\n",
       "      <td>Mayapuri</td>\n",
       "      <td>171.959974</td>\n",
       "    </tr>\n",
       "    <tr>\n",
       "      <td>2005-01-18</td>\n",
       "      <td>8.5</td>\n",
       "      <td>70.0</td>\n",
       "      <td>306.0</td>\n",
       "      <td>574.0</td>\n",
       "      <td>Mayapuri</td>\n",
       "      <td>187.520550</td>\n",
       "    </tr>\n",
       "  </tbody>\n",
       "</table>\n",
       "</div>"
      ],
      "text/plain": [
       "             so2   no2   rspm    spm location_monitoring_station         aqi\n",
       "date                                                                        \n",
       "2005-01-04  10.9  62.9  203.0  384.0                    Mayapuri  125.846937\n",
       "2005-01-05  25.1  64.1  381.0  601.0                    Mayapuri  208.789188\n",
       "2005-01-14  15.9  58.1  217.0  479.0                    Mayapuri  148.455681\n",
       "2005-01-15  17.5  77.8  246.0  558.0                    Mayapuri  171.959974\n",
       "2005-01-18   8.5  70.0  306.0  574.0                    Mayapuri  187.520550"
      ]
     },
     "execution_count": 7,
     "metadata": {},
     "output_type": "execute_result"
    }
   ],
   "source": [
    "df.head()"
   ]
  },
  {
   "cell_type": "code",
   "execution_count": 8,
   "metadata": {},
   "outputs": [],
   "source": [
    "df.to_csv('location_aqi')"
   ]
  },
  {
   "cell_type": "code",
   "execution_count": null,
   "metadata": {},
   "outputs": [],
   "source": []
  }
 ],
 "metadata": {
  "kernelspec": {
   "display_name": "Python 3",
   "language": "python",
   "name": "python3"
  },
  "language_info": {
   "codemirror_mode": {
    "name": "ipython",
    "version": 3
   },
   "file_extension": ".py",
   "mimetype": "text/x-python",
   "name": "python",
   "nbconvert_exporter": "python",
   "pygments_lexer": "ipython3",
   "version": "3.7.4"
  }
 },
 "nbformat": 4,
 "nbformat_minor": 2
}
