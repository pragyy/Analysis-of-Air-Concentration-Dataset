{
 "cells": [
  {
   "cell_type": "markdown",
   "metadata": {},
   "source": [
    "## 1. Creating our dataframe"
   ]
  },
  {
   "cell_type": "markdown",
   "metadata": {},
   "source": [
    "### Importing relevant library"
   ]
  },
  {
   "cell_type": "code",
   "execution_count": 1,
   "metadata": {},
   "outputs": [],
   "source": [
    "import pandas as pd\n",
    "import os"
   ]
  },
  {
   "cell_type": "markdown",
   "metadata": {},
   "source": [
    "### Loading the dataset"
   ]
  },
  {
   "cell_type": "code",
   "execution_count": 2,
   "metadata": {},
   "outputs": [
    {
     "data": {
      "text/html": [
       "<div>\n",
       "<style scoped>\n",
       "    .dataframe tbody tr th:only-of-type {\n",
       "        vertical-align: middle;\n",
       "    }\n",
       "\n",
       "    .dataframe tbody tr th {\n",
       "        vertical-align: top;\n",
       "    }\n",
       "\n",
       "    .dataframe thead th {\n",
       "        text-align: right;\n",
       "    }\n",
       "</style>\n",
       "<table border=\"1\" class=\"dataframe\">\n",
       "  <thead>\n",
       "    <tr style=\"text-align: right;\">\n",
       "      <th></th>\n",
       "      <th>so2</th>\n",
       "      <th>no2</th>\n",
       "      <th>rspm</th>\n",
       "      <th>spm</th>\n",
       "      <th>aqi</th>\n",
       "    </tr>\n",
       "    <tr>\n",
       "      <th>date</th>\n",
       "      <th></th>\n",
       "      <th></th>\n",
       "      <th></th>\n",
       "      <th></th>\n",
       "      <th></th>\n",
       "    </tr>\n",
       "  </thead>\n",
       "  <tbody>\n",
       "    <tr>\n",
       "      <th>2004-01-01</th>\n",
       "      <td>6.433505</td>\n",
       "      <td>58.231014</td>\n",
       "      <td>238.330000</td>\n",
       "      <td>398.000000</td>\n",
       "      <td>135.968035</td>\n",
       "    </tr>\n",
       "    <tr>\n",
       "      <th>2004-01-02</th>\n",
       "      <td>6.433505</td>\n",
       "      <td>58.231014</td>\n",
       "      <td>182.915000</td>\n",
       "      <td>346.500000</td>\n",
       "      <td>113.546396</td>\n",
       "    </tr>\n",
       "    <tr>\n",
       "      <th>2004-01-03</th>\n",
       "      <td>6.433505</td>\n",
       "      <td>58.231014</td>\n",
       "      <td>136.960411</td>\n",
       "      <td>343.926778</td>\n",
       "      <td>103.336731</td>\n",
       "    </tr>\n",
       "    <tr>\n",
       "      <th>2004-01-04</th>\n",
       "      <td>6.433505</td>\n",
       "      <td>58.231014</td>\n",
       "      <td>136.960411</td>\n",
       "      <td>343.926778</td>\n",
       "      <td>103.336731</td>\n",
       "    </tr>\n",
       "    <tr>\n",
       "      <th>2004-01-05</th>\n",
       "      <td>6.433505</td>\n",
       "      <td>58.231014</td>\n",
       "      <td>160.000000</td>\n",
       "      <td>340.000000</td>\n",
       "      <td>107.365595</td>\n",
       "    </tr>\n",
       "  </tbody>\n",
       "</table>\n",
       "</div>"
      ],
      "text/plain": [
       "                 so2        no2        rspm         spm         aqi\n",
       "date                                                               \n",
       "2004-01-01  6.433505  58.231014  238.330000  398.000000  135.968035\n",
       "2004-01-02  6.433505  58.231014  182.915000  346.500000  113.546396\n",
       "2004-01-03  6.433505  58.231014  136.960411  343.926778  103.336731\n",
       "2004-01-04  6.433505  58.231014  136.960411  343.926778  103.336731\n",
       "2004-01-05  6.433505  58.231014  160.000000  340.000000  107.365595"
      ]
     },
     "execution_count": 2,
     "metadata": {},
     "output_type": "execute_result"
    }
   ],
   "source": [
    "main_df = pd.read_csv('aqi.csv', parse_dates = ['date'], index_col = 'date')\n",
    "main_df.head()"
   ]
  },
  {
   "cell_type": "markdown",
   "metadata": {},
   "source": [
    "### Preparing the dataset"
   ]
  },
  {
   "cell_type": "code",
   "execution_count": 3,
   "metadata": {},
   "outputs": [],
   "source": [
    "SEQ_LEN=60 #no of days using to predict\n",
    "FUTURE_PERIOD_PREDICT=7 #no of days predicting\n",
    "RATIO_TO_PREDICT=\"aqi\" # variable to be predicted"
   ]
  },
  {
   "cell_type": "code",
   "execution_count": 4,
   "metadata": {},
   "outputs": [],
   "source": [
    "# if future aqi value is more than current then the target value is 0 otherwise it is 1\n",
    "def classify(current, future):\n",
    "    if float(future) > float(current):\n",
    "        return 0\n",
    "    else:\n",
    "        return 1"
   ]
  },
  {
   "cell_type": "code",
   "execution_count": 5,
   "metadata": {},
   "outputs": [],
   "source": [
    "# creating a future column with shift of 7 days\n",
    "main_df['future'] = main_df[f\"{RATIO_TO_PREDICT}\"].shift(-FUTURE_PERIOD_PREDICT)"
   ]
  },
  {
   "cell_type": "code",
   "execution_count": 6,
   "metadata": {},
   "outputs": [
    {
     "data": {
      "text/html": [
       "<div>\n",
       "<style scoped>\n",
       "    .dataframe tbody tr th:only-of-type {\n",
       "        vertical-align: middle;\n",
       "    }\n",
       "\n",
       "    .dataframe tbody tr th {\n",
       "        vertical-align: top;\n",
       "    }\n",
       "\n",
       "    .dataframe thead th {\n",
       "        text-align: right;\n",
       "    }\n",
       "</style>\n",
       "<table border=\"1\" class=\"dataframe\">\n",
       "  <thead>\n",
       "    <tr style=\"text-align: right;\">\n",
       "      <th></th>\n",
       "      <th>so2</th>\n",
       "      <th>no2</th>\n",
       "      <th>rspm</th>\n",
       "      <th>spm</th>\n",
       "      <th>aqi</th>\n",
       "      <th>future</th>\n",
       "    </tr>\n",
       "    <tr>\n",
       "      <th>date</th>\n",
       "      <th></th>\n",
       "      <th></th>\n",
       "      <th></th>\n",
       "      <th></th>\n",
       "      <th></th>\n",
       "      <th></th>\n",
       "    </tr>\n",
       "  </thead>\n",
       "  <tbody>\n",
       "    <tr>\n",
       "      <th>2004-01-01</th>\n",
       "      <td>6.433505</td>\n",
       "      <td>58.231014</td>\n",
       "      <td>238.330000</td>\n",
       "      <td>398.000000</td>\n",
       "      <td>135.968035</td>\n",
       "      <td>91.988019</td>\n",
       "    </tr>\n",
       "    <tr>\n",
       "      <th>2004-01-02</th>\n",
       "      <td>6.433505</td>\n",
       "      <td>58.231014</td>\n",
       "      <td>182.915000</td>\n",
       "      <td>346.500000</td>\n",
       "      <td>113.546396</td>\n",
       "      <td>85.237846</td>\n",
       "    </tr>\n",
       "    <tr>\n",
       "      <th>2004-01-03</th>\n",
       "      <td>6.433505</td>\n",
       "      <td>58.231014</td>\n",
       "      <td>136.960411</td>\n",
       "      <td>343.926778</td>\n",
       "      <td>103.336731</td>\n",
       "      <td>103.336731</td>\n",
       "    </tr>\n",
       "    <tr>\n",
       "      <th>2004-01-04</th>\n",
       "      <td>6.433505</td>\n",
       "      <td>58.231014</td>\n",
       "      <td>136.960411</td>\n",
       "      <td>343.926778</td>\n",
       "      <td>103.336731</td>\n",
       "      <td>103.336731</td>\n",
       "    </tr>\n",
       "    <tr>\n",
       "      <th>2004-01-05</th>\n",
       "      <td>6.433505</td>\n",
       "      <td>58.231014</td>\n",
       "      <td>160.000000</td>\n",
       "      <td>340.000000</td>\n",
       "      <td>107.365595</td>\n",
       "      <td>90.715422</td>\n",
       "    </tr>\n",
       "    <tr>\n",
       "      <th>2004-01-06</th>\n",
       "      <td>6.433505</td>\n",
       "      <td>58.231014</td>\n",
       "      <td>141.335000</td>\n",
       "      <td>283.500000</td>\n",
       "      <td>91.634270</td>\n",
       "      <td>98.774930</td>\n",
       "    </tr>\n",
       "    <tr>\n",
       "      <th>2004-01-07</th>\n",
       "      <td>6.433505</td>\n",
       "      <td>58.231014</td>\n",
       "      <td>120.170000</td>\n",
       "      <td>259.000000</td>\n",
       "      <td>82.061584</td>\n",
       "      <td>103.182872</td>\n",
       "    </tr>\n",
       "    <tr>\n",
       "      <th>2004-01-08</th>\n",
       "      <td>6.433505</td>\n",
       "      <td>58.231014</td>\n",
       "      <td>123.165000</td>\n",
       "      <td>303.500000</td>\n",
       "      <td>91.988019</td>\n",
       "      <td>97.611495</td>\n",
       "    </tr>\n",
       "    <tr>\n",
       "      <th>2004-01-09</th>\n",
       "      <td>6.433505</td>\n",
       "      <td>58.231014</td>\n",
       "      <td>103.500000</td>\n",
       "      <td>291.000000</td>\n",
       "      <td>85.237846</td>\n",
       "      <td>88.903987</td>\n",
       "    </tr>\n",
       "    <tr>\n",
       "      <th>2004-01-10</th>\n",
       "      <td>6.433505</td>\n",
       "      <td>58.231014</td>\n",
       "      <td>136.960411</td>\n",
       "      <td>343.926778</td>\n",
       "      <td>103.336731</td>\n",
       "      <td>103.336731</td>\n",
       "    </tr>\n",
       "  </tbody>\n",
       "</table>\n",
       "</div>"
      ],
      "text/plain": [
       "                 so2        no2        rspm         spm         aqi  \\\n",
       "date                                                                  \n",
       "2004-01-01  6.433505  58.231014  238.330000  398.000000  135.968035   \n",
       "2004-01-02  6.433505  58.231014  182.915000  346.500000  113.546396   \n",
       "2004-01-03  6.433505  58.231014  136.960411  343.926778  103.336731   \n",
       "2004-01-04  6.433505  58.231014  136.960411  343.926778  103.336731   \n",
       "2004-01-05  6.433505  58.231014  160.000000  340.000000  107.365595   \n",
       "2004-01-06  6.433505  58.231014  141.335000  283.500000   91.634270   \n",
       "2004-01-07  6.433505  58.231014  120.170000  259.000000   82.061584   \n",
       "2004-01-08  6.433505  58.231014  123.165000  303.500000   91.988019   \n",
       "2004-01-09  6.433505  58.231014  103.500000  291.000000   85.237846   \n",
       "2004-01-10  6.433505  58.231014  136.960411  343.926778  103.336731   \n",
       "\n",
       "                future  \n",
       "date                    \n",
       "2004-01-01   91.988019  \n",
       "2004-01-02   85.237846  \n",
       "2004-01-03  103.336731  \n",
       "2004-01-04  103.336731  \n",
       "2004-01-05   90.715422  \n",
       "2004-01-06   98.774930  \n",
       "2004-01-07  103.182872  \n",
       "2004-01-08   97.611495  \n",
       "2004-01-09   88.903987  \n",
       "2004-01-10  103.336731  "
      ]
     },
     "execution_count": 6,
     "metadata": {},
     "output_type": "execute_result"
    }
   ],
   "source": [
    "main_df.head(10)"
   ]
  },
  {
   "cell_type": "code",
   "execution_count": 7,
   "metadata": {},
   "outputs": [
    {
     "data": {
      "text/html": [
       "<div>\n",
       "<style scoped>\n",
       "    .dataframe tbody tr th:only-of-type {\n",
       "        vertical-align: middle;\n",
       "    }\n",
       "\n",
       "    .dataframe tbody tr th {\n",
       "        vertical-align: top;\n",
       "    }\n",
       "\n",
       "    .dataframe thead th {\n",
       "        text-align: right;\n",
       "    }\n",
       "</style>\n",
       "<table border=\"1\" class=\"dataframe\">\n",
       "  <thead>\n",
       "    <tr style=\"text-align: right;\">\n",
       "      <th></th>\n",
       "      <th>aqi</th>\n",
       "      <th>future</th>\n",
       "      <th>target</th>\n",
       "    </tr>\n",
       "    <tr>\n",
       "      <th>date</th>\n",
       "      <th></th>\n",
       "      <th></th>\n",
       "      <th></th>\n",
       "    </tr>\n",
       "  </thead>\n",
       "  <tbody>\n",
       "    <tr>\n",
       "      <th>2004-01-01</th>\n",
       "      <td>135.968035</td>\n",
       "      <td>91.988019</td>\n",
       "      <td>1</td>\n",
       "    </tr>\n",
       "    <tr>\n",
       "      <th>2004-01-02</th>\n",
       "      <td>113.546396</td>\n",
       "      <td>85.237846</td>\n",
       "      <td>1</td>\n",
       "    </tr>\n",
       "    <tr>\n",
       "      <th>2004-01-03</th>\n",
       "      <td>103.336731</td>\n",
       "      <td>103.336731</td>\n",
       "      <td>1</td>\n",
       "    </tr>\n",
       "    <tr>\n",
       "      <th>2004-01-04</th>\n",
       "      <td>103.336731</td>\n",
       "      <td>103.336731</td>\n",
       "      <td>1</td>\n",
       "    </tr>\n",
       "    <tr>\n",
       "      <th>2004-01-05</th>\n",
       "      <td>107.365595</td>\n",
       "      <td>90.715422</td>\n",
       "      <td>1</td>\n",
       "    </tr>\n",
       "    <tr>\n",
       "      <th>2004-01-06</th>\n",
       "      <td>91.634270</td>\n",
       "      <td>98.774930</td>\n",
       "      <td>0</td>\n",
       "    </tr>\n",
       "    <tr>\n",
       "      <th>2004-01-07</th>\n",
       "      <td>82.061584</td>\n",
       "      <td>103.182872</td>\n",
       "      <td>0</td>\n",
       "    </tr>\n",
       "    <tr>\n",
       "      <th>2004-01-08</th>\n",
       "      <td>91.988019</td>\n",
       "      <td>97.611495</td>\n",
       "      <td>0</td>\n",
       "    </tr>\n",
       "    <tr>\n",
       "      <th>2004-01-09</th>\n",
       "      <td>85.237846</td>\n",
       "      <td>88.903987</td>\n",
       "      <td>0</td>\n",
       "    </tr>\n",
       "    <tr>\n",
       "      <th>2004-01-10</th>\n",
       "      <td>103.336731</td>\n",
       "      <td>103.336731</td>\n",
       "      <td>1</td>\n",
       "    </tr>\n",
       "  </tbody>\n",
       "</table>\n",
       "</div>"
      ],
      "text/plain": [
       "                   aqi      future  target\n",
       "date                                      \n",
       "2004-01-01  135.968035   91.988019       1\n",
       "2004-01-02  113.546396   85.237846       1\n",
       "2004-01-03  103.336731  103.336731       1\n",
       "2004-01-04  103.336731  103.336731       1\n",
       "2004-01-05  107.365595   90.715422       1\n",
       "2004-01-06   91.634270   98.774930       0\n",
       "2004-01-07   82.061584  103.182872       0\n",
       "2004-01-08   91.988019   97.611495       0\n",
       "2004-01-09   85.237846   88.903987       0\n",
       "2004-01-10  103.336731  103.336731       1"
      ]
     },
     "execution_count": 7,
     "metadata": {},
     "output_type": "execute_result"
    }
   ],
   "source": [
    "# mapping fuction classify to new column target\n",
    "main_df['target'] = list(map(classify, main_df[f'{RATIO_TO_PREDICT}'], main_df[\"future\"]))\n",
    "main_df[[f\"{RATIO_TO_PREDICT}\",\"future\",\"target\"]].head(10)"
   ]
  },
  {
   "cell_type": "markdown",
   "metadata": {},
   "source": [
    "## 2. Normalizing, Creating Sequences and Balancing Data"
   ]
  },
  {
   "cell_type": "code",
   "execution_count": 8,
   "metadata": {},
   "outputs": [],
   "source": [
    "times = sorted(main_df.index.values)"
   ]
  },
  {
   "cell_type": "code",
   "execution_count": 9,
   "metadata": {},
   "outputs": [
    {
     "data": {
      "text/plain": [
       "numpy.datetime64('2015-05-27T00:00:00.000000000')"
      ]
     },
     "execution_count": 9,
     "metadata": {},
     "output_type": "execute_result"
    }
   ],
   "source": [
    "# index value at last 5% of the dataset\n",
    "last_5pct = times[-int(0.05 * len(times))]\n",
    "last_5pct"
   ]
  },
  {
   "cell_type": "markdown",
   "metadata": {},
   "source": [
    "### Spliting dataset into training and validation dataset"
   ]
  },
  {
   "cell_type": "code",
   "execution_count": 10,
   "metadata": {},
   "outputs": [],
   "source": [
    "# validation dataframe\n",
    "validation_main_df = main_df[(main_df.index >= last_5pct)]\n",
    "# training dataframe\n",
    "main_df = main_df[(main_df.index < last_5pct)]"
   ]
  },
  {
   "cell_type": "markdown",
   "metadata": {},
   "source": [
    "### Importing relevant librarie"
   ]
  },
  {
   "cell_type": "code",
   "execution_count": 11,
   "metadata": {},
   "outputs": [],
   "source": [
    "from sklearn import preprocessing\n",
    "from collections import deque\n",
    "import numpy as np\n",
    "import random"
   ]
  },
  {
   "cell_type": "markdown",
   "metadata": {},
   "source": [
    "### Defining a function to preprocess our training and validation dataset"
   ]
  },
  {
   "cell_type": "code",
   "execution_count": 12,
   "metadata": {},
   "outputs": [],
   "source": [
    "def preprocess_df(df):\n",
    "    df = df.drop('future',1)\n",
    "    \n",
    "    # scaling expect target column\n",
    "    for col in df.columns:\n",
    "        if col != 'target':\n",
    "            df[col] = df[col].pct_change()\n",
    "            df.dropna(inplace=True)\n",
    "            df[col] = preprocessing.scale(df[col].values)\n",
    "    \n",
    "    df.dropna(inplace=True)\n",
    "    \n",
    "    sequential_data = []\n",
    "    prev_days = deque(maxlen=SEQ_LEN)\n",
    "    \n",
    "    # creating our sequential data\n",
    "    for i in df.values:\n",
    "        prev_days.append([n for n in i[:-1]])\n",
    "        if len(prev_days) == SEQ_LEN:\n",
    "            sequential_data.append([np.array(prev_days), i[-1]])\n",
    "            \n",
    "    random.shuffle(sequential_data)\n",
    "    \n",
    "    #balancing data\n",
    "    buys = []\n",
    "    sells = []\n",
    "    \n",
    "    for seq,target in sequential_data:\n",
    "        if target == 0:\n",
    "            sells.append([seq,target])\n",
    "        elif target == 1:\n",
    "            buys.append([seq,target])\n",
    "            \n",
    "    random.shuffle(buys)\n",
    "    random.shuffle(sells)\n",
    "    \n",
    "    lower = min(len(buys), len(sells))\n",
    "    \n",
    "    buys = buys[:lower]\n",
    "    sells = sells[:lower]\n",
    "    \n",
    "    sequential_data = buys + sells\n",
    "    random.shuffle(sequential_data)\n",
    "    \n",
    "    X = []\n",
    "    y = []\n",
    "    \n",
    "    for seq,target in sequential_data:\n",
    "        X.append(seq)\n",
    "        y.append(target)\n",
    "    \n",
    "    return np.array(X),y"
   ]
  },
  {
   "cell_type": "markdown",
   "metadata": {},
   "source": [
    "### Preparing our data to feed into neural network"
   ]
  },
  {
   "cell_type": "code",
   "execution_count": 13,
   "metadata": {},
   "outputs": [],
   "source": [
    "train_x, train_y = preprocess_df(main_df)\n",
    "validation_x, validation_y = preprocess_df(validation_main_df)"
   ]
  },
  {
   "cell_type": "code",
   "execution_count": 14,
   "metadata": {},
   "outputs": [
    {
     "name": "stdout",
     "output_type": "stream",
     "text": [
      "train date: 2824 validation: 124\n",
      "dont buys: 1412, buys: 1412\n",
      "validation dont buys: 62, buys: 62\n"
     ]
    }
   ],
   "source": [
    "print(f\"train date: {len(train_x)} validation: {len(validation_x)}\")\n",
    "print(f\"dont buys: {train_y.count(0)}, buys: {train_y.count(1)}\")\n",
    "print(f\"validation dont buys: {validation_y.count(0)}, buys: {validation_y.count(1)}\")"
   ]
  },
  {
   "cell_type": "code",
   "execution_count": 15,
   "metadata": {},
   "outputs": [],
   "source": [
    "train_y = np.asarray(train_y)\n",
    "validation_y = np.asarray(validation_y)"
   ]
  },
  {
   "cell_type": "markdown",
   "metadata": {},
   "source": [
    "## 3. Build and train the model"
   ]
  },
  {
   "cell_type": "code",
   "execution_count": 16,
   "metadata": {},
   "outputs": [],
   "source": [
    "import time\n",
    "import tensorflow as tf\n",
    "from tensorflow.keras.models import Sequential\n",
    "from tensorflow.keras.layers import Dense, Dropout, LSTM, BatchNormalization\n",
    "from tensorflow.keras.callbacks import TensorBoard, ModelCheckpoint"
   ]
  },
  {
   "cell_type": "code",
   "execution_count": 17,
   "metadata": {},
   "outputs": [],
   "source": [
    "EPOCHS = 10\n",
    "BATCH_SIZE = 64\n",
    "NAME = f\"{SEQ_LEN}-SEQ-{FUTURE_PERIOD_PREDICT}-PRED-{int(time.time())}\""
   ]
  },
  {
   "cell_type": "code",
   "execution_count": 19,
   "metadata": {
    "scrolled": true
   },
   "outputs": [
    {
     "name": "stdout",
     "output_type": "stream",
     "text": [
      "Train on 2824 samples, validate on 124 samples\n",
      "Epoch 1/10\n",
      "2816/2824 [============================>.] - ETA: 0s - loss: 1.0282 - accuracy: 0.5160WARNING:tensorflow:From C:\\ANACONDA\\envs\\tensorflow_env\\lib\\site-packages\\tensorflow_core\\python\\ops\\resource_variable_ops.py:1786: calling BaseResourceVariable.__init__ (from tensorflow.python.ops.resource_variable_ops) with constraint is deprecated and will be removed in a future version.\n",
      "Instructions for updating:\n",
      "If using Keras pass *_constraint arguments to layers.\n",
      "INFO:tensorflow:Assets written to: models/RNN_Final-01.model\\assets\n",
      "2824/2824 [==============================] - 305s 108ms/sample - loss: 1.0278 - accuracy: 0.5156 - val_loss: 0.7049 - val_accuracy: 0.5000\n",
      "Epoch 2/10\n",
      "2816/2824 [============================>.] - ETA: 0s - loss: 0.8077 - accuracy: 0.5373INFO:tensorflow:Assets written to: models/RNN_Final-02.model\\assets\n",
      "2824/2824 [==============================] - 288s 102ms/sample - loss: 0.8072 - accuracy: 0.5372 - val_loss: 0.7024 - val_accuracy: 0.5000\n",
      "Epoch 3/10\n",
      "2816/2824 [============================>.] - ETA: 0s - loss: 0.7567 - accuracy: 0.5380INFO:tensorflow:Assets written to: models/RNN_Final-03.model\\assets\n",
      "2824/2824 [==============================] - 292s 103ms/sample - loss: 0.7564 - accuracy: 0.5382 - val_loss: 0.6964 - val_accuracy: 0.5000\n",
      "Epoch 4/10\n",
      "2816/2824 [============================>.] - ETA: 0s - loss: 0.7329 - accuracy: 0.5430INFO:tensorflow:Assets written to: models/RNN_Final-04.model\\assets\n",
      "2824/2824 [==============================] - 299s 106ms/sample - loss: 0.7326 - accuracy: 0.5428 - val_loss: 0.6944 - val_accuracy: 0.5000\n",
      "Epoch 5/10\n",
      "2816/2824 [============================>.] - ETA: 0s - loss: 0.7135 - accuracy: 0.5359INFO:tensorflow:Assets written to: models/RNN_Final-05.model\\assets\n",
      "2824/2824 [==============================] - 292s 103ms/sample - loss: 0.7132 - accuracy: 0.5361 - val_loss: 0.6937 - val_accuracy: 0.5000\n",
      "Epoch 6/10\n",
      "2816/2824 [============================>.] - ETA: 0s - loss: 0.6931 - accuracy: 0.5465INFO:tensorflow:Assets written to: models/RNN_Final-06.model\\assets\n",
      "2824/2824 [==============================] - 292s 103ms/sample - loss: 0.6929 - accuracy: 0.5467 - val_loss: 0.6933 - val_accuracy: 0.5000\n",
      "Epoch 7/10\n",
      "2816/2824 [============================>.] - ETA: 0s - loss: 0.6819 - accuracy: 0.5600INFO:tensorflow:Assets written to: models/RNN_Final-07.model\\assets\n",
      "2824/2824 [==============================] - 301s 106ms/sample - loss: 0.6818 - accuracy: 0.5602 - val_loss: 0.6945 - val_accuracy: 0.5000\n",
      "Epoch 8/10\n",
      "2816/2824 [============================>.] - ETA: 0s - loss: 0.6825 - accuracy: 0.5483INFO:tensorflow:Assets written to: models/RNN_Final-08.model\\assets\n",
      "2824/2824 [==============================] - 299s 106ms/sample - loss: 0.6824 - accuracy: 0.5485 - val_loss: 0.6943 - val_accuracy: 0.5000\n",
      "Epoch 9/10\n",
      "2816/2824 [============================>.] - ETA: 0s - loss: 0.6709 - accuracy: 0.5732INFO:tensorflow:Assets written to: models/RNN_Final-09.model\\assets\n",
      "2824/2824 [==============================] - 305s 108ms/sample - loss: 0.6708 - accuracy: 0.5733 - val_loss: 0.6943 - val_accuracy: 0.5000\n",
      "Epoch 10/10\n",
      "2816/2824 [============================>.] - ETA: 0s - loss: 0.6711 - accuracy: 0.5689INFO:tensorflow:Assets written to: models/RNN_Final-10.model\\assets\n",
      "2824/2824 [==============================] - 310s 110ms/sample - loss: 0.6712 - accuracy: 0.5687 - val_loss: 0.6975 - val_accuracy: 0.5000\n"
     ]
    }
   ],
   "source": [
    "model = Sequential()\n",
    "model.add(LSTM(128, input_shape=(train_x.shape[1:]), return_sequences=True, activation='relu'))\n",
    "model.add(Dropout(0.2))\n",
    "model.add(BatchNormalization())\n",
    "\n",
    "model.add(LSTM(128, input_shape=(train_x.shape[1:]), return_sequences=True,activation='relu'))\n",
    "model.add(Dropout(0.1))\n",
    "model.add(BatchNormalization())\n",
    "\n",
    "model.add(LSTM(128, input_shape=(train_x.shape[1:]), activation='relu'))\n",
    "model.add(Dropout(0.2))\n",
    "model.add(BatchNormalization())\n",
    "\n",
    "model.add(Dense(32, activation='relu'))\n",
    "model.add(Dropout(0.2))\n",
    "\n",
    "model.add(Dense(2,activation='softmax'))\n",
    "\n",
    "opt = tf.keras.optimizers.Adam(lr=0.001, decay=1e-6)\n",
    "\n",
    "model.compile(loss='sparse_categorical_crossentropy',\n",
    "             optimizer=opt,\n",
    "             metrics=['accuracy'])\n",
    "\n",
    "tensorboard = TensorBoard(log_dir=f\"logs/{NAME}\", profile_batch = 100000000)\n",
    "\n",
    "filepath = \"RNN_Final-{epoch:02d}\"\n",
    "checkpoint= ModelCheckpoint(\"models/{}.model\".format(filepath, monitor='val_accuracy', verbose=1, save_best_only=True, mode='max'))\n",
    "#earlystopping = tf.keras.callbacks.EarlyStopping(patience=5, min_delta=1e-3)\n",
    "history = model.fit(\n",
    "                    train_x, train_y,\n",
    "                    batch_size = BATCH_SIZE,\n",
    "                    epochs=EPOCHS,\n",
    "                    validation_data=(validation_x, validation_y),\n",
    "                    callbacks=[tensorboard,checkpoint])\n"
   ]
  },
  {
   "cell_type": "code",
   "execution_count": 32,
   "metadata": {},
   "outputs": [
    {
     "data": {
      "image/png": "[encoded data removed]",
      "text/plain": [
       "<Figure size 432x288 with 1 Axes>"
      ]
     },
     "metadata": {
      "needs_background": "light"
     },
     "output_type": "display_data"
    }
   ],
   "source": [
    "import matplotlib.pyplot as plt\n",
    "plt.plot(validation_y, color = 'black', label = 'Actual')\n",
    "plt.plot(predicted, color = 'green', label = 'Predicted')\n",
    "plt.title('AQI Prediction')\n",
    "plt.xlabel('Time')\n",
    "plt.ylabel('AQI')\n",
    "plt.legend()\n",
    "plt.show()"
   ]
  }
 ],
 "metadata": {
  "kernelspec": {
   "display_name": "Python 3",
   "language": "python",
   "name": "python3"
  },
  "language_info": {
   "codemirror_mode": {
    "name": "ipython",
    "version": 3
   },
   "file_extension": ".py",
   "mimetype": "text/x-python",
   "name": "python",
   "nbconvert_exporter": "python",
   "pygments_lexer": "ipython3",
   "version": "3.7.7"
  }
 },
 "nbformat": 4,
 "nbformat_minor": 4
}
