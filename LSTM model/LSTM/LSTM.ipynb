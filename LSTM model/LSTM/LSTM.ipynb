{
 "cells": [
  {
   "cell_type": "markdown",
   "metadata": {},
   "source": [
    "## 1. Creating our dataframe"
   ]
  },
  {
   "cell_type": "markdown",
   "metadata": {},
   "source": [
    "### Importing relevant library"
   ]
  },
  {
   "cell_type": "code",
   "execution_count": 1,
   "metadata": {},
   "outputs": [],
   "source": [
    "import pandas as pd\n",
    "import os"
   ]
  },
  {
   "cell_type": "markdown",
   "metadata": {},
   "source": [
    "### Loading the dataset"
   ]
  },
  {
   "cell_type": "code",
   "execution_count": 2,
   "metadata": {},
   "outputs": [
    {
     "data": {
      "text/html": [
       "<div>\n",
       "<style scoped>\n",
       "    .dataframe tbody tr th:only-of-type {\n",
       "        vertical-align: middle;\n",
       "    }\n",
       "\n",
       "    .dataframe tbody tr th {\n",
       "        vertical-align: top;\n",
       "    }\n",
       "\n",
       "    .dataframe thead th {\n",
       "        text-align: right;\n",
       "    }\n",
       "</style>\n",
       "<table border=\"1\" class=\"dataframe\">\n",
       "  <thead>\n",
       "    <tr style=\"text-align: right;\">\n",
       "      <th></th>\n",
       "      <th>so2</th>\n",
       "      <th>no2</th>\n",
       "      <th>rspm</th>\n",
       "      <th>spm</th>\n",
       "      <th>aqi</th>\n",
       "    </tr>\n",
       "    <tr>\n",
       "      <th>date</th>\n",
       "      <th></th>\n",
       "      <th></th>\n",
       "      <th></th>\n",
       "      <th></th>\n",
       "      <th></th>\n",
       "    </tr>\n",
       "  </thead>\n",
       "  <tbody>\n",
       "    <tr>\n",
       "      <th>2004-01-01</th>\n",
       "      <td>6.433505</td>\n",
       "      <td>58.231014</td>\n",
       "      <td>238.330000</td>\n",
       "      <td>398.000000</td>\n",
       "      <td>135.968035</td>\n",
       "    </tr>\n",
       "    <tr>\n",
       "      <th>2004-01-02</th>\n",
       "      <td>6.433505</td>\n",
       "      <td>58.231014</td>\n",
       "      <td>182.915000</td>\n",
       "      <td>346.500000</td>\n",
       "      <td>113.546396</td>\n",
       "    </tr>\n",
       "    <tr>\n",
       "      <th>2004-01-03</th>\n",
       "      <td>6.433505</td>\n",
       "      <td>58.231014</td>\n",
       "      <td>136.960411</td>\n",
       "      <td>343.926778</td>\n",
       "      <td>103.336731</td>\n",
       "    </tr>\n",
       "    <tr>\n",
       "      <th>2004-01-04</th>\n",
       "      <td>6.433505</td>\n",
       "      <td>58.231014</td>\n",
       "      <td>136.960411</td>\n",
       "      <td>343.926778</td>\n",
       "      <td>103.336731</td>\n",
       "    </tr>\n",
       "    <tr>\n",
       "      <th>2004-01-05</th>\n",
       "      <td>6.433505</td>\n",
       "      <td>58.231014</td>\n",
       "      <td>160.000000</td>\n",
       "      <td>340.000000</td>\n",
       "      <td>107.365595</td>\n",
       "    </tr>\n",
       "  </tbody>\n",
       "</table>\n",
       "</div>"
      ],
      "text/plain": [
       "                 so2        no2        rspm         spm         aqi\n",
       "date                                                               \n",
       "2004-01-01  6.433505  58.231014  238.330000  398.000000  135.968035\n",
       "2004-01-02  6.433505  58.231014  182.915000  346.500000  113.546396\n",
       "2004-01-03  6.433505  58.231014  136.960411  343.926778  103.336731\n",
       "2004-01-04  6.433505  58.231014  136.960411  343.926778  103.336731\n",
       "2004-01-05  6.433505  58.231014  160.000000  340.000000  107.365595"
      ]
     },
     "execution_count": 2,
     "metadata": {},
     "output_type": "execute_result"
    }
   ],
   "source": [
    "main_df = pd.read_csv('aqi.csv', parse_dates = ['date'], index_col = 'date')\n",
    "main_df.head()"
   ]
  },
  {
   "cell_type": "markdown",
   "metadata": {},
   "source": [
    "### Preparing the dataset"
   ]
  },
  {
   "cell_type": "code",
   "execution_count": 3,
   "metadata": {},
   "outputs": [],
   "source": [
    "SEQ_LEN=60 #no of days using to predict\n",
    "FUTURE_PERIOD_PREDICT=7 #no of days predicting\n",
    "RATIO_TO_PREDICT=\"aqi\" # variable to be predicted"
   ]
  },
  {
   "cell_type": "code",
   "execution_count": 4,
   "metadata": {},
   "outputs": [],
   "source": [
    "# if future aqi value is more than current then the target value is 0 otherwise it is 1\n",
    "def classify(current, future):\n",
    "    if float(future) > float(current):\n",
    "        return 0\n",
    "    else:\n",
    "        return 1"
   ]
  },
  {
   "cell_type": "code",
   "execution_count": 5,
   "metadata": {},
   "outputs": [],
   "source": [
    "# creating a future column with shift of 7 days\n",
    "main_df['future'] = main_df[f\"{RATIO_TO_PREDICT}\"].shift(-FUTURE_PERIOD_PREDICT)"
   ]
  },
  {
   "cell_type": "code",
   "execution_count": 6,
   "metadata": {},
   "outputs": [
    {
     "data": {
      "text/html": [
       "<div>\n",
       "<style scoped>\n",
       "    .dataframe tbody tr th:only-of-type {\n",
       "        vertical-align: middle;\n",
       "    }\n",
       "\n",
       "    .dataframe tbody tr th {\n",
       "        vertical-align: top;\n",
       "    }\n",
       "\n",
       "    .dataframe thead th {\n",
       "        text-align: right;\n",
       "    }\n",
       "</style>\n",
       "<table border=\"1\" class=\"dataframe\">\n",
       "  <thead>\n",
       "    <tr style=\"text-align: right;\">\n",
       "      <th></th>\n",
       "      <th>so2</th>\n",
       "      <th>no2</th>\n",
       "      <th>rspm</th>\n",
       "      <th>spm</th>\n",
       "      <th>aqi</th>\n",
       "      <th>future</th>\n",
       "    </tr>\n",
       "    <tr>\n",
       "      <th>date</th>\n",
       "      <th></th>\n",
       "      <th></th>\n",
       "      <th></th>\n",
       "      <th></th>\n",
       "      <th></th>\n",
       "      <th></th>\n",
       "    </tr>\n",
       "  </thead>\n",
       "  <tbody>\n",
       "    <tr>\n",
       "      <th>2004-01-01</th>\n",
       "      <td>6.433505</td>\n",
       "      <td>58.231014</td>\n",
       "      <td>238.330000</td>\n",
       "      <td>398.000000</td>\n",
       "      <td>135.968035</td>\n",
       "      <td>91.988019</td>\n",
       "    </tr>\n",
       "    <tr>\n",
       "      <th>2004-01-02</th>\n",
       "      <td>6.433505</td>\n",
       "      <td>58.231014</td>\n",
       "      <td>182.915000</td>\n",
       "      <td>346.500000</td>\n",
       "      <td>113.546396</td>\n",
       "      <td>85.237846</td>\n",
       "    </tr>\n",
       "    <tr>\n",
       "      <th>2004-01-03</th>\n",
       "      <td>6.433505</td>\n",
       "      <td>58.231014</td>\n",
       "      <td>136.960411</td>\n",
       "      <td>343.926778</td>\n",
       "      <td>103.336731</td>\n",
       "      <td>103.336731</td>\n",
       "    </tr>\n",
       "    <tr>\n",
       "      <th>2004-01-04</th>\n",
       "      <td>6.433505</td>\n",
       "      <td>58.231014</td>\n",
       "      <td>136.960411</td>\n",
       "      <td>343.926778</td>\n",
       "      <td>103.336731</td>\n",
       "      <td>103.336731</td>\n",
       "    </tr>\n",
       "    <tr>\n",
       "      <th>2004-01-05</th>\n",
       "      <td>6.433505</td>\n",
       "      <td>58.231014</td>\n",
       "      <td>160.000000</td>\n",
       "      <td>340.000000</td>\n",
       "      <td>107.365595</td>\n",
       "      <td>90.715422</td>\n",
       "    </tr>\n",
       "    <tr>\n",
       "      <th>2004-01-06</th>\n",
       "      <td>6.433505</td>\n",
       "      <td>58.231014</td>\n",
       "      <td>141.335000</td>\n",
       "      <td>283.500000</td>\n",
       "      <td>91.634270</td>\n",
       "      <td>98.774930</td>\n",
       "    </tr>\n",
       "    <tr>\n",
       "      <th>2004-01-07</th>\n",
       "      <td>6.433505</td>\n",
       "      <td>58.231014</td>\n",
       "      <td>120.170000</td>\n",
       "      <td>259.000000</td>\n",
       "      <td>82.061584</td>\n",
       "      <td>103.182872</td>\n",
       "    </tr>\n",
       "    <tr>\n",
       "      <th>2004-01-08</th>\n",
       "      <td>6.433505</td>\n",
       "      <td>58.231014</td>\n",
       "      <td>123.165000</td>\n",
       "      <td>303.500000</td>\n",
       "      <td>91.988019</td>\n",
       "      <td>97.611495</td>\n",
       "    </tr>\n",
       "    <tr>\n",
       "      <th>2004-01-09</th>\n",
       "      <td>6.433505</td>\n",
       "      <td>58.231014</td>\n",
       "      <td>103.500000</td>\n",
       "      <td>291.000000</td>\n",
       "      <td>85.237846</td>\n",
       "      <td>88.903987</td>\n",
       "    </tr>\n",
       "    <tr>\n",
       "      <th>2004-01-10</th>\n",
       "      <td>6.433505</td>\n",
       "      <td>58.231014</td>\n",
       "      <td>136.960411</td>\n",
       "      <td>343.926778</td>\n",
       "      <td>103.336731</td>\n",
       "      <td>103.336731</td>\n",
       "    </tr>\n",
       "  </tbody>\n",
       "</table>\n",
       "</div>"
      ],
      "text/plain": [
       "                 so2        no2        rspm         spm         aqi  \\\n",
       "date                                                                  \n",
       "2004-01-01  6.433505  58.231014  238.330000  398.000000  135.968035   \n",
       "2004-01-02  6.433505  58.231014  182.915000  346.500000  113.546396   \n",
       "2004-01-03  6.433505  58.231014  136.960411  343.926778  103.336731   \n",
       "2004-01-04  6.433505  58.231014  136.960411  343.926778  103.336731   \n",
       "2004-01-05  6.433505  58.231014  160.000000  340.000000  107.365595   \n",
       "2004-01-06  6.433505  58.231014  141.335000  283.500000   91.634270   \n",
       "2004-01-07  6.433505  58.231014  120.170000  259.000000   82.061584   \n",
       "2004-01-08  6.433505  58.231014  123.165000  303.500000   91.988019   \n",
       "2004-01-09  6.433505  58.231014  103.500000  291.000000   85.237846   \n",
       "2004-01-10  6.433505  58.231014  136.960411  343.926778  103.336731   \n",
       "\n",
       "                future  \n",
       "date                    \n",
       "2004-01-01   91.988019  \n",
       "2004-01-02   85.237846  \n",
       "2004-01-03  103.336731  \n",
       "2004-01-04  103.336731  \n",
       "2004-01-05   90.715422  \n",
       "2004-01-06   98.774930  \n",
       "2004-01-07  103.182872  \n",
       "2004-01-08   97.611495  \n",
       "2004-01-09   88.903987  \n",
       "2004-01-10  103.336731  "
      ]
     },
     "execution_count": 6,
     "metadata": {},
     "output_type": "execute_result"
    }
   ],
   "source": [
    "main_df.head(10)"
   ]
  },
  {
   "cell_type": "code",
   "execution_count": 7,
   "metadata": {},
   "outputs": [
    {
     "data": {
      "text/html": [
       "<div>\n",
       "<style scoped>\n",
       "    .dataframe tbody tr th:only-of-type {\n",
       "        vertical-align: middle;\n",
       "    }\n",
       "\n",
       "    .dataframe tbody tr th {\n",
       "        vertical-align: top;\n",
       "    }\n",
       "\n",
       "    .dataframe thead th {\n",
       "        text-align: right;\n",
       "    }\n",
       "</style>\n",
       "<table border=\"1\" class=\"dataframe\">\n",
       "  <thead>\n",
       "    <tr style=\"text-align: right;\">\n",
       "      <th></th>\n",
       "      <th>aqi</th>\n",
       "      <th>future</th>\n",
       "      <th>target</th>\n",
       "    </tr>\n",
       "    <tr>\n",
       "      <th>date</th>\n",
       "      <th></th>\n",
       "      <th></th>\n",
       "      <th></th>\n",
       "    </tr>\n",
       "  </thead>\n",
       "  <tbody>\n",
       "    <tr>\n",
       "      <th>2004-01-01</th>\n",
       "      <td>135.968035</td>\n",
       "      <td>91.988019</td>\n",
       "      <td>1</td>\n",
       "    </tr>\n",
       "    <tr>\n",
       "      <th>2004-01-02</th>\n",
       "      <td>113.546396</td>\n",
       "      <td>85.237846</td>\n",
       "      <td>1</td>\n",
       "    </tr>\n",
       "    <tr>\n",
       "      <th>2004-01-03</th>\n",
       "      <td>103.336731</td>\n",
       "      <td>103.336731</td>\n",
       "      <td>1</td>\n",
       "    </tr>\n",
       "    <tr>\n",
       "      <th>2004-01-04</th>\n",
       "      <td>103.336731</td>\n",
       "      <td>103.336731</td>\n",
       "      <td>1</td>\n",
       "    </tr>\n",
       "    <tr>\n",
       "      <th>2004-01-05</th>\n",
       "      <td>107.365595</td>\n",
       "      <td>90.715422</td>\n",
       "      <td>1</td>\n",
       "    </tr>\n",
       "    <tr>\n",
       "      <th>2004-01-06</th>\n",
       "      <td>91.634270</td>\n",
       "      <td>98.774930</td>\n",
       "      <td>0</td>\n",
       "    </tr>\n",
       "    <tr>\n",
       "      <th>2004-01-07</th>\n",
       "      <td>82.061584</td>\n",
       "      <td>103.182872</td>\n",
       "      <td>0</td>\n",
       "    </tr>\n",
       "    <tr>\n",
       "      <th>2004-01-08</th>\n",
       "      <td>91.988019</td>\n",
       "      <td>97.611495</td>\n",
       "      <td>0</td>\n",
       "    </tr>\n",
       "    <tr>\n",
       "      <th>2004-01-09</th>\n",
       "      <td>85.237846</td>\n",
       "      <td>88.903987</td>\n",
       "      <td>0</td>\n",
       "    </tr>\n",
       "    <tr>\n",
       "      <th>2004-01-10</th>\n",
       "      <td>103.336731</td>\n",
       "      <td>103.336731</td>\n",
       "      <td>1</td>\n",
       "    </tr>\n",
       "  </tbody>\n",
       "</table>\n",
       "</div>"
      ],
      "text/plain": [
       "                   aqi      future  target\n",
       "date                                      \n",
       "2004-01-01  135.968035   91.988019       1\n",
       "2004-01-02  113.546396   85.237846       1\n",
       "2004-01-03  103.336731  103.336731       1\n",
       "2004-01-04  103.336731  103.336731       1\n",
       "2004-01-05  107.365595   90.715422       1\n",
       "2004-01-06   91.634270   98.774930       0\n",
       "2004-01-07   82.061584  103.182872       0\n",
       "2004-01-08   91.988019   97.611495       0\n",
       "2004-01-09   85.237846   88.903987       0\n",
       "2004-01-10  103.336731  103.336731       1"
      ]
     },
     "execution_count": 7,
     "metadata": {},
     "output_type": "execute_result"
    }
   ],
   "source": [
    "# mapping fuction classify to new column target\n",
    "main_df['target'] = list(map(classify, main_df[f'{RATIO_TO_PREDICT}'], main_df[\"future\"]))\n",
    "main_df[[f\"{RATIO_TO_PREDICT}\",\"future\",\"target\"]].head(10)"
   ]
  },
  {
   "cell_type": "markdown",
   "metadata": {},
   "source": [
    "## 2. Normalizing, Creating Sequences and Balancing Data"
   ]
  },
  {
   "cell_type": "code",
   "execution_count": 8,
   "metadata": {},
   "outputs": [],
   "source": [
    "times = sorted(main_df.index.values)"
   ]
  },
  {
   "cell_type": "code",
   "execution_count": 9,
   "metadata": {},
   "outputs": [
    {
     "data": {
      "text/plain": [
       "numpy.datetime64('2015-05-27T00:00:00.000000000')"
      ]
     },
     "execution_count": 9,
     "metadata": {},
     "output_type": "execute_result"
    }
   ],
   "source": [
    "# index value at last 5% of the dataset\n",
    "last_5pct = times[-int(0.05 * len(times))]\n",
    "last_5pct"
   ]
  },
  {
   "cell_type": "markdown",
   "metadata": {},
   "source": [
    "### Spliting dataset into training and validation dataset"
   ]
  },
  {
   "cell_type": "code",
   "execution_count": 10,
   "metadata": {},
   "outputs": [],
   "source": [
    "# validation dataframe\n",
    "validation_main_df = main_df[(main_df.index >= last_5pct)]\n",
    "# training dataframe\n",
    "main_df = main_df[(main_df.index < last_5pct)]"
   ]
  },
  {
   "cell_type": "markdown",
   "metadata": {},
   "source": [
    "### Importing relevant librarie"
   ]
  },
  {
   "cell_type": "code",
   "execution_count": 15,
   "metadata": {},
   "outputs": [],
   "source": [
    "from sklearn import preprocessing\n",
    "from collections import deque\n",
    "import numpy as np\n",
    "import random"
   ]
  },
  {
   "cell_type": "markdown",
   "metadata": {},
   "source": [
    "### Defining a function to preprocess our training and validation dataset"
   ]
  },
  {
   "cell_type": "code",
   "execution_count": 16,
   "metadata": {},
   "outputs": [],
   "source": [
    "def preprocess_df(df):\n",
    "    df = df.drop('future',1)\n",
    "    \n",
    "    # scaling expect target column\n",
    "    for col in df.columns:\n",
    "        if col != 'target':\n",
    "            df[col] = df[col].pct_change()\n",
    "            df.dropna(inplace=True)\n",
    "            df[col] = preprocessing.scale(df[col].values)\n",
    "    \n",
    "    df.dropna(inplace=True)\n",
    "    \n",
    "    sequential_data = []\n",
    "    prev_days = deque(maxlen=SEQ_LEN)\n",
    "    \n",
    "    # creating our sequential data\n",
    "    for i in df.values:\n",
    "        prev_days.append([n for n in i[:-1]])\n",
    "        if len(prev_days) == SEQ_LEN:\n",
    "            sequential_data.append([np.array(prev_days), i[-1]])\n",
    "            \n",
    "    #random.shuffle(sequential_data)\n",
    "    \n",
    "    #balancing data\n",
    "    buys = []\n",
    "    sells = []\n",
    "    \n",
    "    for seq,target in sequential_data:\n",
    "        if target == 0:\n",
    "            sells.append([seq,target])\n",
    "        elif target == 1:\n",
    "            buys.append([seq,target])\n",
    "            \n",
    "    random.shuffle(buys)\n",
    "    random.shuffle(sells)\n",
    "    \n",
    "    lower = min(len(buys), len(sells))\n",
    "    \n",
    "    buys = buys[:lower]\n",
    "    sells = sells[:lower]\n",
    "    \n",
    "    sequential_data = buys + sells\n",
    "    random.shuffle(sequential_data)\n",
    "    \n",
    "    X = []\n",
    "    y = []\n",
    "    \n",
    "    for seq,target in sequential_data:\n",
    "        X.append(seq)\n",
    "        y.append(target)\n",
    "    \n",
    "    return np.array(X),y"
   ]
  },
  {
   "cell_type": "markdown",
   "metadata": {},
   "source": [
    "### Preparing our data to feed into neural network"
   ]
  },
  {
   "cell_type": "code",
   "execution_count": 17,
   "metadata": {},
   "outputs": [],
   "source": [
    "train_x, train_y = preprocess_df(main_df)\n",
    "validation_x, validation_y = preprocess_df(validation_main_df)"
   ]
  },
  {
   "cell_type": "code",
   "execution_count": 18,
   "metadata": {},
   "outputs": [
    {
     "name": "stdout",
     "output_type": "stream",
     "text": [
      "train data: 2824 validation: 124\n",
      "dont buys: 1412, buys: 1412\n",
      "validation dont buys: 62, buys: 62\n"
     ]
    }
   ],
   "source": [
    "print(f\"train data: {len(train_x)} validation: {len(validation_x)}\")\n",
    "print(f\"dont buys: {train_y.count(0)}, buys: {train_y.count(1)}\")\n",
    "print(f\"validation dont buys: {validation_y.count(0)}, buys: {validation_y.count(1)}\")"
   ]
  },
  {
   "cell_type": "code",
   "execution_count": 19,
   "metadata": {},
   "outputs": [],
   "source": [
    "train_y = np.asarray(train_y)\n",
    "validation_y = np.asarray(validation_y)"
   ]
  },
  {
   "cell_type": "markdown",
   "metadata": {},
   "source": [
    "## 3. Build and train the model"
   ]
  },
  {
   "cell_type": "code",
   "execution_count": 20,
   "metadata": {},
   "outputs": [],
   "source": [
    "import time\n",
    "import tensorflow as tf\n",
    "from tensorflow.keras.models import Sequential\n",
    "from tensorflow.keras.layers import Dense, Dropout, LSTM, BatchNormalization\n",
    "from tensorflow.keras.callbacks import TensorBoard, ModelCheckpoint"
   ]
  },
  {
   "cell_type": "code",
   "execution_count": 21,
   "metadata": {},
   "outputs": [],
   "source": [
    "EPOCHS = 50\n",
    "BATCH_SIZE = 100\n",
    "NAME = f\"{SEQ_LEN}-SEQ-{FUTURE_PERIOD_PREDICT}-PRED-{int(time.time())}\""
   ]
  },
  {
   "cell_type": "code",
   "execution_count": 22,
   "metadata": {
    "scrolled": true
   },
   "outputs": [
    {
     "name": "stdout",
     "output_type": "stream",
     "text": [
      "Train on 2824 samples, validate on 124 samples\n",
      "Epoch 1/50\n",
      "2824/2824 [==============================] - 383s 136ms/sample - loss: 0.8265 - accuracy: 0.5078 - val_loss: 0.6947 - val_accuracy: 0.5000\n",
      "Epoch 2/50\n",
      "2824/2824 [==============================] - 304s 107ms/sample - loss: 0.7877 - accuracy: 0.5326 - val_loss: 0.6949 - val_accuracy: 0.5000\n",
      "Epoch 3/50\n",
      "2824/2824 [==============================] - 398s 141ms/sample - loss: 0.7494 - accuracy: 0.5220 - val_loss: 0.6944 - val_accuracy: 0.5000\n",
      "Epoch 4/50\n",
      "2824/2824 [==============================] - 320s 113ms/sample - loss: 0.7249 - accuracy: 0.5375 - val_loss: 0.6947 - val_accuracy: 0.5000\n",
      "Epoch 5/50\n",
      "2824/2824 [==============================] - 348s 123ms/sample - loss: 0.7029 - accuracy: 0.5552 - val_loss: 0.6943 - val_accuracy: 0.5000\n",
      "Epoch 6/50\n",
      "2824/2824 [==============================] - 311s 110ms/sample - loss: 0.7077 - accuracy: 0.5482 - val_loss: 0.6943 - val_accuracy: 0.5000\n",
      "Epoch 7/50\n",
      "2824/2824 [==============================] - 292s 103ms/sample - loss: 0.6997 - accuracy: 0.5531 - val_loss: 0.6934 - val_accuracy: 0.5000\n",
      "Epoch 8/50\n",
      "2824/2824 [==============================] - 242s 86ms/sample - loss: 0.6872 - accuracy: 0.5421 - val_loss: 0.6933 - val_accuracy: 0.5000\n",
      "Epoch 9/50\n",
      "2824/2824 [==============================] - 1390s 492ms/sample - loss: 0.6852 - accuracy: 0.5528 - val_loss: 0.6932 - val_accuracy: 0.4677\n",
      "Epoch 10/50\n",
      "2824/2824 [==============================] - 270s 96ms/sample - loss: 0.6848 - accuracy: 0.5358 - val_loss: 0.6932 - val_accuracy: 0.5242\n",
      "Epoch 11/50\n",
      "2824/2824 [==============================] - 285s 101ms/sample - loss: 0.6766 - accuracy: 0.5584 - val_loss: 0.6934 - val_accuracy: 0.5000\n",
      "Epoch 12/50\n",
      "2824/2824 [==============================] - 311s 110ms/sample - loss: 0.6666 - accuracy: 0.5620 - val_loss: 0.6933 - val_accuracy: 0.5000\n",
      "Epoch 13/50\n",
      "2824/2824 [==============================] - 271s 96ms/sample - loss: 0.6666 - accuracy: 0.5719 - val_loss: 0.6933 - val_accuracy: 0.5000\n",
      "Epoch 14/50\n",
      "2824/2824 [==============================] - 237s 84ms/sample - loss: 0.6681 - accuracy: 0.5460 - val_loss: 0.6936 - val_accuracy: 0.5000\n",
      "Epoch 15/50\n",
      "2824/2824 [==============================] - 307s 109ms/sample - loss: 0.6681 - accuracy: 0.5542 - val_loss: 0.6934 - val_accuracy: 0.5000\n",
      "Epoch 16/50\n",
      "2824/2824 [==============================] - 273s 97ms/sample - loss: 0.6584 - accuracy: 0.5648 - val_loss: 0.6935 - val_accuracy: 0.5000\n",
      "Epoch 17/50\n",
      "2824/2824 [==============================] - 340s 120ms/sample - loss: 0.6625 - accuracy: 0.5691 - val_loss: 0.6932 - val_accuracy: 0.5000\n",
      "Epoch 18/50\n",
      "2824/2824 [==============================] - 353s 125ms/sample - loss: 0.6614 - accuracy: 0.5630 - val_loss: 0.6943 - val_accuracy: 0.4919\n",
      "Epoch 19/50\n",
      "2824/2824 [==============================] - 275s 98ms/sample - loss: 0.6531 - accuracy: 0.5680 - val_loss: 0.6935 - val_accuracy: 0.5000\n",
      "Epoch 20/50\n",
      "2824/2824 [==============================] - 329s 116ms/sample - loss: 0.6628 - accuracy: 0.5652 - val_loss: 0.6936 - val_accuracy: 0.5000\n",
      "Epoch 21/50\n",
      "2824/2824 [==============================] - 334s 118ms/sample - loss: 0.6578 - accuracy: 0.5758 - val_loss: 0.6933 - val_accuracy: 0.5000\n",
      "Epoch 22/50\n",
      "2824/2824 [==============================] - 273s 97ms/sample - loss: 0.6604 - accuracy: 0.5737 - val_loss: 0.6935 - val_accuracy: 0.5000\n",
      "Epoch 23/50\n",
      "2824/2824 [==============================] - 260s 92ms/sample - loss: 0.6541 - accuracy: 0.5729 - val_loss: 0.6935 - val_accuracy: 0.5000\n",
      "Epoch 24/50\n",
      "2824/2824 [==============================] - 270s 96ms/sample - loss: 0.6525 - accuracy: 0.5839 - val_loss: 0.6938 - val_accuracy: 0.5000\n",
      "Epoch 25/50\n",
      "2824/2824 [==============================] - 267s 95ms/sample - loss: 0.6587 - accuracy: 0.5630 - val_loss: 0.6940 - val_accuracy: 0.4919\n",
      "Epoch 26/50\n",
      "2824/2824 [==============================] - 270s 96ms/sample - loss: 0.6575 - accuracy: 0.5800 - val_loss: 0.6936 - val_accuracy: 0.5000\n",
      "Epoch 27/50\n",
      "2824/2824 [==============================] - 268s 95ms/sample - loss: 0.6573 - accuracy: 0.5676 - val_loss: 0.6941 - val_accuracy: 0.5000\n",
      "Epoch 28/50\n",
      "2824/2824 [==============================] - 267s 94ms/sample - loss: 0.6517 - accuracy: 0.5744 - val_loss: 0.6947 - val_accuracy: 0.5000\n",
      "Epoch 29/50\n",
      "2824/2824 [==============================] - 290s 103ms/sample - loss: 0.6586 - accuracy: 0.5687 - val_loss: 0.6945 - val_accuracy: 0.5000\n",
      "Epoch 30/50\n",
      "2824/2824 [==============================] - 315s 112ms/sample - loss: 0.6569 - accuracy: 0.5726 - val_loss: 0.6940 - val_accuracy: 0.5000\n",
      "Epoch 31/50\n",
      "2824/2824 [==============================] - 322s 114ms/sample - loss: 0.6569 - accuracy: 0.5783 - val_loss: 0.6936 - val_accuracy: 0.5000\n",
      "Epoch 32/50\n",
      "2824/2824 [==============================] - 326s 115ms/sample - loss: 0.6512 - accuracy: 0.5797 - val_loss: 0.6936 - val_accuracy: 0.5000\n",
      "Epoch 33/50\n",
      "2824/2824 [==============================] - 286s 101ms/sample - loss: 0.6535 - accuracy: 0.5775 - val_loss: 0.6939 - val_accuracy: 0.5000\n",
      "Epoch 34/50\n",
      "2824/2824 [==============================] - 297s 105ms/sample - loss: 0.6544 - accuracy: 0.5754 - val_loss: 0.6942 - val_accuracy: 0.5000\n",
      "Epoch 35/50\n",
      "2824/2824 [==============================] - 275s 97ms/sample - loss: 0.6539 - accuracy: 0.5839 - val_loss: 0.6938 - val_accuracy: 0.5000\n",
      "Epoch 36/50\n",
      "2824/2824 [==============================] - 271s 96ms/sample - loss: 0.6532 - accuracy: 0.5754 - val_loss: 0.6934 - val_accuracy: 0.5000\n",
      "Epoch 37/50\n",
      "2824/2824 [==============================] - 308s 109ms/sample - loss: 0.6507 - accuracy: 0.5758 - val_loss: 0.6933 - val_accuracy: 0.5000\n",
      "Epoch 38/50\n",
      "2824/2824 [==============================] - 312s 111ms/sample - loss: 0.6516 - accuracy: 0.5779 - val_loss: 0.6945 - val_accuracy: 0.5000\n",
      "Epoch 39/50\n",
      "2824/2824 [==============================] - 330s 117ms/sample - loss: 0.6528 - accuracy: 0.5818 - val_loss: 0.6957 - val_accuracy: 0.5000\n",
      "Epoch 40/50\n",
      "2824/2824 [==============================] - 361s 128ms/sample - loss: 0.6545 - accuracy: 0.5751 - val_loss: 0.6944 - val_accuracy: 0.5000\n",
      "Epoch 41/50\n",
      "2824/2824 [==============================] - 297s 105ms/sample - loss: 0.6545 - accuracy: 0.5652 - val_loss: 0.6941 - val_accuracy: 0.5000\n",
      "Epoch 42/50\n",
      "2824/2824 [==============================] - 260s 92ms/sample - loss: 0.6513 - accuracy: 0.5758 - val_loss: 0.6941 - val_accuracy: 0.5000\n",
      "Epoch 43/50\n",
      "2824/2824 [==============================] - 303s 107ms/sample - loss: 0.6542 - accuracy: 0.5772 - val_loss: 0.6945 - val_accuracy: 0.5000\n",
      "Epoch 44/50\n",
      "2824/2824 [==============================] - 306s 108ms/sample - loss: 0.6490 - accuracy: 0.5765 - val_loss: 0.6943 - val_accuracy: 0.5000\n",
      "Epoch 45/50\n",
      "2824/2824 [==============================] - 503s 178ms/sample - loss: 0.6508 - accuracy: 0.5811 - val_loss: 0.6936 - val_accuracy: 0.5000\n",
      "Epoch 46/50\n",
      "2824/2824 [==============================] - 523s 185ms/sample - loss: 0.6511 - accuracy: 0.5744 - val_loss: 0.6934 - val_accuracy: 0.5000\n",
      "Epoch 47/50\n",
      "2824/2824 [==============================] - 410s 145ms/sample - loss: 0.6490 - accuracy: 0.5754 - val_loss: 0.6929 - val_accuracy: 0.5000\n",
      "Epoch 48/50\n",
      "2824/2824 [==============================] - 331s 117ms/sample - loss: 0.6509 - accuracy: 0.5818 - val_loss: 0.6933 - val_accuracy: 0.5000\n",
      "Epoch 49/50\n",
      "2824/2824 [==============================] - 384s 136ms/sample - loss: 0.6498 - accuracy: 0.5871 - val_loss: 0.6943 - val_accuracy: 0.5000\n",
      "Epoch 50/50\n",
      "2824/2824 [==============================] - 354s 125ms/sample - loss: 0.6537 - accuracy: 0.5737 - val_loss: 0.6939 - val_accuracy: 0.5000\n"
     ]
    }
   ],
   "source": [
    "model = Sequential()\n",
    "# input layer\n",
    "model.add(LSTM(128, input_shape=(train_x.shape[1:]), return_sequences=True, activation='relu'))\n",
    "model.add(Dropout(0.2))\n",
    "model.add(BatchNormalization())\n",
    "\n",
    "#hidden layer\n",
    "model.add(LSTM(128, input_shape=(train_x.shape[1:]), return_sequences=True,activation='relu'))\n",
    "model.add(Dropout(0.1))\n",
    "model.add(BatchNormalization())\n",
    "\n",
    "model.add(LSTM(128, input_shape=(train_x.shape[1:]), activation='relu'))\n",
    "model.add(Dropout(0.2))\n",
    "model.add(BatchNormalization())\n",
    "\n",
    "model.add(Dense(32, activation='relu'))\n",
    "model.add(Dropout(0.2))\n",
    "\n",
    "#output layer\n",
    "model.add(Dense(2,activation='softmax'))\n",
    "\n",
    "opt = tf.keras.optimizers.Adam(lr=0.001, decay=1e-6)\n",
    "\n",
    "model.compile(loss='sparse_categorical_crossentropy',\n",
    "             optimizer=opt,\n",
    "             metrics=['accuracy'])\n",
    "\n",
    "\n",
    "history = model.fit(\n",
    "                    train_x, train_y,\n",
    "                    batch_size = BATCH_SIZE,\n",
    "                    epochs=EPOCHS,\n",
    "                    validation_data=(validation_x, validation_y))\n",
    "                    #callbacks=[tensorboard,checkpoint])\n"
   ]
  },
  {
   "cell_type": "code",
   "execution_count": 23,
   "metadata": {},
   "outputs": [
    {
     "data": {
      "image/png": "[encoded data removed]",
      "text/plain": [
       "<Figure size 432x288 with 1 Axes>"
      ]
     },
     "metadata": {
      "needs_background": "light"
     },
     "output_type": "display_data"
    }
   ],
   "source": [
    "import matplotlib.pyplot as plt\n",
    "predicted = model.predict(validation_x)\n",
    "plt.plot(validation_y, color = 'black', label = 'Actual')\n",
    "plt.plot(predicted, color = 'green', label = 'Predicted')\n",
    "plt.title('AQI Prediction')\n",
    "plt.xlabel('Time')\n",
    "plt.ylabel('AQI')\n",
    "plt.legend()\n",
    "plt.show()"
   ]
  },
  {
   "cell_type": "code",
   "execution_count": null,
   "metadata": {},
   "outputs": [],
   "source": [
    "#tensorboard = TensorBoard(log_dir=f\"logs/{NAME}\", profile_batch = 100000000)\n",
    "\n",
    "#filepath = \"RNN_Final-{epoch:02d}\"\n",
    "#checkpoint= ModelCheckpoint(\"models/{}.model\".format(filepath, monitor='val_accuracy', verbose=1, save_best_only=True, mode='max'))\n",
    "#earlystopping = tf.keras.callbacks.EarlyStopping(patience=5, min_delta=1e-3)"
   ]
  }
 ],
 "metadata": {
  "kernelspec": {
   "display_name": "Python 3",
   "language": "python",
   "name": "python3"
  },
  "language_info": {
   "codemirror_mode": {
    "name": "ipython",
    "version": 3
   },
   "file_extension": ".py",
   "mimetype": "text/x-python",
   "name": "python",
   "nbconvert_exporter": "python",
   "pygments_lexer": "ipython3",
   "version": "3.7.7"
  }
 },
 "nbformat": 4,
 "nbformat_minor": 4
}
