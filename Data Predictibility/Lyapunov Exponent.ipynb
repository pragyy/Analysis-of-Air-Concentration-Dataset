{
 "cells": [
  {
   "cell_type": "markdown",
   "metadata": {},
   "source": [
    "# Lyapunov's Exponent"
   ]
  },
  {
   "cell_type": "markdown",
   "metadata": {},
   "source": [
    "## Import relevant libraries"
   ]
  },
  {
   "cell_type": "code",
   "execution_count": 1,
   "metadata": {},
   "outputs": [],
   "source": [
    "import pandas as pd\n",
    "import nolds \n",
    "import matplotlib.pyplot as plt\n",
    "import seaborn as sns\n",
    "sns.set()\n",
    "import warnings "
   ]
  },
  {
   "cell_type": "markdown",
   "metadata": {},
   "source": [
    "## Load the dataset"
   ]
  },
  {
   "cell_type": "code",
   "execution_count": 2,
   "metadata": {},
   "outputs": [
    {
     "data": {
      "text/html": [
       "<div>\n",
       "<style scoped>\n",
       "    .dataframe tbody tr th:only-of-type {\n",
       "        vertical-align: middle;\n",
       "    }\n",
       "\n",
       "    .dataframe tbody tr th {\n",
       "        vertical-align: top;\n",
       "    }\n",
       "\n",
       "    .dataframe thead th {\n",
       "        text-align: right;\n",
       "    }\n",
       "</style>\n",
       "<table border=\"1\" class=\"dataframe\">\n",
       "  <thead>\n",
       "    <tr style=\"text-align: right;\">\n",
       "      <th></th>\n",
       "      <th>so2</th>\n",
       "      <th>no2</th>\n",
       "      <th>rspm</th>\n",
       "      <th>spm</th>\n",
       "    </tr>\n",
       "    <tr>\n",
       "      <th>date</th>\n",
       "      <th></th>\n",
       "      <th></th>\n",
       "      <th></th>\n",
       "      <th></th>\n",
       "    </tr>\n",
       "  </thead>\n",
       "  <tbody>\n",
       "    <tr>\n",
       "      <td>2004-01-01</td>\n",
       "      <td>6.433505</td>\n",
       "      <td>58.231014</td>\n",
       "      <td>238.330000</td>\n",
       "      <td>398.000000</td>\n",
       "    </tr>\n",
       "    <tr>\n",
       "      <td>2004-01-02</td>\n",
       "      <td>6.433505</td>\n",
       "      <td>58.231014</td>\n",
       "      <td>182.915000</td>\n",
       "      <td>346.500000</td>\n",
       "    </tr>\n",
       "    <tr>\n",
       "      <td>2004-01-03</td>\n",
       "      <td>6.433505</td>\n",
       "      <td>58.231014</td>\n",
       "      <td>136.960411</td>\n",
       "      <td>343.926778</td>\n",
       "    </tr>\n",
       "    <tr>\n",
       "      <td>2004-01-04</td>\n",
       "      <td>6.433505</td>\n",
       "      <td>58.231014</td>\n",
       "      <td>136.960411</td>\n",
       "      <td>343.926778</td>\n",
       "    </tr>\n",
       "    <tr>\n",
       "      <td>2004-01-05</td>\n",
       "      <td>6.433505</td>\n",
       "      <td>58.231014</td>\n",
       "      <td>160.000000</td>\n",
       "      <td>340.000000</td>\n",
       "    </tr>\n",
       "  </tbody>\n",
       "</table>\n",
       "</div>"
      ],
      "text/plain": [
       "                 so2        no2        rspm         spm\n",
       "date                                                   \n",
       "2004-01-01  6.433505  58.231014  238.330000  398.000000\n",
       "2004-01-02  6.433505  58.231014  182.915000  346.500000\n",
       "2004-01-03  6.433505  58.231014  136.960411  343.926778\n",
       "2004-01-04  6.433505  58.231014  136.960411  343.926778\n",
       "2004-01-05  6.433505  58.231014  160.000000  340.000000"
      ]
     },
     "execution_count": 2,
     "metadata": {},
     "output_type": "execute_result"
    }
   ],
   "source": [
    "df = pd.read_csv('abc.csv', parse_dates = ['date'], index_col = 'date')\n",
    "df.head()"
   ]
  },
  {
   "cell_type": "markdown",
   "metadata": {},
   "source": [
    "## Creating 1D dataframes"
   ]
  },
  {
   "cell_type": "code",
   "execution_count": 3,
   "metadata": {},
   "outputs": [],
   "source": [
    "no2 = df.no2\n",
    "so2 = df.so2\n",
    "spm = df.spm\n",
    "rspm = df.rspm"
   ]
  },
  {
   "cell_type": "markdown",
   "metadata": {},
   "source": [
    "# Lyapunov's Exponent Calculations"
   ]
  },
  {
   "cell_type": "markdown",
   "metadata": {},
   "source": [
    "The classification of both deterministic and stochastic processes by the\n",
    "Lyapunov exponent is given by:<br>\n",
    "<ul>\n",
    "    <li> $λ(x0) < 0 ⇔ ∆N < ∆0 ⇒ $ <b><i>good predictability</i></b><br>\n",
    "The information about the true position of the data increases due to\n",
    "the reduction of the information area. Consequently, we get a good predictability.</li>\n",
    "    <li>$λ(x0) ≈ 0 ⇔ ∆N ≈ ∆0 ⇒ $ <b><i>predictability like a random walk</i></b><br>\n",
    "Here, the information content levels off. We have neither information loss\n",
    "nor information increase.</li>\n",
    "    <li>$λ(x0) > 0 ⇔ ∆N > ∆0 ⇒ $ <b><i>bad predictability</i></b><br>\n",
    "The information loss about the true position of the data increases over\n",
    "time due to the information area increases. Consequently, we get a bad\n",
    "predictability.</li>\n",
    "</ul>"
   ]
  },
  {
   "cell_type": "markdown",
   "metadata": {},
   "source": [
    "## Nitrogen dioxide"
   ]
  },
  {
   "cell_type": "code",
   "execution_count": 17,
   "metadata": {},
   "outputs": [
    {
     "data": {
      "image/png": "[encoded data removed]",
      "text/plain": [
       "<Figure size 432x288 with 1 Axes>"
      ]
     },
     "metadata": {
      "needs_background": "light"
     },
     "output_type": "display_data"
    }
   ],
   "source": [
    "warnings.simplefilter('ignore')\n",
    "\n",
    "exponent, graph_details = nolds.lyap_r(no2, debug_plot=True, debug_data=True  )\n",
    "plt.show()"
   ]
  },
  {
   "cell_type": "code",
   "execution_count": 18,
   "metadata": {},
   "outputs": [
    {
     "data": {
      "text/plain": [
       "-0.003930704727153612"
      ]
     },
     "execution_count": 18,
     "metadata": {},
     "output_type": "execute_result"
    }
   ],
   "source": [
    "exponent"
   ]
  },
  {
   "cell_type": "code",
   "execution_count": 19,
   "metadata": {},
   "outputs": [
    {
     "data": {
      "text/plain": [
       "(array([ 0,  1,  2,  3,  4,  5,  6,  7,  8,  9, 10, 11, 12, 13, 14, 15, 16,\n",
       "        17, 18, 19]),\n",
       " array([3.79673767, 4.23724794, 4.31978369, 4.29924822, 4.31125736,\n",
       "        4.32245779, 4.22108412, 4.24865723, 4.21201754, 4.26458263,\n",
       "        4.26876116, 4.35078812, 4.2709198 , 4.27924347, 4.26188183,\n",
       "        4.28053331, 4.24066687, 4.28149033, 4.26409197, 4.27864027]),\n",
       " array([-3.93070473e-03,  4.32158695e+00]))"
      ]
     },
     "execution_count": 19,
     "metadata": {},
     "output_type": "execute_result"
    }
   ],
   "source": [
    "graph_details"
   ]
  },
  {
   "cell_type": "markdown",
   "metadata": {},
   "source": [
    "## Sulphur Dioxide"
   ]
  },
  {
   "cell_type": "code",
   "execution_count": 7,
   "metadata": {},
   "outputs": [
    {
     "data": {
      "image/png": "[encoded data removed]",
      "text/plain": [
       "<Figure size 432x288 with 1 Axes>"
      ]
     },
     "metadata": {
      "needs_background": "light"
     },
     "output_type": "display_data"
    }
   ],
   "source": [
    "warnings.simplefilter('ignore')\n",
    "\n",
    "exponent, graph_details = nolds.lyap_r(so2, debug_plot=True, debug_data=True, tau=86400.0  )\n",
    "plt.show()"
   ]
  },
  {
   "cell_type": "code",
   "execution_count": 8,
   "metadata": {},
   "outputs": [
    {
     "data": {
      "text/plain": [
       "6.259258366785646e-08"
      ]
     },
     "execution_count": 8,
     "metadata": {},
     "output_type": "execute_result"
    }
   ],
   "source": [
    "exponent"
   ]
  },
  {
   "cell_type": "code",
   "execution_count": 9,
   "metadata": {},
   "outputs": [
    {
     "data": {
      "text/plain": [
       "(array([ 0,  1,  2,  3,  4,  5,  6,  7,  8,  9, 10, 11, 12, 13, 14, 15, 16,\n",
       "        17, 18, 19]),\n",
       " array([1.72217393, 2.32393551, 2.40860915, 2.3994782 , 2.38013506,\n",
       "        2.40482998, 2.37636375, 2.36164212, 2.36185575, 2.36137342,\n",
       "        2.35201788, 2.3539145 , 2.44178748, 2.44168401, 2.40971541,\n",
       "        2.41888905, 2.37516594, 2.40066171, 2.39954329, 2.44317007]),\n",
       " array([0.005408  , 2.32168873]))"
      ]
     },
     "execution_count": 9,
     "metadata": {},
     "output_type": "execute_result"
    }
   ],
   "source": [
    "graph_details"
   ]
  },
  {
   "cell_type": "markdown",
   "metadata": {},
   "source": [
    "## Suspended Particulate Matter"
   ]
  },
  {
   "cell_type": "code",
   "execution_count": 10,
   "metadata": {},
   "outputs": [
    {
     "data": {
      "image/png": "[encoded data removed]",
      "text/plain": [
       "<Figure size 432x288 with 1 Axes>"
      ]
     },
     "metadata": {
      "needs_background": "light"
     },
     "output_type": "display_data"
    }
   ],
   "source": [
    "warnings.simplefilter('ignore')\n",
    "\n",
    "exponent, graph_details = nolds.lyap_r(spm, debug_plot=True, debug_data=True, tau=86400.0  )\n",
    "plt.show()"
   ]
  },
  {
   "cell_type": "code",
   "execution_count": 11,
   "metadata": {},
   "outputs": [
    {
     "data": {
      "text/plain": [
       "4.7037278381366356e-08"
      ]
     },
     "execution_count": 11,
     "metadata": {},
     "output_type": "execute_result"
    }
   ],
   "source": [
    "exponent"
   ]
  },
  {
   "cell_type": "code",
   "execution_count": 12,
   "metadata": {},
   "outputs": [
    {
     "data": {
      "text/plain": [
       "(array([ 0,  1,  2,  3,  4,  5,  6,  7,  8,  9, 10, 11, 12, 13, 14, 15, 16,\n",
       "        17, 18, 19]),\n",
       " array([5.3287158 , 5.86052179, 5.89587021, 5.9537735 , 5.92923164,\n",
       "        5.88340378, 5.8781867 , 5.89792109, 5.92821646, 5.90194893,\n",
       "        5.91303968, 5.85307455, 5.93410683, 5.90273905, 5.9182024 ,\n",
       "        5.97734356, 5.91101408, 5.96319675, 5.92766237, 5.95413685]),\n",
       " array([4.06402085e-03, 5.86083839e+00]))"
      ]
     },
     "execution_count": 12,
     "metadata": {},
     "output_type": "execute_result"
    }
   ],
   "source": [
    "graph_details"
   ]
  },
  {
   "cell_type": "markdown",
   "metadata": {},
   "source": [
    "## Residual Suspended Particulate Matter"
   ]
  },
  {
   "cell_type": "code",
   "execution_count": 13,
   "metadata": {},
   "outputs": [
    {
     "data": {
      "image/png": "[encoded data removed]",
      "text/plain": [
       "<Figure size 432x288 with 1 Axes>"
      ]
     },
     "metadata": {
      "needs_background": "light"
     },
     "output_type": "display_data"
    }
   ],
   "source": [
    "warnings.simplefilter('ignore')\n",
    "\n",
    "exponent, graph_details = nolds.lyap_r(rspm, debug_plot=True, debug_data=True, tau=86400.0  )\n",
    "plt.show()"
   ]
  },
  {
   "cell_type": "code",
   "execution_count": 14,
   "metadata": {},
   "outputs": [
    {
     "data": {
      "text/plain": [
       "3.900087333178925e-08"
      ]
     },
     "execution_count": 14,
     "metadata": {},
     "output_type": "execute_result"
    }
   ],
   "source": [
    "exponent"
   ]
  },
  {
   "cell_type": "code",
   "execution_count": 15,
   "metadata": {},
   "outputs": [
    {
     "data": {
      "text/plain": [
       "(array([ 0,  1,  2,  3,  4,  5,  6,  7,  8,  9, 10, 11, 12, 13, 14, 15, 16,\n",
       "        17, 18, 19]),\n",
       " array([5.05257177, 5.64931774, 5.70501423, 5.69787598, 5.71560526,\n",
       "        5.72737312, 5.7141428 , 5.70244932, 5.69926119, 5.71502161,\n",
       "        5.72324562, 5.72073078, 5.73666906, 5.72367001, 5.71064711,\n",
       "        5.72038698, 5.7464776 , 5.73218489, 5.76425314, 5.75406981]),\n",
       " array([3.36967546e-03, 5.69085903e+00]))"
      ]
     },
     "execution_count": 15,
     "metadata": {},
     "output_type": "execute_result"
    }
   ],
   "source": [
    "graph_details"
   ]
  },
  {
   "cell_type": "markdown",
   "metadata": {},
   "source": [
    "### Reference\n",
    "\n",
    "<a>https://link.springer.com/chapter/10.1007/3-540-28084-7_75</a>"
   ]
  }
 ],
 "metadata": {
  "kernelspec": {
   "display_name": "Python 3",
   "language": "python",
   "name": "python3"
  },
  "language_info": {
   "codemirror_mode": {
    "name": "ipython",
    "version": 3
   },
   "file_extension": ".py",
   "mimetype": "text/x-python",
   "name": "python",
   "nbconvert_exporter": "python",
   "pygments_lexer": "ipython3",
   "version": "3.7.4"
  }
 },
 "nbformat": 4,
 "nbformat_minor": 2
}
